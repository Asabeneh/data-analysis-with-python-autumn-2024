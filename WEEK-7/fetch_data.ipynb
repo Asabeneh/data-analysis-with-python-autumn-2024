{
 "cells": [
  {
   "cell_type": "markdown",
   "id": "53464702-b931-4bd8-a18c-e46f24291342",
   "metadata": {},
   "source": [
    "# Data Analysis with Python\n",
    "In this lesson we will learn about NumPy, Pandas and matplotlib"
   ]
  },
  {
   "cell_type": "markdown",
   "id": "b170614c-c0ad-4fd1-9551-eb89b93a8bdc",
   "metadata": {},
   "source": [
    "### Print() funcrion \n",
    "\n",
    "```\n",
    "print('I love python')\n",
    "```\n",
    "\n"
   ]
  },
  {
   "cell_type": "code",
   "execution_count": 68,
   "id": "52bc7c12-93ab-4078-bcad-53a312c98550",
   "metadata": {},
   "outputs": [],
   "source": [
    "# pip install wordcloud\n"
   ]
  },
  {
   "cell_type": "code",
   "execution_count": 69,
   "id": "3873d8fd-29ac-4983-be0d-9a3a47cb67ff",
   "metadata": {},
   "outputs": [],
   "source": [
    "'''\n",
    "Importing the most common data related packages\n",
    "\n",
    "'''\n",
    "import numpy as np\n",
    "import pandas as pd\n",
    "import re\n",
    "from wordcloud import WordCloud, STOPWORDS\n",
    "import matplotlib.pyplot as pltA\n",
    "import scipy\n",
    "import sklearn\n",
    "from pprint import pprint"
   ]
  },
  {
   "cell_type": "code",
   "execution_count": 70,
   "id": "eee69b26-7234-47f6-b22e-d3bbf210dec4",
   "metadata": {},
   "outputs": [],
   "source": [
    "# Fetching data from API using requests \n",
    "def fetch_data(url):\n",
    "    import requests\n",
    "    response = requests.get(url)\n",
    "    data = response.json()\n",
    "    return data"
   ]
  },
  {
   "cell_type": "markdown",
   "id": "5a0e7339-2b4c-4b77-8add-4ec5660a91a3",
   "metadata": {},
   "source": [
    "### Cats' Life span"
   ]
  },
  {
   "cell_type": "code",
   "execution_count": 57,
   "id": "8b68ee86-8c6a-46f2-b8b7-41d3e92877c3",
   "metadata": {},
   "outputs": [
    {
     "name": "stdout",
     "output_type": "stream",
     "text": [
      "13.746268656716419\n"
     ]
    }
   ],
   "source": [
    "\n",
    "url = 'https://api.thecatapi.com/v1/breeds'\n",
    "data = fetch_data(url)\n",
    "years = []\n",
    "for cat in data:\n",
    "    mn,mx = cat['life_span'].split(' - ')\n",
    "    average = (int(mn) + int(mx)) / 2\n",
    "    years.append(average)\n",
    "total_average = sum(years) / len(years)\n",
    "print(total_average)\n",
    "    "
   ]
  },
  {
   "cell_type": "markdown",
   "id": "75540ece-f0b0-42c7-b1bd-6f2d034377f6",
   "metadata": {},
   "source": [
    "### Word cloud"
   ]
  },
  {
   "cell_type": "code",
   "execution_count": 73,
   "id": "c0b96768-5688-4660-a8f5-ae245696c3a9",
   "metadata": {},
   "outputs": [
    {
     "name": "stdout",
     "output_type": "stream",
     "text": [
      "['the', 'abyssinian', 'is', 'easy', 'to', 'care', 'for', 'and', 'a', 'joy', 'to', 'have', 'in', 'your', 'home', 'they', 're', 'affectionate', 'cats', 'and', 'love', 'both', 'people', 'and', 'other', 'animals', 'native', 'to', 'the', 'greek', 'islands', 'known', 'as', 'the', 'cyclades', 'in', 'the', 'aegean', 'sea', 'these', 'are', 'natural', 'cats', 'meaning', 'they', 'developed', 'without', 'humans', 'getting', 'involved', 'in', 'their', 'breeding', 'as', 'a', 'breed', 'aegean', 'cats', 'are', 'rare', 'although', 'they', 'are', 'numerous', 'on', 'their', 'home', 'islands', 'they', 'are', 'generally', 'friendly', 'toward', 'people', 'and', 'can', 'be', 'excellent', 'cats', 'for', 'families', 'with', 'children', 'american', 'bobtails', 'are', 'loving', 'and', 'incredibly', 'intelligent', 'cats', 'possessing', 'a', 'distinctive', 'wild', 'appearance', 'they', 'are', 'extremely', 'interactive', 'cats', 'that', 'bond', 'with', 'their', 'human', 'family', 'with', 'great', 'devotion', 'distinguished', 'by', 'truly', 'unique', 'ears', 'that', 'curl', 'back', 'in', 'a', 'graceful', 'arc', 'offering', 'an', 'alert', 'perky', 'happily', 'surprised', 'expression', 'they', 'cause', 'people', 'to', 'break', 'out', 'into', 'a', 'big', 'smile', 'when', 'viewing', 'their', 'first', 'curl', 'curls', 'are', 'very', 'people', 'oriented', 'faithful', 'affectionate', 'soulmates', 'adjusting', 'remarkably', 'fast', 'to', 'other', 'pets', 'children', 'and', 'new', 'situations', 'the', 'american', 'shorthair', 'is', 'known', 'for', 'its', 'longevity', 'robust', 'health', 'good', 'looks', 'sweet', 'personality', 'and', 'amiability', 'with', 'children', 'dogs', 'and', 'other', 'pets', 'the', 'american', 'wirehair', 'tends', 'to', 'be', 'a', 'calm', 'and', 'tolerant', 'cat', 'who', 'takes', 'life', 'as', 'it', 'comes', 'his', 'favorite', 'hobby', 'is', 'bird', 'watching', 'from', 'a', 'sunny', 'windowsill', 'and', 'his', 'hunting', 'ability', 'will', 'stand', 'you', 'in', 'good', 'stead', 'if', 'insects', 'enter', 'the', 'house', 'arabian', 'mau', 'cats', 'are', 'social', 'and', 'energetic', 'due', 'to', 'their', 'energy', 'levels', 'these', 'cats', 'do', 'best', 'in', 'homes', 'where', 'their', 'owners', 'will', 'be', 'able', 'to', 'provide', 'them', 'with', 'plenty', 'of', 'playtime', 'attention', 'and', 'interaction', 'from', 'their', 'owners', 'these', 'kitties', 'are', 'friendly', 'intelligent', 'and', 'adaptable', 'and', 'will', 'even', 'get', 'along', 'well', 'with', 'other', 'pets', 'and', 'children', 'the', 'australian', 'mist', 'thrives', 'on', 'human', 'companionship', 'tolerant', 'of', 'even', 'the', 'youngest', 'of', 'children', 'these', 'friendly', 'felines', 'enjoy', 'playing', 'games', 'and', 'being', 'part', 'of', 'the', 'hustle', 'and', 'bustle', 'of', 'a', 'busy', 'household', 'they', 'make', 'entertaining', 'companions', 'for', 'people', 'of', 'all', 'ages', 'and', 'are', 'happy', 'to', 'remain', 'indoors', 'between', 'dusk', 'and', 'dawn', 'or', 'to', 'be', 'wholly', 'indoor', 'pets', 'balinese', 'are', 'curious', 'outgoing', 'intelligent', 'cats', 'with', 'excellent', 'communication', 'skills', 'they', 'are', 'known', 'for', 'their', 'chatty', 'personalities', 'and', 'are', 'always', 'eager', 'to', 'tell', 'you', 'their', 'views', 'on', 'life', 'love', 'and', 'what', 'you', 've', 'served', 'them', 'for', 'dinner', 'the', 'bambino', 'is', 'a', 'breed', 'of', 'cat', 'that', 'was', 'created', 'as', 'a', 'cross', 'between', 'the', 'sphynx', 'and', 'the', 'munchkin', 'breeds', 'the', 'bambino', 'cat', 'has', 'short', 'legs', 'large', 'upright', 'ears', 'and', 'is', 'usually', 'hairless', 'they', 'love', 'to', 'be', 'handled', 'and', 'cuddled', 'up', 'on', 'the', 'laps', 'of', 'their', 'family', 'members', 'bengals', 'are', 'a', 'lot', 'of', 'fun', 'to', 'live', 'with', 'but', 'they', 're', 'definitely', 'not', 'the', 'cat', 'for', 'everyone', 'or', 'for', 'first', 'time', 'cat', 'owners', 'extremely', 'intelligent', 'curious', 'and', 'active', 'they', 'demand', 'a', 'lot', 'of', 'interaction', 'and', 'woe', 'betide', 'the', 'owner', 'who', 'doesn', 't', 'provide', 'it', 'the', 'birman', 'is', 'a', 'docile', 'quiet', 'cat', 'who', 'loves', 'people', 'and', 'will', 'follow', 'them', 'from', 'room', 'to', 'room', 'expect', 'the', 'birman', 'to', 'want', 'to', 'be', 'involved', 'in', 'what', 'you', 're', 'doing', 'he', 'communicates', 'in', 'a', 'soft', 'voice', 'mainly', 'to', 'remind', 'you', 'that', 'perhaps', 'it', 's', 'time', 'for', 'dinner', 'or', 'maybe', 'for', 'a', 'nice', 'cuddle', 'on', 'the', 'sofa', 'he', 'enjoys', 'being', 'held', 'and', 'will', 'relax', 'in', 'your', 'arms', 'like', 'a', 'furry', 'baby', 'the', 'the', 'golden', 'eyes', 'and', 'the', 'shiny', 'black', 'coa', 'of', 'the', 'bopmbay', 'is', 'absolutely', 'striking', 'likely', 'to', 'bond', 'most', 'with', 'one', 'family', 'member', 'the', 'bombay', 'will', 'follow', 'you', 'from', 'room', 'to', 'room', 'and', 'will', 'almost', 'always', 'have', 'something', 'to', 'say', 'about', 'what', 'you', 'are', 'doing', 'loving', 'attention', 'and', 'to', 'be', 'carried', 'around', 'often', 'on', 'his', 'caregiver', 's', 'shoulder', 'the', 'british', 'longhair', 'is', 'a', 'very', 'laid', 'back', 'relaxed', 'cat', 'often', 'perceived', 'to', 'be', 'very', 'independent', 'although', 'they', 'will', 'enjoy', 'the', 'company', 'of', 'an', 'equally', 'relaxed', 'and', 'likeminded', 'cat', 'they', 'are', 'an', 'affectionate', 'breed', 'but', 'very', 'much', 'on', 'their', 'own', 'terms', 'and', 'tend', 'to', 'prefer', 'to', 'choose', 'to', 'come', 'and', 'sit', 'with', 'their', 'owners', 'rather', 'than', 'being', 'picked', 'up', 'the', 'british', 'shorthair', 'is', 'a', 'very', 'pleasant', 'cat', 'to', 'have', 'as', 'a', 'companion', 'ans', 'is', 'easy', 'going', 'and', 'placid', 'the', 'british', 'is', 'a', 'fiercely', 'loyal', 'loving', 'cat', 'and', 'will', 'attach', 'herself', 'to', 'every', 'one', 'of', 'her', 'family', 'members', 'while', 'loving', 'to', 'play', 'she', 'doesn', 't', 'need', 'hourly', 'attention', 'if', 'she', 'is', 'in', 'the', 'mood', 'to', 'play', 'she', 'will', 'find', 'someone', 'and', 'bring', 'a', 'toy', 'to', 'that', 'person', 'the', 'british', 'also', 'plays', 'well', 'by', 'herself', 'and', 'thus', 'is', 'a', 'good', 'companion', 'for', 'single', 'people', 'burmese', 'love', 'being', 'with', 'people', 'playing', 'with', 'them', 'and', 'keeping', 'them', 'entertained', 'they', 'crave', 'close', 'physical', 'contact', 'and', 'abhor', 'an', 'empty', 'lap', 'they', 'will', 'follow', 'their', 'humans', 'from', 'room', 'to', 'room', 'and', 'sleep', 'in', 'bed', 'with', 'them', 'preferably', 'under', 'the', 'covers', 'cuddled', 'as', 'close', 'as', 'possible', 'at', 'play', 'they', 'will', 'turn', 'around', 'to', 'see', 'if', 'their', 'human', 'is', 'watching', 'and', 'being', 'entertained', 'by', 'their', 'crazy', 'antics', 'the', 'burmilla', 'is', 'a', 'fairly', 'placid', 'cat', 'she', 'tends', 'to', 'be', 'an', 'easy', 'cat', 'to', 'get', 'along', 'with', 'requiring', 'minimal', 'care', 'the', 'burmilla', 'is', 'affectionate', 'and', 'sweet', 'and', 'makes', 'a', 'good', 'companion', 'the', 'burmilla', 'is', 'an', 'ideal', 'companion', 'to', 'while', 'away', 'a', 'lonely', 'evening', 'loyal', 'devoted', 'and', 'affectionate', 'this', 'cat', 'will', 'stay', 'by', 'its', 'owner', 'always', 'keeping', 'them', 'company', 'perhaps', 'the', 'only', 'thing', 'about', 'the', 'california', 'spangled', 'cat', 'that', 'isn', 't', 'wild', 'like', 'is', 'its', 'personality', 'known', 'to', 'be', 'affectionate', 'gentle', 'and', 'sociable', 'this', 'breed', 'enjoys', 'spending', 'a', 'great', 'deal', 'of', 'time', 'with', 'its', 'owners', 'they', 'are', 'very', 'playful', 'often', 'choosing', 'to', 'perch', 'in', 'high', 'locations', 'and', 'show', 'off', 'their', 'acrobatic', 'skills', 'the', 'chantilly', 'is', 'a', 'devoted', 'companion', 'and', 'prefers', 'company', 'to', 'being', 'left', 'alone', 'while', 'the', 'chantilly', 'is', 'not', 'demanding', 'she', 'will', 'chirp', 'and', 'talk', 'as', 'if', 'having', 'a', 'conversation', 'this', 'breed', 'is', 'affectionate', 'with', 'a', 'sweet', 'temperament', 'it', 'can', 'stay', 'still', 'for', 'extended', 'periods', 'happily', 'lounging', 'in', 'the', 'lap', 'of', 'its', 'loved', 'one', 'this', 'quality', 'makes', 'the', 'tiffany', 'an', 'ideal', 'traveling', 'companion', 'and', 'an', 'ideal', 'house', 'companion', 'for', 'senior', 'citizens', 'and', 'the', 'physically', 'handicapped', 'the', 'chartreux', 'is', 'generally', 'silent', 'but', 'communicative', 'short', 'play', 'sessions', 'mixed', 'with', 'naps', 'and', 'meals', 'are', 'their', 'perfect', 'day', 'whilst', 'appreciating', 'any', 'attention', 'you', 'give', 'them', 'they', 'are', 'not', 'demanding', 'content', 'instead', 'to', 'follow', 'you', 'around', 'devotedly', 'sleep', 'on', 'your', 'bed', 'and', 'snuggle', 'with', 'you', 'if', 'you', 're', 'not', 'feeling', 'well', 'for', 'those', 'owners', 'who', 'desire', 'a', 'feline', 'capable', 'of', 'evoking', 'the', 'great', 'outdoors', 'the', 'strikingly', 'beautiful', 'chausie', 'retains', 'a', 'bit', 'of', 'the', 'wild', 'in', 'its', 'appearance', 'but', 'has', 'the', 'house', 'manners', 'of', 'our', 'friendly', 'familiar', 'moggies', 'very', 'playful', 'this', 'cat', 'needs', 'a', 'large', 'amount', 'of', 'space', 'to', 'be', 'able', 'to', 'fully', 'embrace', 'its', 'hunting', 'instincts', 'the', 'cheetoh', 'has', 'a', 'super', 'affectionate', 'nature', 'and', 'real', 'love', 'for', 'their', 'human', 'companions', 'they', 'are', 'intelligent', 'with', 'the', 'ability', 'to', 'learn', 'quickly', 'you', 'can', 'expect', 'that', 'a', 'cheetoh', 'will', 'be', 'a', 'fun', 'loving', 'kitty', 'who', 'enjoys', 'playing', 'running', 'and', 'jumping', 'through', 'every', 'room', 'in', 'your', 'house', 'colorpoint', 'shorthairs', 'are', 'an', 'affectionate', 'breed', 'devoted', 'and', 'loyal', 'to', 'their', 'people', 'sensitive', 'to', 'their', 'owner', 's', 'moods', 'colorpoints', 'are', 'more', 'than', 'happy', 'to', 'sit', 'at', 'your', 'side', 'or', 'on', 'your', 'lap', 'and', 'purr', 'words', 'of', 'encouragement', 'on', 'a', 'bad', 'day', 'they', 'will', 'constantly', 'seek', 'out', 'your', 'lap', 'whenever', 'it', 'is', 'open', 'and', 'in', 'the', 'moments', 'when', 'your', 'lap', 'is', 'preoccupied', 'they', 'will', 'stretch', 'out', 'in', 'sunny', 'spots', 'on', 'the', 'ground', 'this', 'is', 'a', 'confident', 'cat', 'who', 'loves', 'people', 'and', 'will', 'follow', 'them', 'around', 'waiting', 'for', 'any', 'opportunity', 'to', 'sit', 'in', 'a', 'lap', 'or', 'give', 'a', 'kiss', 'he', 'enjoys', 'being', 'handled', 'making', 'it', 'easy', 'to', 'take', 'him', 'to', 'the', 'veterinarian', 'or', 'train', 'him', 'for', 'therapy', 'work', 'the', 'cornish', 'rex', 'stay', 'in', 'kitten', 'mode', 'most', 'of', 'their', 'lives', 'and', 'well', 'into', 'their', 'senior', 'years', 'the', 'cymric', 'is', 'a', 'placid', 'sweet', 'cat', 'they', 'do', 'not', 'get', 'too', 'upset', 'about', 'anything', 'that', 'happens', 'in', 'their', 'world', 'they', 'are', 'loving', 'companions', 'and', 'adore', 'people', 'they', 'are', 'smart', 'and', 'dexterous', 'capable', 'of', 'using', 'his', 'paws', 'to', 'get', 'into', 'cabinets', 'or', 'to', 'open', 'doors', 'loving', 'loyal', 'social', 'and', 'inquisitive', 'the', 'cyprus', 'cat', 'forms', 'strong', 'ties', 'with', 'their', 'families', 'and', 'love', 'nothing', 'more', 'than', 'to', 'be', 'involved', 'in', 'everything', 'that', 'goes', 'on', 'in', 'their', 'surroundings', 'they', 'are', 'not', 'overly', 'active', 'by', 'nature', 'which', 'makes', 'them', 'the', 'perfect', 'companion', 'for', 'people', 'who', 'would', 'like', 'to', 'share', 'their', 'homes', 'with', 'a', 'laid', 'back', 'relaxed', 'feline', 'companion', 'the', 'favourite', 'perch', 'of', 'the', 'devon', 'rex', 'is', 'right', 'at', 'head', 'level', 'on', 'the', 'shoulder', 'of', 'her', 'favorite', 'person', 'she', 'takes', 'a', 'lively', 'interest', 'in', 'everything', 'that', 'is', 'going', 'on', 'and', 'refuses', 'to', 'be', 'left', 'out', 'of', 'any', 'activity', 'count', 'on', 'her', 'to', 'stay', 'as', 'close', 'to', 'you', 'as', 'possible', 'occasionally', 'communicating', 'his', 'opinions', 'in', 'a', 'quiet', 'voice', 'she', 'loves', 'people', 'and', 'welcomes', 'the', 'attentions', 'of', 'friends', 'and', 'family', 'alike', 'donskoy', 'are', 'affectionate', 'intelligent', 'and', 'easy', 'going', 'they', 'demand', 'lots', 'of', 'attention', 'and', 'interaction', 'the', 'donskoy', 'also', 'gets', 'along', 'well', 'with', 'other', 'pets', 'it', 'is', 'now', 'thought', 'the', 'same', 'gene', 'that', 'causes', 'degrees', 'of', 'hairlessness', 'in', 'the', 'donskoy', 'also', 'causes', 'alterations', 'in', 'cat', 'personality', 'making', 'them', 'calmer', 'the', 'less', 'hair', 'they', 'have', 'the', 'dragon', 'li', 'is', 'loyal', 'but', 'not', 'particularly', 'affectionate', 'they', 'are', 'known', 'to', 'be', 'very', 'intelligent', 'and', 'their', 'natural', 'breed', 'status', 'means', 'that', 'they', 're', 'very', 'active', 'she', 'is', 'is', 'gentle', 'with', 'people', 'and', 'has', 'a', 'reputation', 'as', 'a', 'talented', 'hunter', 'of', 'rats', 'and', 'other', 'vermin', 'the', 'egyptian', 'mau', 'is', 'gentle', 'and', 'reserved', 'she', 'loves', 'her', 'people', 'and', 'desires', 'attention', 'and', 'affection', 'from', 'them', 'but', 'is', 'wary', 'of', 'others', 'early', 'continuing', 'socialization', 'is', 'essential', 'with', 'this', 'sensitive', 'and', 'sometimes', 'shy', 'cat', 'especially', 'if', 'you', 'plan', 'to', 'show', 'or', 'travel', 'with', 'her', 'otherwise', 'she', 'can', 'be', 'easily', 'startled', 'by', 'unexpected', 'noises', 'or', 'events', 'the', 'european', 'burmese', 'is', 'a', 'very', 'affectionate', 'intelligent', 'and', 'loyal', 'cat', 'they', 'thrive', 'on', 'companionship', 'and', 'will', 'want', 'to', 'be', 'with', 'you', 'participating', 'in', 'everything', 'you', 'do', 'while', 'they', 'might', 'pick', 'a', 'favorite', 'family', 'member', 'chances', 'are', 'that', 'they', 'will', 'interact', 'with', 'everyone', 'in', 'the', 'home', 'as', 'well', 'as', 'any', 'visitors', 'that', 'come', 'to', 'call', 'they', 'are', 'inquisitive', 'and', 'playful', 'even', 'as', 'adults', 'the', 'exotic', 'shorthair', 'is', 'a', 'gentle', 'friendly', 'cat', 'that', 'has', 'the', 'same', 'personality', 'as', 'the', 'persian', 'they', 'love', 'having', 'fun', 'don', 't', 'mind', 'the', 'company', 'of', 'other', 'cats', 'and', 'dogs', 'also', 'love', 'to', 'curl', 'up', 'for', 'a', 'sleep', 'in', 'a', 'safe', 'place', 'exotics', 'love', 'their', 'own', 'people', 'but', 'around', 'strangers', 'they', 'are', 'cautious', 'at', 'first', 'given', 'time', 'they', 'usually', 'warm', 'up', 'to', 'visitors', 'the', 'havana', 'brown', 'is', 'human', 'oriented', 'playful', 'and', 'curious', 'she', 'has', 'a', 'strong', 'desire', 'to', 'spend', 'time', 'with', 'her', 'people', 'and', 'involve', 'herself', 'in', 'everything', 'they', 'do', 'being', 'naturally', 'inquisitive', 'the', 'havana', 'brown', 'reaches', 'out', 'with', 'a', 'paw', 'to', 'touch', 'and', 'feel', 'when', 'investigating', 'curiosities', 'in', 'its', 'environment', 'they', 'are', 'truly', 'sensitive', 'by', 'nature', 'and', 'frequently', 'gently', 'touch', 'their', 'human', 'companions', 'as', 'if', 'they', 'are', 'extending', 'a', 'paw', 'of', 'friendship', 'calm', 'and', 'devoted', 'himalayans', 'make', 'excellent', 'companions', 'though', 'they', 'prefer', 'a', 'quieter', 'home', 'they', 'are', 'playful', 'in', 'a', 'sedate', 'kind', 'of', 'way', 'and', 'enjoy', 'having', 'an', 'assortment', 'of', 'toys', 'the', 'himalayan', 'will', 'stretch', 'out', 'next', 'to', 'you', 'sleep', 'in', 'your', 'bed', 'and', 'even', 'sit', 'on', 'your', 'lap', 'when', 'she', 'is', 'in', 'the', 'mood', 'the', 'japanese', 'bobtail', 'is', 'an', 'active', 'sweet', 'loving', 'and', 'highly', 'intelligent', 'breed', 'they', 'love', 'to', 'be', 'with', 'people', 'and', 'play', 'seemingly', 'endlessly', 'they', 'learn', 'their', 'name', 'and', 'respond', 'to', 'it', 'they', 'bring', 'toys', 'to', 'people', 'and', 'play', 'fetch', 'with', 'a', 'favorite', 'toy', 'for', 'hours', 'bobtails', 'are', 'social', 'and', 'are', 'at', 'their', 'best', 'when', 'in', 'the', 'company', 'of', 'people', 'they', 'take', 'over', 'the', 'house', 'and', 'are', 'not', 'intimidated', 'if', 'a', 'dog', 'is', 'in', 'the', 'house', 'bobtails', 'assume', 'bobtails', 'are', 'in', 'charge', 'javanese', 'are', 'endlessly', 'interested', 'intelligent', 'and', 'active', 'they', 'tend', 'to', 'enjoy', 'jumping', 'to', 'great', 'heights', 'playing', 'with', 'fishing', 'pole', 'type', 'or', 'other', 'interactive', 'toys', 'and', 'just', 'generally', 'investigating', 'their', 'surroundings', 'he', 'will', 'attempt', 'to', 'copy', 'things', 'you', 'do', 'such', 'as', 'opening', 'doors', 'or', 'drawers', 'the', 'khao', 'manee', 'is', 'highly', 'intelligent', 'with', 'an', 'extrovert', 'and', 'inquisitive', 'nature', 'however', 'they', 'are', 'also', 'very', 'calm', 'and', 'relaxed', 'making', 'them', 'an', 'idea', 'lap', 'cat', 'the', 'korat', 'is', 'a', 'natural', 'breed', 'and', 'one', 'of', 'the', 'oldest', 'stable', 'cat', 'breeds', 'they', 'are', 'highly', 'intelligent', 'and', 'confident', 'cats', 'that', 'can', 'be', 'fearless', 'although', 'they', 'are', 'startled', 'by', 'loud', 'sounds', 'and', 'sudden', 'movements', 'korats', 'form', 'strong', 'bonds', 'with', 'their', 'people', 'and', 'like', 'to', 'cuddle', 'and', 'stay', 'nearby', 'the', 'character', 'of', 'the', 'kurilian', 'bobtail', 'is', 'independent', 'highly', 'intelligent', 'clever', 'inquisitive', 'sociable', 'playful', 'trainable', 'absent', 'of', 'aggression', 'and', 'very', 'gentle', 'they', 'are', 'devoted', 'to', 'their', 'humans', 'and', 'when', 'allowed', 'are', 'either', 'on', 'the', 'lap', 'of', 'or', 'sleeping', 'in', 'bed', 'with', 'their', 'owners', 'laperms', 'are', 'gentle', 'and', 'affectionate', 'but', 'also', 'very', 'active', 'unlike', 'many', 'active', 'breeds', 'the', 'laperm', 'is', 'also', 'quite', 'content', 'to', 'be', 'a', 'lap', 'cat', 'the', 'laperm', 'will', 'often', 'follow', 'your', 'lead', 'that', 'is', 'if', 'they', 'are', 'busy', 'playing', 'and', 'you', 'decide', 'to', 'sit', 'and', 'relax', 'simply', 'pick', 'up', 'your', 'laperm', 'and', 'sit', 'down', 'with', 'it', 'and', 'it', 'will', 'stay', 'in', 'your', 'lap', 'devouring', 'the', 'attention', 'you', 'give', 'it', 'they', 'are', 'known', 'for', 'their', 'size', 'and', 'luxurious', 'long', 'coat', 'maine', 'coons', 'are', 'considered', 'a', 'gentle', 'giant', 'the', 'good', 'natured', 'and', 'affable', 'maine', 'coon', 'adapts', 'well', 'to', 'many', 'lifestyles', 'and', 'personalities', 'she', 'likes', 'being', 'with', 'people', 'and', 'has', 'the', 'habit', 'of', 'following', 'them', 'around', 'but', 'isn', 't', 'needy', 'most', 'maine', 'coons', 'love', 'water', 'and', 'they', 'can', 'be', 'quite', 'good', 'swimmers', 'malayans', 'love', 'to', 'explore', 'and', 'even', 'enjoy', 'traveling', 'by', 'way', 'of', 'a', 'cat', 'carrier', 'they', 'are', 'quite', 'a', 'talkative', 'and', 'rather', 'loud', 'cat', 'with', 'an', 'apparent', 'strong', 'will', 'these', 'cats', 'will', 'make', 'sure', 'that', 'you', 'give', 'it', 'the', 'attention', 'it', 'seeks', 'and', 'always', 'seem', 'to', 'want', 'to', 'be', 'held', 'and', 'hugged', 'they', 'will', 'constantly', 'interact', 'with', 'people', 'even', 'strangers', 'they', 'love', 'to', 'play', 'and', 'cuddle', 'the', 'manx', 'is', 'a', 'placid', 'sweet', 'cat', 'that', 'is', 'gentle', 'and', 'playful', 'she', 'never', 'seems', 'to', 'get', 'too', 'upset', 'about', 'anything', 'she', 'is', 'a', 'loving', 'companion', 'and', 'adores', 'being', 'with', 'people', 'the', 'munchkin', 'is', 'an', 'outgoing', 'cat', 'who', 'enjoys', 'being', 'handled', 'she', 'has', 'lots', 'of', 'energy', 'and', 'is', 'faster', 'and', 'more', 'agile', 'than', 'she', 'looks', 'the', 'shortness', 'of', 'their', 'legs', 'does', 'not', 'seem', 'to', 'interfere', 'with', 'their', 'running', 'and', 'leaping', 'abilities', 'the', 'nebelung', 'may', 'have', 'a', 'reserved', 'nature', 'but', 'she', 'loves', 'to', 'play', 'being', 'especially', 'fond', 'of', 'retrieving', 'and', 'enjoys', 'jumping', 'or', 'climbing', 'to', 'high', 'places', 'where', 'she', 'can', 'study', 'people', 'and', 'situations', 'at', 'her', 'leisure', 'before', 'making', 'up', 'her', 'mind', 'about', 'whether', 'she', 'wants', 'to', 'get', 'involved', 'the', 'norwegian', 'forest', 'cat', 'is', 'a', 'sweet', 'loving', 'cat', 'she', 'appreciates', 'praise', 'and', 'loves', 'to', 'interact', 'with', 'her', 'parent', 'she', 'makes', 'a', 'loving', 'companion', 'and', 'bonds', 'with', 'her', 'parents', 'once', 'she', 'accepts', 'them', 'for', 'her', 'own', 'she', 'is', 'still', 'a', 'hunter', 'at', 'heart', 'she', 'loves', 'to', 'chase', 'toys', 'as', 'if', 'they', 'are', 'real', 'she', 'is', 'territorial', 'and', 'patrols', 'several', 'times', 'each', 'day', 'to', 'make', 'certain', 'that', 'all', 'is', 'fine', 'loyal', 'and', 'devoted', 'to', 'their', 'owners', 'the', 'ocicat', 'is', 'intelligent', 'confident', 'outgoing', 'and', 'seems', 'to', 'have', 'many', 'dog', 'traits', 'they', 'can', 'be', 'trained', 'to', 'fetch', 'toys', 'walk', 'on', 'a', 'lead', 'taught', 'to', 'speak', 'come', 'when', 'called', 'and', 'follow', 'other', 'commands', 'orientals', 'are', 'passionate', 'about', 'the', 'people', 'in', 'their', 'lives', 'they', 'become', 'extremely', 'attached', 'to', 'their', 'humans', 'so', 'be', 'prepared', 'for', 'a', 'lifetime', 'commitment', 'when', 'you', 'are', 'not', 'available', 'to', 'entertain', 'her', 'an', 'oriental', 'will', 'divert', 'herself', 'by', 'jumping', 'on', 'top', 'of', 'the', 'refrigerator', 'opening', 'drawers', 'seeking', 'out', 'new', 'hideaways', 'persians', 'are', 'sweet', 'gentle', 'cats', 'that', 'can', 'be', 'playful', 'or', 'quiet', 'and', 'laid', 'back', 'great', 'with', 'families', 'and', 'children', 'they', 'absolutely', 'love', 'to', 'lounge', 'around', 'the', 'house', 'while', 'they', 'don', 't', 'mind', 'a', 'full', 'house', 'or', 'active', 'kids', 'they', 'll', 'usually', 'hide', 'when', 'they', 'need', 'some', 'alone', 'time', 'companionable', 'and', 'affectionate', 'the', 'pixie', 'bob', 'wants', 'to', 'be', 'an', 'integral', 'part', 'of', 'the', 'family', 'the', 'pixie', 'bob', 's', 'ability', 'to', 'bond', 'with', 'their', 'humans', 'along', 'with', 'their', 'patient', 'personas', 'make', 'them', 'excellent', 'companions', 'for', 'children', 'the', 'ragamuffin', 'is', 'calm', 'even', 'tempered', 'and', 'gets', 'along', 'well', 'with', 'all', 'family', 'members', 'changes', 'in', 'routine', 'generally', 'do', 'not', 'upset', 'her', 'she', 'is', 'an', 'ideal', 'companion', 'for', 'those', 'in', 'apartments', 'and', 'with', 'children', 'due', 'to', 'her', 'patient', 'nature', 'ragdolls', 'love', 'their', 'people', 'greeting', 'them', 'at', 'the', 'door', 'following', 'them', 'around', 'the', 'house', 'and', 'leaping', 'into', 'a', 'lap', 'or', 'snuggling', 'in', 'bed', 'whenever', 'given', 'the', 'chance', 'they', 'are', 'the', 'epitome', 'of', 'a', 'lap', 'cat', 'enjoy', 'being', 'carried', 'and', 'collapsing', 'into', 'the', 'arms', 'of', 'anyone', 'who', 'holds', 'them', 'russian', 'blues', 'are', 'very', 'loving', 'and', 'reserved', 'they', 'do', 'not', 'like', 'noisy', 'households', 'but', 'they', 'do', 'like', 'to', 'play', 'and', 'can', 'be', 'quite', 'active', 'when', 'outdoors', 'they', 'bond', 'very', 'closely', 'with', 'their', 'owner', 'and', 'are', 'known', 'to', 'be', 'compatible', 'with', 'other', 'pets', 'savannah', 'is', 'the', 'feline', 'version', 'of', 'a', 'dog', 'actively', 'seeking', 'social', 'interaction', 'they', 'are', 'given', 'to', 'pouting', 'if', 'left', 'out', 'remaining', 'kitten', 'like', 'through', 'life', 'profoundly', 'loyal', 'to', 'immediate', 'family', 'members', 'whilst', 'questioning', 'the', 'presence', 'of', 'strangers', 'making', 'excellent', 'companions', 'that', 'are', 'loyal', 'intelligent', 'and', 'eager', 'to', 'be', 'involved', 'the', 'scottish', 'fold', 'is', 'a', 'sweet', 'charming', 'breed', 'she', 'is', 'an', 'easy', 'cat', 'to', 'live', 'with', 'and', 'to', 'care', 'for', 'she', 'is', 'affectionate', 'and', 'is', 'comfortable', 'with', 'all', 'members', 'of', 'her', 'family', 'her', 'tail', 'should', 'be', 'handled', 'gently', 'folds', 'are', 'known', 'for', 'sleeping', 'on', 'their', 'backs', 'and', 'for', 'sitting', 'with', 'their', 'legs', 'stretched', 'out', 'and', 'their', 'paws', 'on', 'their', 'belly', 'this', 'is', 'called', 'the', 'buddha', 'position', 'the', 'selkirk', 'rex', 'is', 'an', 'incredibly', 'patient', 'loving', 'and', 'tolerant', 'breed', 'the', 'selkirk', 'also', 'has', 'a', 'silly', 'side', 'and', 'is', 'sometimes', 'described', 'as', 'clownish', 'she', 'loves', 'being', 'a', 'lap', 'cat', 'and', 'will', 'be', 'happy', 'to', 'chat', 'with', 'you', 'in', 'a', 'quiet', 'voice', 'if', 'you', 'talk', 'to', 'her', 'while', 'siamese', 'cats', 'are', 'extremely', 'fond', 'of', 'their', 'people', 'they', 'will', 'follow', 'you', 'around', 'and', 'supervise', 'your', 'every', 'move', 'being', 'talkative', 'and', 'opinionated', 'they', 'are', 'a', 'demanding', 'and', 'social', 'cat', 'that', 'do', 'not', 'like', 'being', 'left', 'alone', 'for', 'long', 'periods', 'the', 'siberians', 'dog', 'like', 'temperament', 'and', 'affection', 'makes', 'the', 'ideal', 'lap', 'cat', 'and', 'will', 'live', 'quite', 'happily', 'indoors', 'very', 'agile', 'and', 'powerful', 'the', 'siberian', 'cat', 'can', 'easily', 'leap', 'and', 'reach', 'high', 'places', 'including', 'the', 'tops', 'of', 'refrigerators', 'and', 'even', 'doors', 'the', 'singapura', 'is', 'usually', 'cautious', 'when', 'it', 'comes', 'to', 'meeting', 'new', 'people', 'but', 'loves', 'attention', 'from', 'his', 'family', 'so', 'much', 'that', 'she', 'sometimes', 'has', 'the', 'reputation', 'of', 'being', 'a', 'pest', 'this', 'is', 'a', 'highly', 'active', 'curious', 'and', 'affectionate', 'cat', 'she', 'may', 'be', 'small', 'but', 'she', 'knows', 'she', 's', 'in', 'charge', 'the', 'snowshoe', 'is', 'a', 'vibrant', 'energetic', 'affectionate', 'and', 'intelligent', 'cat', 'they', 'love', 'being', 'around', 'people', 'which', 'makes', 'them', 'ideal', 'for', 'families', 'and', 'becomes', 'unhappy', 'when', 'left', 'alone', 'for', 'long', 'periods', 'of', 'time', 'usually', 'attaching', 'themselves', 'to', 'one', 'person', 'they', 'do', 'whatever', 'they', 'can', 'to', 'get', 'your', 'attention', 'the', 'somali', 'lives', 'life', 'to', 'the', 'fullest', 'he', 'climbs', 'higher', 'jumps', 'farther', 'plays', 'harder', 'nothing', 'escapes', 'the', 'notice', 'of', 'this', 'highly', 'intelligent', 'and', 'inquisitive', 'cat', 'somalis', 'love', 'the', 'company', 'of', 'humans', 'and', 'other', 'animals', 'the', 'sphynx', 'is', 'an', 'intelligent', 'inquisitive', 'extremely', 'friendly', 'people', 'oriented', 'breed', 'sphynx', 'commonly', 'greet', 'their', 'owners', 'at', 'the', 'front', 'door', 'with', 'obvious', 'excitement', 'and', 'happiness', 'she', 'has', 'an', 'unexpected', 'sense', 'of', 'humor', 'that', 'is', 'often', 'at', 'odds', 'with', 'her', 'dour', 'expression', 'intelligent', 'and', 'generous', 'with', 'their', 'affection', 'a', 'tonkinese', 'will', 'supervise', 'all', 'activities', 'with', 'curiosity', 'loving', 'social', 'active', 'playful', 'yet', 'content', 'to', 'be', 'a', 'lap', 'cat', 'the', 'toyger', 'has', 'a', 'sweet', 'calm', 'personality', 'and', 'is', 'generally', 'friendly', 'he', 's', 'outgoing', 'enough', 'to', 'walk', 'on', 'a', 'leash', 'energetic', 'enough', 'to', 'play', 'fetch', 'and', 'other', 'interactive', 'games', 'and', 'confident', 'enough', 'to', 'get', 'along', 'with', 'other', 'cats', 'and', 'friendly', 'dogs', 'this', 'is', 'a', 'smart', 'and', 'intelligent', 'cat', 'which', 'bonds', 'well', 'with', 'humans', 'with', 'its', 'affectionate', 'and', 'playful', 'personality', 'the', 'angora', 'is', 'a', 'top', 'choice', 'for', 'families', 'the', 'angora', 'gets', 'along', 'great', 'with', 'other', 'pets', 'in', 'the', 'home', 'but', 'it', 'will', 'make', 'clear', 'who', 'is', 'in', 'charge', 'and', 'who', 'the', 'house', 'belongs', 'to', 'while', 'the', 'turkish', 'van', 'loves', 'to', 'jump', 'and', 'climb', 'play', 'with', 'toys', 'retrieve', 'and', 'play', 'chase', 'she', 'is', 'is', 'big', 'and', 'ungainly', 'this', 'is', 'one', 'cat', 'who', 'doesn', 't', 'always', 'land', 'on', 'his', 'feet', 'while', 'not', 'much', 'of', 'a', 'lap', 'cat', 'the', 'van', 'will', 'be', 'happy', 'to', 'cuddle', 'next', 'to', 'you', 'and', 'sleep', 'in', 'your', 'bed', 'york', 'chocolate', 'cats', 'are', 'known', 'to', 'be', 'true', 'lap', 'cats', 'with', 'a', 'sweet', 'temperament', 'they', 'love', 'to', 'be', 'cuddled', 'and', 'petted', 'their', 'curious', 'nature', 'makes', 'them', 'follow', 'you', 'all', 'the', 'time', 'and', 'participate', 'in', 'almost', 'everything', 'you', 'do', 'even', 'if', 'it', 's', 'related', 'to', 'water', 'unlike', 'many', 'other', 'cats', 'york', 'chocolates', 'love', 'it']\n",
      "{\"don't\", 'ourselves', 'over', 'same', 'there', \"shouldn't\", 'any', 'have', 'to', 'get', 'does', 'those', 'off', \"she'll\", 'while', 'can', 'he', 'an', 'as', 'yourself', \"they'll\", \"she'd\", 'down', \"shan't\", \"we've\", \"hasn't\", 'which', \"she's\", 'it', \"it's\", 'just', 'how', \"can't\", 'yours', 'himself', 'few', 'each', \"didn't\", \"hadn't\", 'ought', \"when's\", \"let's\", 'its', \"i'll\", \"we'd\", 'their', 'www', 'has', 'all', 'under', 'if', \"that's\", 'ever', 'him', 'who', 'hence', 'r', \"wouldn't\", \"i'm\", 'other', 'however', 'yourselves', 'a', \"here's\", 'nor', \"where's\", 'com', 'against', \"i've\", 'themselves', 'about', 'me', 'than', 'own', \"who's\", 'his', \"haven't\", 'had', \"why's\", 'be', 'did', 'she', \"there's\", 'why', 'also', 'and', 'both', 'until', 'is', 'like', 'theirs', 'her', 'they', 'being', \"we'll\", \"he'd\", 'when', 'into', \"mustn't\", 'else', 'not', 'could', 'for', 'the', 'where', 'them', 'that', 'my', 'shall', 'below', \"wasn't\", \"you'd\", 'in', 'your', 'do', 'before', 'only', 'because', \"they're\", \"they've\", 'up', \"you'll\", 'such', 'since', \"couldn't\", 'having', 'therefore', 'with', 'would', 'were', 'further', 'myself', \"what's\", 'been', 'very', \"isn't\", \"weren't\", 'of', 'again', 'too', 'during', 'here', \"he'll\", 'no', 'http', 'our', 'but', 'should', 'this', 'herself', 'more', 'itself', 'most', 'you', \"you're\", \"you've\", 'some', 'cannot', 'at', 'by', 'ours', 'k', 'through', 'out', 'we', 'whom', 'these', 'otherwise', \"won't\", \"they'd\", 'on', \"doesn't\", \"i'd\", 'above', 'hers', 'from', \"aren't\", 'once', 'then', 'am', 'doing', 'what', 'between', 'after', 'was', 'so', 'i', \"how's\", 'or', \"he's\", 'are', \"we're\"}\n"
     ]
    }
   ],
   "source": [
    "txt = ''\n",
    "for cat in data:\n",
    "    description = cat['description']\n",
    "    txt +=' ' + description\n",
    "\n",
    "\n",
    "# pattern = r'[^A-Za-z0-9]+'\n",
    "pattern = r'\\W+'\n",
    "cleaned_txt = re.sub(pattern, ' ',  txt).lower()\n",
    "words = cleaned_txt.split()\n",
    "print(words)\n",
    "# print(cleaned_txt)\n",
    "print(STOPWORDS)\n",
    "\n",
    "# wordcloud = WordCloud(width = 800, height = 800,\n",
    "#                 background_color ='white',\n",
    "#                 stopwords = stopwords,\n",
    "#                 min_font_size = 10).generate(comment_words)\n",
    "\n"
   ]
  },
  {
   "cell_type": "code",
   "execution_count": null,
   "id": "e647e1f0-7848-4b99-83f5-ca054c24cc35",
   "metadata": {},
   "outputs": [],
   "source": []
  },
  {
   "cell_type": "code",
   "execution_count": null,
   "id": "6afd1fb9-b39e-4d1c-a436-f910169a70c2",
   "metadata": {},
   "outputs": [],
   "source": []
  }
 ],
 "metadata": {
  "kernelspec": {
   "display_name": "Python 3 (ipykernel)",
   "language": "python",
   "name": "python3"
  },
  "language_info": {
   "codemirror_mode": {
    "name": "ipython",
    "version": 3
   },
   "file_extension": ".py",
   "mimetype": "text/x-python",
   "name": "python",
   "nbconvert_exporter": "python",
   "pygments_lexer": "ipython3",
   "version": "3.11.7"
  }
 },
 "nbformat": 4,
 "nbformat_minor": 5
}
