{
 "cells": [
  {
   "cell_type": "code",
   "execution_count": 1,
   "id": "e257e5af-1897-47ad-84e7-9add7305f4b8",
   "metadata": {},
   "outputs": [
    {
     "name": "stdout",
     "output_type": "stream",
     "text": [
      "1.26.4\n"
     ]
    }
   ],
   "source": [
    "import numpy as np\n",
    "import pandas as pd\n",
    "import matplotlib.pyplot as plt\n",
    "import seaborn as snb\n",
    "snb.set()\n",
    "\n",
    "print(np.__version__)"
   ]
  },
  {
   "cell_type": "code",
   "execution_count": 2,
   "id": "d1e3b4b1-b251-4389-9548-173e9c901dfb",
   "metadata": {},
   "outputs": [],
   "source": [
    "lst = [1, 2, 3, 4, 5]\n",
    "tpl = (1, 2,3,4,5, 5)\n"
   ]
  },
  {
   "cell_type": "code",
   "execution_count": 3,
   "id": "71bc06dd-8f98-49c4-a4b0-3941326b9298",
   "metadata": {},
   "outputs": [],
   "source": [
    "arr = np.array(lst)"
   ]
  },
  {
   "cell_type": "code",
   "execution_count": 4,
   "id": "87e2d598-45dc-4647-b291-b76abd6b0e6b",
   "metadata": {},
   "outputs": [
    {
     "data": {
      "text/plain": [
       "array([1, 2, 3, 4, 5])"
      ]
     },
     "execution_count": 4,
     "metadata": {},
     "output_type": "execute_result"
    }
   ],
   "source": [
    "arr"
   ]
  },
  {
   "cell_type": "code",
   "execution_count": 5,
   "id": "b33e9723-ca01-4c16-a4a3-8c75eb9080ae",
   "metadata": {},
   "outputs": [
    {
     "data": {
      "text/plain": [
       "array([ 2,  4,  6,  8, 10])"
      ]
     },
     "execution_count": 5,
     "metadata": {},
     "output_type": "execute_result"
    }
   ],
   "source": [
    "arr * 2"
   ]
  },
  {
   "cell_type": "code",
   "execution_count": 6,
   "id": "f9637847-e924-4ce7-a50a-5a0b8870b3e0",
   "metadata": {},
   "outputs": [
    {
     "data": {
      "text/plain": [
       "array([0.01, 0.02, 0.03, 0.04, 0.05])"
      ]
     },
     "execution_count": 6,
     "metadata": {},
     "output_type": "execute_result"
    }
   ],
   "source": [
    "arr / 100"
   ]
  },
  {
   "cell_type": "code",
   "execution_count": 7,
   "id": "b7b43a18-c305-4fc3-9f50-28f4cd846655",
   "metadata": {},
   "outputs": [],
   "source": [
    "arr = np.array(tpl)"
   ]
  },
  {
   "cell_type": "code",
   "execution_count": 8,
   "id": "86f9c4ac-8f8c-46df-bd3b-6e2c0e4f6eb6",
   "metadata": {},
   "outputs": [
    {
     "data": {
      "text/plain": [
       "array([100, 200, 300, 400, 500, 500])"
      ]
     },
     "execution_count": 8,
     "metadata": {},
     "output_type": "execute_result"
    }
   ],
   "source": [
    "arr * 100"
   ]
  },
  {
   "cell_type": "code",
   "execution_count": 9,
   "id": "cda95eac-3659-4754-84a9-415b61822a3f",
   "metadata": {},
   "outputs": [],
   "source": [
    "arr = np.array(lst, dtype='str')"
   ]
  },
  {
   "cell_type": "code",
   "execution_count": 10,
   "id": "e86bfdda-7d6f-4e74-aada-4057da593607",
   "metadata": {},
   "outputs": [
    {
     "data": {
      "text/plain": [
       "array(['1', '2', '3', '4', '5'], dtype='<U1')"
      ]
     },
     "execution_count": 10,
     "metadata": {},
     "output_type": "execute_result"
    }
   ],
   "source": [
    "arr"
   ]
  },
  {
   "cell_type": "code",
   "execution_count": 11,
   "id": "8ac6ead0-6c52-42a7-a589-2745b362ffd2",
   "metadata": {},
   "outputs": [],
   "source": [
    "lst_of_lsts = [[0, 1, 2], [3,4,5],[6,7,8]]\n",
    "arr = np.array(lst_of_lsts)"
   ]
  },
  {
   "cell_type": "code",
   "execution_count": 12,
   "id": "3697d0eb-90a4-46bf-9306-9ce03487e454",
   "metadata": {},
   "outputs": [
    {
     "data": {
      "text/plain": [
       "array([[0, 1, 2],\n",
       "       [3, 4, 5],\n",
       "       [6, 7, 8]])"
      ]
     },
     "execution_count": 12,
     "metadata": {},
     "output_type": "execute_result"
    }
   ],
   "source": [
    "arr"
   ]
  },
  {
   "cell_type": "code",
   "execution_count": 13,
   "id": "7d571bc1-8ded-4fde-b3ef-509d845cc1ff",
   "metadata": {},
   "outputs": [
    {
     "data": {
      "text/plain": [
       "array([[0, 1, 2],\n",
       "       [3, 4, 5],\n",
       "       [6, 7, 8]])"
      ]
     },
     "execution_count": 13,
     "metadata": {},
     "output_type": "execute_result"
    }
   ],
   "source": [
    "arr[::]"
   ]
  },
  {
   "cell_type": "code",
   "execution_count": 14,
   "id": "d95c5d7a-d5c5-4fa3-84d1-35e45dcbd3b4",
   "metadata": {},
   "outputs": [
    {
     "data": {
      "text/plain": [
       "array([3])"
      ]
     },
     "execution_count": 14,
     "metadata": {},
     "output_type": "execute_result"
    }
   ],
   "source": [
    "arr[1,:1:2]"
   ]
  },
  {
   "cell_type": "code",
   "execution_count": 15,
   "id": "6c31038d-30e9-446d-96da-52d99abdba4b",
   "metadata": {},
   "outputs": [
    {
     "data": {
      "text/plain": [
       "array([], shape=(0, 3), dtype=int32)"
      ]
     },
     "execution_count": 15,
     "metadata": {},
     "output_type": "execute_result"
    }
   ],
   "source": [
    "arr[1:1]"
   ]
  },
  {
   "cell_type": "code",
   "execution_count": 16,
   "id": "a5d30d8f-27a1-4354-a0ef-a60c730ed7b0",
   "metadata": {},
   "outputs": [
    {
     "data": {
      "text/plain": [
       "(3, 3)"
      ]
     },
     "execution_count": 16,
     "metadata": {},
     "output_type": "execute_result"
    }
   ],
   "source": [
    "arr.shape"
   ]
  },
  {
   "cell_type": "code",
   "execution_count": 17,
   "id": "ed32ab19-21a5-4f9e-8088-8ca2a96ebc2d",
   "metadata": {},
   "outputs": [
    {
     "data": {
      "text/plain": [
       "2"
      ]
     },
     "execution_count": 17,
     "metadata": {},
     "output_type": "execute_result"
    }
   ],
   "source": [
    "arr.ndim"
   ]
  },
  {
   "cell_type": "code",
   "execution_count": 18,
   "id": "4b6acacc-73bb-4d6f-b46d-1a853f17d998",
   "metadata": {},
   "outputs": [
    {
     "data": {
      "text/plain": [
       "['T',\n",
       " '__abs__',\n",
       " '__add__',\n",
       " '__and__',\n",
       " '__array__',\n",
       " '__array_finalize__',\n",
       " '__array_function__',\n",
       " '__array_interface__',\n",
       " '__array_prepare__',\n",
       " '__array_priority__',\n",
       " '__array_struct__',\n",
       " '__array_ufunc__',\n",
       " '__array_wrap__',\n",
       " '__bool__',\n",
       " '__class__',\n",
       " '__class_getitem__',\n",
       " '__complex__',\n",
       " '__contains__',\n",
       " '__copy__',\n",
       " '__deepcopy__',\n",
       " '__delattr__',\n",
       " '__delitem__',\n",
       " '__dir__',\n",
       " '__divmod__',\n",
       " '__dlpack__',\n",
       " '__dlpack_device__',\n",
       " '__doc__',\n",
       " '__eq__',\n",
       " '__float__',\n",
       " '__floordiv__',\n",
       " '__format__',\n",
       " '__ge__',\n",
       " '__getattribute__',\n",
       " '__getitem__',\n",
       " '__getstate__',\n",
       " '__gt__',\n",
       " '__hash__',\n",
       " '__iadd__',\n",
       " '__iand__',\n",
       " '__ifloordiv__',\n",
       " '__ilshift__',\n",
       " '__imatmul__',\n",
       " '__imod__',\n",
       " '__imul__',\n",
       " '__index__',\n",
       " '__init__',\n",
       " '__init_subclass__',\n",
       " '__int__',\n",
       " '__invert__',\n",
       " '__ior__',\n",
       " '__ipow__',\n",
       " '__irshift__',\n",
       " '__isub__',\n",
       " '__iter__',\n",
       " '__itruediv__',\n",
       " '__ixor__',\n",
       " '__le__',\n",
       " '__len__',\n",
       " '__lshift__',\n",
       " '__lt__',\n",
       " '__matmul__',\n",
       " '__mod__',\n",
       " '__mul__',\n",
       " '__ne__',\n",
       " '__neg__',\n",
       " '__new__',\n",
       " '__or__',\n",
       " '__pos__',\n",
       " '__pow__',\n",
       " '__radd__',\n",
       " '__rand__',\n",
       " '__rdivmod__',\n",
       " '__reduce__',\n",
       " '__reduce_ex__',\n",
       " '__repr__',\n",
       " '__rfloordiv__',\n",
       " '__rlshift__',\n",
       " '__rmatmul__',\n",
       " '__rmod__',\n",
       " '__rmul__',\n",
       " '__ror__',\n",
       " '__rpow__',\n",
       " '__rrshift__',\n",
       " '__rshift__',\n",
       " '__rsub__',\n",
       " '__rtruediv__',\n",
       " '__rxor__',\n",
       " '__setattr__',\n",
       " '__setitem__',\n",
       " '__setstate__',\n",
       " '__sizeof__',\n",
       " '__str__',\n",
       " '__sub__',\n",
       " '__subclasshook__',\n",
       " '__truediv__',\n",
       " '__xor__',\n",
       " 'all',\n",
       " 'any',\n",
       " 'argmax',\n",
       " 'argmin',\n",
       " 'argpartition',\n",
       " 'argsort',\n",
       " 'astype',\n",
       " 'base',\n",
       " 'byteswap',\n",
       " 'choose',\n",
       " 'clip',\n",
       " 'compress',\n",
       " 'conj',\n",
       " 'conjugate',\n",
       " 'copy',\n",
       " 'ctypes',\n",
       " 'cumprod',\n",
       " 'cumsum',\n",
       " 'data',\n",
       " 'diagonal',\n",
       " 'dot',\n",
       " 'dtype',\n",
       " 'dump',\n",
       " 'dumps',\n",
       " 'fill',\n",
       " 'flags',\n",
       " 'flat',\n",
       " 'flatten',\n",
       " 'getfield',\n",
       " 'imag',\n",
       " 'item',\n",
       " 'itemset',\n",
       " 'itemsize',\n",
       " 'max',\n",
       " 'mean',\n",
       " 'min',\n",
       " 'nbytes',\n",
       " 'ndim',\n",
       " 'newbyteorder',\n",
       " 'nonzero',\n",
       " 'partition',\n",
       " 'prod',\n",
       " 'ptp',\n",
       " 'put',\n",
       " 'ravel',\n",
       " 'real',\n",
       " 'repeat',\n",
       " 'reshape',\n",
       " 'resize',\n",
       " 'round',\n",
       " 'searchsorted',\n",
       " 'setfield',\n",
       " 'setflags',\n",
       " 'shape',\n",
       " 'size',\n",
       " 'sort',\n",
       " 'squeeze',\n",
       " 'std',\n",
       " 'strides',\n",
       " 'sum',\n",
       " 'swapaxes',\n",
       " 'take',\n",
       " 'tobytes',\n",
       " 'tofile',\n",
       " 'tolist',\n",
       " 'tostring',\n",
       " 'trace',\n",
       " 'transpose',\n",
       " 'var',\n",
       " 'view']"
      ]
     },
     "execution_count": 18,
     "metadata": {},
     "output_type": "execute_result"
    }
   ],
   "source": [
    "dir(arr)"
   ]
  },
  {
   "cell_type": "code",
   "execution_count": 19,
   "id": "5a7ab8d0-d0c9-43cd-8d69-a6b39e9dad1b",
   "metadata": {},
   "outputs": [],
   "source": [
    "lst = [3, 4, 2, 5, 6, 8, 0, 1]\n",
    "arr = np.array(lst)"
   ]
  },
  {
   "cell_type": "code",
   "execution_count": 20,
   "id": "bdcc9ecb-6254-4551-af48-a5cc65ee2514",
   "metadata": {},
   "outputs": [
    {
     "data": {
      "text/plain": [
       "(8,)"
      ]
     },
     "execution_count": 20,
     "metadata": {},
     "output_type": "execute_result"
    }
   ],
   "source": [
    "arr.shape\n"
   ]
  },
  {
   "cell_type": "code",
   "execution_count": 21,
   "id": "79bfdbd3-d03d-47e0-8255-850251fcaa98",
   "metadata": {},
   "outputs": [
    {
     "data": {
      "text/plain": [
       "1"
      ]
     },
     "execution_count": 21,
     "metadata": {},
     "output_type": "execute_result"
    }
   ],
   "source": [
    "arr.ndim"
   ]
  },
  {
   "cell_type": "code",
   "execution_count": 22,
   "id": "bfe3ecfa-75c3-429d-9783-06097cbefe67",
   "metadata": {},
   "outputs": [
    {
     "data": {
      "text/plain": [
       "dtype('int32')"
      ]
     },
     "execution_count": 22,
     "metadata": {},
     "output_type": "execute_result"
    }
   ],
   "source": [
    "arr.dtype"
   ]
  },
  {
   "cell_type": "code",
   "execution_count": 354,
   "id": "fd3b776e-4a0b-42ac-81af-aadc78ce0ad2",
   "metadata": {},
   "outputs": [
    {
     "data": {
      "text/plain": [
       "8"
      ]
     },
     "execution_count": 354,
     "metadata": {},
     "output_type": "execute_result"
    }
   ],
   "source": [
    "arr.size"
   ]
  },
  {
   "cell_type": "code",
   "execution_count": 355,
   "id": "7b5f19d0-dd56-45d9-8b11-3215bf1c4a07",
   "metadata": {},
   "outputs": [
    {
     "data": {
      "text/plain": [
       "4"
      ]
     },
     "execution_count": 355,
     "metadata": {},
     "output_type": "execute_result"
    }
   ],
   "source": [
    "arr.itemsize"
   ]
  },
  {
   "cell_type": "code",
   "execution_count": 356,
   "id": "7ba738cb-49ba-4177-9a91-803d7c1778b4",
   "metadata": {},
   "outputs": [
    {
     "data": {
      "text/plain": [
       "array([[1, 2, 3],\n",
       "       [4, 5, 6],\n",
       "       [7, 8, 9]])"
      ]
     },
     "execution_count": 356,
     "metadata": {},
     "output_type": "execute_result"
    }
   ],
   "source": [
    "lst = [[1, 2, 3], [4, 5, 6], [7, 8, 9]]\n",
    "arr = np.array(lst)\n",
    "arr"
   ]
  },
  {
   "cell_type": "code",
   "execution_count": 357,
   "id": "b7c6b90c-b71b-46cf-9f0b-40c1ee5c27b4",
   "metadata": {},
   "outputs": [
    {
     "data": {
      "text/plain": [
       "(3, 3)"
      ]
     },
     "execution_count": 357,
     "metadata": {},
     "output_type": "execute_result"
    }
   ],
   "source": [
    "arr.shape"
   ]
  },
  {
   "cell_type": "code",
   "execution_count": 358,
   "id": "c89303f0-941f-41e6-86e7-5942a745b300",
   "metadata": {},
   "outputs": [
    {
     "data": {
      "text/plain": [
       "9"
      ]
     },
     "execution_count": 358,
     "metadata": {},
     "output_type": "execute_result"
    }
   ],
   "source": [
    "arr.size"
   ]
  },
  {
   "cell_type": "code",
   "execution_count": 359,
   "id": "42a22e9f-b994-47be-a1ff-074e5cf04c99",
   "metadata": {},
   "outputs": [
    {
     "data": {
      "text/plain": [
       "2"
      ]
     },
     "execution_count": 359,
     "metadata": {},
     "output_type": "execute_result"
    }
   ],
   "source": [
    "\n",
    "arr.ndim"
   ]
  },
  {
   "cell_type": "code",
   "execution_count": 360,
   "id": "e7056f1c-f319-4f1c-93ea-75f16cf693a1",
   "metadata": {},
   "outputs": [
    {
     "data": {
      "text/plain": [
       "array([[4, 5, 6],\n",
       "       [7, 8, 9]])"
      ]
     },
     "execution_count": 360,
     "metadata": {},
     "output_type": "execute_result"
    }
   ],
   "source": [
    "arr[1:]"
   ]
  },
  {
   "cell_type": "code",
   "execution_count": 361,
   "id": "5757e8c5-5fdc-4ffa-acd1-54b372ea37d3",
   "metadata": {},
   "outputs": [
    {
     "data": {
      "text/plain": [
       "[[1, 2, 3], [4, 5, 6], [7, 8, 9]]"
      ]
     },
     "execution_count": 361,
     "metadata": {},
     "output_type": "execute_result"
    }
   ],
   "source": [
    "arr.tolist()"
   ]
  },
  {
   "cell_type": "code",
   "execution_count": 362,
   "id": "4f48ab2b-046c-4535-91d9-822dac160cd0",
   "metadata": {},
   "outputs": [
    {
     "data": {
      "text/plain": [
       "array([[1, 2, 3],\n",
       "       [4, 5, 6],\n",
       "       [7, 8, 9]])"
      ]
     },
     "execution_count": 362,
     "metadata": {},
     "output_type": "execute_result"
    }
   ],
   "source": [
    "arr"
   ]
  },
  {
   "cell_type": "code",
   "execution_count": 363,
   "id": "5f0f60d8-fa00-435f-bc88-9919449460d4",
   "metadata": {},
   "outputs": [
    {
     "name": "stdout",
     "output_type": "stream",
     "text": [
      "((0, 0), 1)\n",
      "((0, 1), 2)\n",
      "((0, 2), 3)\n",
      "((1, 0), 4)\n",
      "((1, 1), 5)\n",
      "((1, 2), 6)\n",
      "((2, 0), 7)\n",
      "((2, 1), 8)\n",
      "((2, 2), 9)\n"
     ]
    }
   ],
   "source": [
    "for item in np.ndenumerate(arr):\n",
    "    print(item)"
   ]
  },
  {
   "cell_type": "code",
   "execution_count": 364,
   "id": "22749b62-8dab-4970-baf9-fca89da56f09",
   "metadata": {},
   "outputs": [
    {
     "name": "stdout",
     "output_type": "stream",
     "text": [
      "[1 2 3]\n",
      "[4 5 6]\n",
      "[7 8 9]\n"
     ]
    }
   ],
   "source": [
    "for item in arr:\n",
    "    print(item)"
   ]
  },
  {
   "cell_type": "code",
   "execution_count": 365,
   "id": "5a643ffb-f13a-4127-89a4-1461f7781a5a",
   "metadata": {},
   "outputs": [],
   "source": [
    "x = np.arange(50)\n",
    "y = x * 2"
   ]
  },
  {
   "cell_type": "code",
   "execution_count": 366,
   "id": "b1fe337d-4120-4900-99af-bc6ad9b49b77",
   "metadata": {},
   "outputs": [
    {
     "data": {
      "image/png": "[encoded data removed]",
      "text/plain": [
       "<Figure size 640x480 with 1 Axes>"
      ]
     },
     "metadata": {},
     "output_type": "display_data"
    }
   ],
   "source": [
    "plt.scatter(x, y, c='r', marker='_')\n",
    "# markers = > #.,ov^<>12348spp*hH+xDd_\n",
    "plt.show()\n",
    "sn.set()"
   ]
  },
  {
   "cell_type": "code",
   "execution_count": 367,
   "id": "3b4aad50-dd5b-44f5-895f-c05dcbe4aa2c",
   "metadata": {},
   "outputs": [],
   "source": [
    "two_dim_arr = np.array([[1,2,3],[4,5,6], [7,8,9]])\n",
    "arr = np.array(two_dim_arr)"
   ]
  },
  {
   "cell_type": "code",
   "execution_count": 368,
   "id": "d28e8deb-dd50-4dd8-ad63-358c3220477d",
   "metadata": {},
   "outputs": [
    {
     "data": {
      "text/plain": [
       "array([[1, 2, 3],\n",
       "       [4, 5, 6],\n",
       "       [7, 8, 9]])"
      ]
     },
     "execution_count": 368,
     "metadata": {},
     "output_type": "execute_result"
    }
   ],
   "source": [
    "arr"
   ]
  },
  {
   "cell_type": "code",
   "execution_count": 369,
   "id": "fce7e20a-fdd3-4abd-a8e6-89447f6b2fbe",
   "metadata": {},
   "outputs": [
    {
     "name": "stdout",
     "output_type": "stream",
     "text": [
      "[1 2 3]\n"
     ]
    }
   ],
   "source": [
    "print(arr[0])"
   ]
  },
  {
   "cell_type": "code",
   "execution_count": 370,
   "id": "293f8c29-5a60-4cb0-aff3-0a51caa157c5",
   "metadata": {},
   "outputs": [
    {
     "name": "stdout",
     "output_type": "stream",
     "text": [
      "[4 5 6]\n",
      "[7 8 9]\n"
     ]
    }
   ],
   "source": [
    "print(arr[1])\n",
    "print(arr[2])"
   ]
  },
  {
   "cell_type": "code",
   "execution_count": 371,
   "id": "95b0f228-ddf1-451a-9c5f-a2bad186daed",
   "metadata": {},
   "outputs": [
    {
     "data": {
      "text/plain": [
       "array([1, 4, 7])"
      ]
     },
     "execution_count": 371,
     "metadata": {},
     "output_type": "execute_result"
    }
   ],
   "source": [
    "arr[0:, 0]"
   ]
  },
  {
   "cell_type": "code",
   "execution_count": 372,
   "id": "9cf28552-32a5-44b3-9963-1fbd9622cf63",
   "metadata": {},
   "outputs": [
    {
     "data": {
      "text/plain": [
       "5"
      ]
     },
     "execution_count": 372,
     "metadata": {},
     "output_type": "execute_result"
    }
   ],
   "source": [
    "arr[1,1]"
   ]
  },
  {
   "cell_type": "code",
   "execution_count": 373,
   "id": "c9ef5ed7-e39e-4db7-a754-fb6d4c03f22d",
   "metadata": {},
   "outputs": [
    {
     "data": {
      "text/plain": [
       "array([[5, 6],\n",
       "       [8, 9]])"
      ]
     },
     "execution_count": 373,
     "metadata": {},
     "output_type": "execute_result"
    }
   ],
   "source": [
    "arr[1:,1:]"
   ]
  },
  {
   "cell_type": "code",
   "execution_count": 374,
   "id": "1fb992d2-6655-422e-a4fa-ded269cc1017",
   "metadata": {},
   "outputs": [
    {
     "data": {
      "text/plain": [
       "array([4, 5, 6])"
      ]
     },
     "execution_count": 374,
     "metadata": {},
     "output_type": "execute_result"
    }
   ],
   "source": [
    "arr[1]"
   ]
  },
  {
   "cell_type": "code",
   "execution_count": 375,
   "id": "0a0f629b-8689-4374-a912-71a73025cfda",
   "metadata": {},
   "outputs": [
    {
     "data": {
      "text/plain": [
       "array([5, 8])"
      ]
     },
     "execution_count": 375,
     "metadata": {},
     "output_type": "execute_result"
    }
   ],
   "source": [
    "arr[1:,1]"
   ]
  },
  {
   "cell_type": "code",
   "execution_count": 376,
   "id": "21c38d09-eebf-461c-9cab-22fb3adc2984",
   "metadata": {},
   "outputs": [
    {
     "data": {
      "text/plain": [
       "array([[1, 2, 3],\n",
       "       [4, 5, 6],\n",
       "       [7, 8, 9]])"
      ]
     },
     "execution_count": 376,
     "metadata": {},
     "output_type": "execute_result"
    }
   ],
   "source": [
    "arr"
   ]
  },
  {
   "cell_type": "code",
   "execution_count": 377,
   "id": "849bb22a-e3fb-4048-b96e-5286cd69f126",
   "metadata": {},
   "outputs": [
    {
     "data": {
      "text/plain": [
       "array([[1, 2, 3],\n",
       "       [4, 5, 6]])"
      ]
     },
     "execution_count": 377,
     "metadata": {},
     "output_type": "execute_result"
    }
   ],
   "source": [
    "arr[0:2]"
   ]
  },
  {
   "cell_type": "code",
   "execution_count": 378,
   "id": "ea1b70c1-af01-46ac-8c8d-edb7e36bbfe7",
   "metadata": {},
   "outputs": [
    {
     "data": {
      "text/plain": [
       "array([1, 4, 7])"
      ]
     },
     "execution_count": 378,
     "metadata": {},
     "output_type": "execute_result"
    }
   ],
   "source": [
    "arr[0:, 0]"
   ]
  },
  {
   "cell_type": "code",
   "execution_count": 379,
   "id": "1965d29c-b3cd-4a04-8aef-d1f960c067a2",
   "metadata": {},
   "outputs": [
    {
     "data": {
      "text/plain": [
       "array([2, 5, 8])"
      ]
     },
     "execution_count": 379,
     "metadata": {},
     "output_type": "execute_result"
    }
   ],
   "source": [
    "arr[0:, 1]"
   ]
  },
  {
   "cell_type": "code",
   "execution_count": 380,
   "id": "053c7c4a-0d32-48da-b7a6-b0a64d09f69a",
   "metadata": {},
   "outputs": [
    {
     "data": {
      "text/plain": [
       "array([3, 6, 9])"
      ]
     },
     "execution_count": 380,
     "metadata": {},
     "output_type": "execute_result"
    }
   ],
   "source": [
    "arr[0:, 2]"
   ]
  },
  {
   "cell_type": "code",
   "execution_count": 381,
   "id": "805861dc-ae67-41cf-979d-4da3e17fede3",
   "metadata": {},
   "outputs": [
    {
     "data": {
      "text/plain": [
       "array([[8, 9]])"
      ]
     },
     "execution_count": 381,
     "metadata": {},
     "output_type": "execute_result"
    }
   ],
   "source": [
    "arr[2:, 1:]"
   ]
  },
  {
   "cell_type": "code",
   "execution_count": 382,
   "id": "b9608bb2-cd13-49e0-afdd-ff98bff2c7d6",
   "metadata": {},
   "outputs": [
    {
     "data": {
      "text/plain": [
       "array([8, 9])"
      ]
     },
     "execution_count": 382,
     "metadata": {},
     "output_type": "execute_result"
    }
   ],
   "source": [
    "arr[2, 1:]"
   ]
  },
  {
   "cell_type": "code",
   "execution_count": 383,
   "id": "25f6dfa6-1636-47e4-8fa9-a74e945689c1",
   "metadata": {},
   "outputs": [
    {
     "data": {
      "text/plain": [
       "array([[ 1,  2,  3,  7],\n",
       "       [ 4,  5,  6, 15],\n",
       "       [ 7,  8,  9, 24],\n",
       "       [10, 11, 12, 33]])"
      ]
     },
     "execution_count": 383,
     "metadata": {},
     "output_type": "execute_result"
    }
   ],
   "source": [
    "two_dim_arr_2= np.array([[1,2,3,7],[4,5,6, 15], [7,8,9,24],  [10,11,12, 33]])\n",
    "two_dim_arr_2"
   ]
  },
  {
   "cell_type": "code",
   "execution_count": 384,
   "id": "f595a12e-f8a4-46fc-a538-192def6e81a0",
   "metadata": {},
   "outputs": [
    {
     "data": {
      "text/plain": [
       "array([[ 1,  2,  3,  7],\n",
       "       [ 4,  5,  6, 15],\n",
       "       [ 7,  8,  9, 24],\n",
       "       [10, 11, 12, 33]])"
      ]
     },
     "execution_count": 384,
     "metadata": {},
     "output_type": "execute_result"
    }
   ],
   "source": [
    "two_dim_arr_2"
   ]
  },
  {
   "cell_type": "code",
   "execution_count": 385,
   "id": "cf3deccf-d430-4677-8a00-a80ba6b1fcd3",
   "metadata": {},
   "outputs": [
    {
     "data": {
      "text/plain": [
       "array([[5, 6],\n",
       "       [8, 9]])"
      ]
     },
     "execution_count": 385,
     "metadata": {},
     "output_type": "execute_result"
    }
   ],
   "source": [
    "two_dim_arr_2[1:3, 1:3]"
   ]
  },
  {
   "cell_type": "code",
   "execution_count": 386,
   "id": "03d070f0-946b-4185-b69b-91e754bb005c",
   "metadata": {},
   "outputs": [],
   "source": [
    "arr = np.array([[1,2,3],[4,5,6], [7,8,9]])"
   ]
  },
  {
   "cell_type": "code",
   "execution_count": 387,
   "id": "c4f9a22b-f322-4d01-be99-65ee0804fd5f",
   "metadata": {},
   "outputs": [
    {
     "data": {
      "text/plain": [
       "array([[1, 2, 3],\n",
       "       [4, 5, 6],\n",
       "       [7, 8, 9]])"
      ]
     },
     "execution_count": 387,
     "metadata": {},
     "output_type": "execute_result"
    }
   ],
   "source": [
    "arr"
   ]
  },
  {
   "cell_type": "code",
   "execution_count": 388,
   "id": "67a9356c-d060-458c-bb8d-2bbd3a215813",
   "metadata": {},
   "outputs": [
    {
     "data": {
      "text/plain": [
       "array([[9, 8, 7],\n",
       "       [6, 5, 4],\n",
       "       [3, 2, 1]])"
      ]
     },
     "execution_count": 388,
     "metadata": {},
     "output_type": "execute_result"
    }
   ],
   "source": [
    "arr[::-1,::-1]"
   ]
  },
  {
   "cell_type": "code",
   "execution_count": 389,
   "id": "83e62dfb-dc89-4fb5-9a04-588a4d9f980a",
   "metadata": {},
   "outputs": [
    {
     "data": {
      "text/plain": [
       "array([[0., 0., 0., 0., 0.],\n",
       "       [0., 0., 0., 0., 0.],\n",
       "       [0., 0., 0., 0., 0.],\n",
       "       [0., 0., 0., 0., 0.]])"
      ]
     },
     "execution_count": 389,
     "metadata": {},
     "output_type": "execute_result"
    }
   ],
   "source": [
    "np.zeros((4, 5))"
   ]
  },
  {
   "cell_type": "code",
   "execution_count": 390,
   "id": "8cbb7397-d792-413f-8243-cf37de7b3d17",
   "metadata": {},
   "outputs": [
    {
     "data": {
      "text/plain": [
       "array([[1., 1., 1., 1., 1.],\n",
       "       [1., 1., 1., 1., 1.],\n",
       "       [1., 1., 1., 1., 1.],\n",
       "       [1., 1., 1., 1., 1.]])"
      ]
     },
     "execution_count": 390,
     "metadata": {},
     "output_type": "execute_result"
    }
   ],
   "source": [
    "np.ones((4, 5))"
   ]
  },
  {
   "cell_type": "code",
   "execution_count": 391,
   "id": "a5f0c78c-b82b-46f6-9b8d-b0de4eadf21d",
   "metadata": {},
   "outputs": [
    {
     "data": {
      "text/plain": [
       "array([[5.5, 5.5, 5.5, 5.5, 5.5],\n",
       "       [5.5, 5.5, 5.5, 5.5, 5.5],\n",
       "       [5.5, 5.5, 5.5, 5.5, 5.5]])"
      ]
     },
     "execution_count": 391,
     "metadata": {},
     "output_type": "execute_result"
    }
   ],
   "source": [
    "np.full((3, 5), fill_value = 5.5)"
   ]
  },
  {
   "cell_type": "code",
   "execution_count": 392,
   "id": "82877d3c-3740-4f01-b625-204dfb3a8e9d",
   "metadata": {},
   "outputs": [
    {
     "data": {
      "text/plain": [
       "array([[1., 0., 0., 0., 0.],\n",
       "       [0., 1., 0., 0., 0.],\n",
       "       [0., 0., 1., 0., 0.],\n",
       "       [0., 0., 0., 1., 0.],\n",
       "       [0., 0., 0., 0., 1.]])"
      ]
     },
     "execution_count": 392,
     "metadata": {},
     "output_type": "execute_result"
    }
   ],
   "source": [
    "np.eye(5)"
   ]
  },
  {
   "cell_type": "code",
   "execution_count": 393,
   "id": "bf7dce62-1ac8-4176-b4f8-5e2fac577877",
   "metadata": {},
   "outputs": [
    {
     "data": {
      "text/plain": [
       "array([[0., 0., 1., 0.],\n",
       "       [0., 1., 1., 1.]])"
      ]
     },
     "execution_count": 393,
     "metadata": {},
     "output_type": "execute_result"
    }
   ],
   "source": [
    "np.empty((2, 4))"
   ]
  },
  {
   "cell_type": "code",
   "execution_count": 394,
   "id": "c071de3d-895a-494c-897d-ac32b541931b",
   "metadata": {},
   "outputs": [],
   "source": [
    "ara = np.arange(12)"
   ]
  },
  {
   "cell_type": "code",
   "execution_count": 395,
   "id": "fe1662d2-b464-43b1-9f71-93600e86ed09",
   "metadata": {},
   "outputs": [
    {
     "data": {
      "text/plain": [
       "array([ 0,  1,  2,  3,  4,  5,  6,  7,  8,  9, 10, 11])"
      ]
     },
     "execution_count": 395,
     "metadata": {},
     "output_type": "execute_result"
    }
   ],
   "source": [
    "ara"
   ]
  },
  {
   "cell_type": "code",
   "execution_count": 396,
   "id": "5f185e73-2cdd-4639-9dff-84cb2aa01197",
   "metadata": {},
   "outputs": [
    {
     "data": {
      "text/plain": [
       "array([[ 0,  1,  2,  3,  4,  5],\n",
       "       [ 6,  7,  8,  9, 10, 11]])"
      ]
     },
     "execution_count": 396,
     "metadata": {},
     "output_type": "execute_result"
    }
   ],
   "source": [
    "ara.reshape(2, 6)"
   ]
  },
  {
   "cell_type": "code",
   "execution_count": 397,
   "id": "e41b20f2-133a-4324-baef-052a26f69b48",
   "metadata": {},
   "outputs": [
    {
     "data": {
      "text/plain": [
       "array([[ 0,  1,  2,  3],\n",
       "       [ 4,  5,  6,  7],\n",
       "       [ 8,  9, 10, 11]])"
      ]
     },
     "execution_count": 397,
     "metadata": {},
     "output_type": "execute_result"
    }
   ],
   "source": [
    "ara.reshape(3, 4)"
   ]
  },
  {
   "cell_type": "code",
   "execution_count": 398,
   "id": "c5fdb97c-16d3-4657-8f7b-bdadf5e94ddf",
   "metadata": {},
   "outputs": [
    {
     "name": "stdout",
     "output_type": "stream",
     "text": [
      "[0 1 2 3 4]\n"
     ]
    }
   ],
   "source": [
    "x = np.arange(2)\n",
    "y = np.arange(2, 5)\n",
    "z = np.concatenate((x, y))\n",
    "print(z)"
   ]
  },
  {
   "cell_type": "code",
   "execution_count": 399,
   "id": "719ac71a-3daf-4246-848b-6a98a83212a0",
   "metadata": {},
   "outputs": [
    {
     "name": "stdout",
     "output_type": "stream",
     "text": [
      "[[1 2 3]\n",
      " [4 5 6]\n",
      " [7 8 9]]\n"
     ]
    }
   ],
   "source": [
    "x = np.arange(1, 10).reshape(3,3)\n",
    "print(x)"
   ]
  },
  {
   "cell_type": "code",
   "execution_count": 400,
   "id": "525a5a12-5f78-468f-af55-5ca5dc3fd1cf",
   "metadata": {},
   "outputs": [
    {
     "name": "stdout",
     "output_type": "stream",
     "text": [
      "[[1 2 3 1 2 3]\n",
      " [4 5 6 4 5 6]\n",
      " [7 8 9 7 8 9]]\n"
     ]
    }
   ],
   "source": [
    "# concant\n",
    "print(np.concatenate((x, x), axis = 1))"
   ]
  },
  {
   "cell_type": "code",
   "execution_count": 401,
   "id": "9d9b2490-5b2b-4216-af93-a935c94a5636",
   "metadata": {},
   "outputs": [
    {
     "data": {
      "text/plain": [
       "False"
      ]
     },
     "execution_count": 401,
     "metadata": {},
     "output_type": "execute_result"
    }
   ],
   "source": [
    "np.all(x > 3)"
   ]
  },
  {
   "cell_type": "code",
   "execution_count": 402,
   "id": "dc622cba-7240-4070-850f-0605bdf50179",
   "metadata": {},
   "outputs": [
    {
     "data": {
      "text/plain": [
       "array([-1.30686663e-01, -5.04167662e-01, -3.25424892e-01, -7.70442266e-01,\n",
       "       -4.17947408e-01, -1.12360369e-01, -2.96081280e-01, -8.76371473e-01,\n",
       "       -4.08716300e-01, -5.63387971e-01, -2.02684939e-01, -1.79794952e-01,\n",
       "       -4.94853002e-01, -5.10519212e-01, -3.90470859e-01, -1.41936197e-01,\n",
       "       -7.25445381e-01, -3.74785570e-01, -8.74826940e-01, -9.92294169e-01,\n",
       "       -4.00697430e-01, -1.54601621e-01, -6.05172144e-01, -1.77135483e-01,\n",
       "       -7.32814403e-01, -2.92541751e-01, -3.94953405e-01, -8.91125433e-01,\n",
       "       -6.09673883e-01, -8.39788301e-01, -1.11614274e-01, -4.93500403e-01,\n",
       "       -7.38201800e-01, -9.42293900e-01, -7.25232210e-01, -8.53056441e-01,\n",
       "       -2.60926195e-01, -9.93593080e-01, -4.15204020e-01, -4.70203956e-01,\n",
       "       -6.65088337e-01, -1.19745581e-01, -8.55127434e-01, -8.83689179e-01,\n",
       "       -5.30144792e-01, -3.91604299e-01, -9.15766467e-01, -9.62698062e-01,\n",
       "       -5.56111765e-04, -8.71594059e-01, -4.88261932e-01, -3.04335709e-01,\n",
       "       -1.21589319e-02, -6.09886322e-01, -8.64064605e-01, -5.60588278e-01,\n",
       "       -6.98491705e-01, -7.54629166e-01, -4.89297947e-01, -1.11591618e-02,\n",
       "       -8.53917976e-01, -8.13395974e-01, -6.27155685e-01, -8.68628871e-01,\n",
       "       -7.10999588e-01, -7.73014600e-01, -6.18252333e-01, -7.91886323e-01,\n",
       "       -2.94048617e-01, -3.13652553e-01, -2.26372882e-02, -3.88730028e-01,\n",
       "       -2.97130917e-01, -7.35523167e-01, -1.18674048e-02, -1.56003534e-01,\n",
       "       -8.24396681e-01, -5.37390617e-01, -5.91684227e-01, -2.44157736e-01,\n",
       "       -5.83808027e-01, -8.61495577e-02, -3.17268747e-01, -4.74529071e-01,\n",
       "       -5.29185189e-01, -4.72914586e-01, -8.73780411e-01, -1.39577414e-01,\n",
       "       -5.95193570e-02, -5.07400525e-02, -3.67070376e-01, -4.89208599e-01,\n",
       "       -7.99417424e-01, -5.04998575e-01, -1.84011013e-01, -8.04410016e-02,\n",
       "       -5.14089049e-01, -7.41278704e-01, -8.56466781e-01, -6.14769148e-01,\n",
       "       -5.12920959e-01, -4.36014312e-01, -3.19905466e-01, -6.89148372e-01,\n",
       "       -2.90015116e-01, -6.59317752e-01, -8.46397071e-01, -6.02298790e-01,\n",
       "       -7.58231032e-01, -7.57763428e-01, -9.22999902e-01, -7.54769832e-01,\n",
       "       -7.04571254e-01, -8.24746622e-01, -3.44824454e-01, -9.76722803e-01,\n",
       "       -3.29351653e-01, -8.14665848e-01, -7.51805360e-01, -8.20216211e-01,\n",
       "       -1.15619072e-02, -8.82813944e-01, -7.70083567e-01, -8.56303303e-03,\n",
       "       -2.53123376e-01, -7.50554396e-01, -3.71658566e-01, -3.65456202e-01,\n",
       "       -4.90722042e-01, -3.14073776e-01, -5.76528855e-01, -3.98105089e-02,\n",
       "       -6.79902118e-01, -8.44833039e-01, -5.73035546e-01, -8.73103216e-01,\n",
       "       -4.98633072e-01, -8.49755500e-02, -7.80677827e-01, -2.36821436e-01,\n",
       "       -6.59440074e-01, -3.55815498e-01, -1.90163468e-01, -7.14212179e-01,\n",
       "       -8.46052975e-01, -6.75478487e-01, -8.49304861e-01, -1.87505104e-01,\n",
       "       -3.04733122e-01, -6.67559596e-01, -8.91452933e-02, -6.01284301e-01,\n",
       "       -2.66172454e-01, -4.71231671e-01, -3.19952335e-02, -4.66492025e-02,\n",
       "       -3.47061618e-02, -8.56259584e-01, -6.11591946e-01, -7.50179259e-01,\n",
       "       -1.63152938e-01, -9.50699223e-01, -6.35746396e-01, -4.29751706e-01,\n",
       "       -9.71331560e-01, -5.48387676e-01, -2.39972690e-01, -3.38998385e-01,\n",
       "       -7.17616390e-01, -7.47169076e-01, -1.18747349e-01, -3.39875859e-01,\n",
       "       -2.91677479e-01, -6.20134068e-02, -1.62754559e-01, -4.71263408e-01,\n",
       "       -8.57076111e-04, -9.36333425e-01, -2.54343805e-01, -7.26358517e-01,\n",
       "       -6.89636834e-01, -7.03744907e-01, -2.85178184e-01, -6.77653238e-01,\n",
       "       -2.24722605e-01, -6.81572685e-01, -9.27534757e-02, -4.60829627e-01,\n",
       "       -4.27369515e-01, -3.84221307e-01, -1.09267564e-01, -5.64660773e-01,\n",
       "       -1.86964764e-01, -9.58196695e-01, -8.46077540e-01, -5.57774773e-01,\n",
       "       -8.99570174e-01, -4.90302358e-01, -6.36958518e-01, -1.23619453e-01,\n",
       "       -3.03431492e-01, -1.78213191e-01, -6.24065339e-01, -3.53386390e-01,\n",
       "       -2.91874362e-02, -3.61889259e-01, -3.73731008e-01, -5.18783101e-01,\n",
       "       -6.68740138e-01, -2.60126923e-01, -2.84501506e-01, -2.83968075e-01,\n",
       "       -1.90009046e-02, -9.50126669e-01, -1.72331679e-01, -4.32508307e-01,\n",
       "       -2.40851620e-01, -8.72686480e-01, -8.71414297e-01, -7.74445925e-01,\n",
       "       -6.73705423e-01, -6.56946280e-01, -8.22846839e-01, -7.56322902e-01,\n",
       "       -4.20780732e-01, -9.80429572e-01, -4.68647165e-01, -3.27106410e-02,\n",
       "       -1.39495262e-03, -7.78864677e-01, -1.25189723e-01, -8.07651846e-01,\n",
       "       -7.90731546e-01, -4.28317224e-01, -3.33962066e-01, -9.81470293e-02,\n",
       "       -7.26898070e-02, -9.55741170e-01, -1.39838181e-01, -1.70882228e-01,\n",
       "       -9.55591017e-01, -1.38565876e-01, -7.18556948e-01, -8.25782681e-01,\n",
       "       -7.86043675e-01, -7.50607001e-01, -1.54998587e-02, -6.03355773e-01,\n",
       "       -8.10756701e-01, -9.94253360e-01, -6.33322217e-01, -5.28607488e-01,\n",
       "       -1.84043333e-02, -9.99914604e-02, -8.91759037e-01, -9.83948586e-01,\n",
       "       -8.12754169e-01, -7.06329027e-01, -6.98273577e-02, -1.92302194e-01,\n",
       "       -9.71589588e-01, -2.90203234e-01, -6.83148300e-01, -9.92989051e-01,\n",
       "       -5.56999978e-01, -9.89359643e-01, -4.04923767e-01, -6.27475708e-01,\n",
       "       -9.78450540e-02, -1.74628690e-01, -2.89015439e-01, -1.25636812e-02,\n",
       "       -6.03297141e-01, -2.58303187e-01, -6.40952008e-01, -9.70728351e-01,\n",
       "       -7.12055328e-01, -8.32756885e-01, -5.20497328e-01, -6.18969695e-01,\n",
       "       -1.87098835e-01, -3.96749265e-01, -3.76874886e-01, -1.09752477e-01,\n",
       "       -7.40384932e-01, -2.99164301e-01, -3.08065705e-01, -2.08232330e-01,\n",
       "       -9.98861275e-01, -5.52310234e-01, -1.33232666e-01, -5.97918530e-01,\n",
       "       -3.83659084e-01, -8.75172244e-01, -1.99845749e-01, -9.53234786e-01,\n",
       "       -9.36685043e-01, -8.04564335e-01, -2.75409952e-02, -8.75418562e-01,\n",
       "       -8.12125069e-02, -7.98758262e-01, -9.04275009e-01, -7.63549816e-01,\n",
       "       -6.17981653e-01, -3.46450456e-01, -3.26431643e-01, -7.75508373e-01,\n",
       "       -9.18786454e-01, -1.18660932e-01, -8.86390017e-01, -7.49975751e-01,\n",
       "       -8.04504989e-01, -3.92507172e-01, -2.28333194e-01, -2.97516560e-01,\n",
       "       -9.77401183e-01, -6.16293309e-01, -9.21918477e-01, -6.28431621e-01,\n",
       "       -3.84684406e-01, -4.84212199e-01, -7.18649725e-01, -2.54986167e-01,\n",
       "       -9.35937305e-01, -8.24266314e-01, -6.40966644e-01, -9.27845159e-01,\n",
       "       -1.59072278e-01, -9.65882272e-02, -7.02240862e-01, -7.60008621e-01,\n",
       "       -8.93168747e-01, -8.87737096e-01, -2.81134189e-01, -9.46923085e-01,\n",
       "       -6.40096140e-01, -6.36216054e-01, -8.91356369e-01, -9.81495109e-01,\n",
       "       -8.78370281e-01, -6.80966158e-01, -1.65130226e-01, -3.60926947e-01,\n",
       "       -2.11119998e-01, -3.09635924e-01, -5.48006645e-02, -3.43262477e-01,\n",
       "       -5.26823644e-01, -9.34438156e-01, -6.68400289e-01, -1.88289642e-01,\n",
       "       -1.75330874e-01, -1.26365088e-01, -5.77334874e-01, -9.79051673e-01,\n",
       "       -9.02946704e-01, -1.57495167e-01, -7.61535344e-01, -7.67853471e-01,\n",
       "       -7.70764540e-01, -1.73776353e-01, -9.31489974e-01, -3.47716789e-01,\n",
       "       -1.24023366e-01, -1.20673276e-01, -9.98700976e-01, -6.34854089e-01,\n",
       "       -2.67146329e-01, -3.88156213e-01, -3.56342215e-01, -2.43397253e-01,\n",
       "       -9.77848700e-01, -7.94882421e-01, -2.56545790e-01, -6.73696542e-01,\n",
       "       -4.71695173e-01, -5.66412780e-01, -5.00231002e-01, -1.26701657e-01,\n",
       "       -8.39091365e-01, -3.95716446e-01, -1.64702769e-01, -8.78560501e-01,\n",
       "       -6.07161982e-01, -3.30419243e-01, -6.79517033e-01, -5.32565721e-01,\n",
       "       -1.01220784e-01, -6.51757086e-01, -9.03910718e-01, -4.30669803e-01,\n",
       "       -6.55118558e-01, -8.86406750e-02, -8.67703841e-01, -6.73274610e-01,\n",
       "       -5.79046168e-01, -5.01420904e-01, -4.53676882e-01, -8.25973368e-01,\n",
       "       -8.46955374e-01, -8.36340924e-01, -8.17593720e-01, -2.45889581e-01,\n",
       "       -4.78959523e-01, -9.58371567e-01, -7.69374859e-01, -3.87372368e-02,\n",
       "       -9.98215470e-01, -4.73146132e-01, -3.99848261e-01, -1.56105758e-01,\n",
       "       -1.26471280e-01, -5.65630698e-01, -1.14451284e-03, -2.86933618e-01,\n",
       "       -6.38672046e-01, -4.34320397e-01, -8.22933582e-01, -1.13476300e-01,\n",
       "       -4.86391607e-01, -8.15029201e-02, -9.84694784e-01, -3.71522798e-01,\n",
       "       -6.97428422e-01, -2.42909166e-01, -6.35149927e-01, -5.11684625e-01,\n",
       "       -5.84810975e-01, -7.50369799e-01, -4.84103527e-01, -9.19440825e-01,\n",
       "       -9.09414777e-01, -8.09246839e-01, -5.14077070e-01, -3.26511713e-01,\n",
       "       -8.03334758e-02, -9.88084124e-01, -3.97217666e-01, -8.18724047e-01,\n",
       "       -1.50145229e-01, -9.89522092e-01, -1.27969008e-01, -6.59181958e-01,\n",
       "       -8.79992670e-01, -6.92039151e-01, -7.10992038e-01, -1.03844036e-01,\n",
       "       -5.92577889e-01, -8.12865017e-01, -2.70680938e-01, -7.83317376e-01,\n",
       "       -3.82458814e-01, -5.37227184e-02, -6.63080829e-01, -3.29341785e-01,\n",
       "       -9.53318015e-02, -9.98963601e-01, -8.75230170e-01, -1.85351320e-01,\n",
       "       -5.56160374e-01, -2.28850086e-01, -7.78757479e-01, -6.89609071e-01,\n",
       "       -3.88468464e-02, -8.32427534e-01, -1.72537124e-02, -7.50510677e-01,\n",
       "       -8.53511970e-01, -8.77944858e-01, -1.34403977e-01, -9.37218443e-01,\n",
       "       -3.47550148e-01, -1.44552369e-01, -3.48239027e-01, -6.99321466e-01,\n",
       "       -8.63895856e-02, -9.22233849e-01, -9.42017099e-01, -2.69860772e-01,\n",
       "       -1.78663826e-01, -5.10541926e-01, -6.50370446e-01, -6.59770275e-01,\n",
       "       -3.96811831e-01, -3.11398875e-01, -9.71473941e-02, -2.51958272e-01,\n",
       "       -8.37314805e-01, -7.08240988e-01, -5.06672825e-01, -6.24012752e-01,\n",
       "       -2.09898373e-01, -6.97331327e-01, -4.12303169e-01, -3.06184482e-01,\n",
       "       -8.55926777e-01, -8.82681034e-01, -4.99411415e-01, -4.89132883e-01,\n",
       "       -7.10203379e-01, -9.27761994e-01, -4.24985038e-01, -2.47651340e-01,\n",
       "       -6.41786837e-01, -9.79003136e-01, -8.75188275e-02, -7.76811702e-01,\n",
       "       -2.07644176e-01, -9.78870934e-01, -1.38905715e-01, -8.54128953e-02,\n",
       "       -4.70923123e-01, -5.17663063e-01, -7.69720124e-01, -1.72604821e-01,\n",
       "       -7.45467578e-01, -4.74895592e-02, -5.07838889e-01, -3.29400221e-01,\n",
       "       -7.00292707e-01, -9.67653698e-01, -5.97552239e-01, -8.98053974e-01,\n",
       "       -8.58627785e-01, -2.19784498e-01, -6.24372898e-02, -3.73459064e-01,\n",
       "       -1.82483052e-01, -8.09892614e-01, -7.40741616e-01, -6.15238741e-01,\n",
       "       -1.70920878e-01, -9.69180104e-01, -3.23287491e-01, -2.53150244e-01,\n",
       "       -8.72265023e-01, -2.56691740e-01, -3.44733597e-01, -1.94171228e-01,\n",
       "       -7.25373734e-01, -1.64499109e-01, -6.12676818e-02, -4.29120195e-01,\n",
       "       -6.41613293e-02, -6.76381213e-01, -9.34216902e-02, -2.73542416e-01,\n",
       "       -8.16457183e-01, -3.49052701e-01, -7.43350811e-01, -4.01396603e-01,\n",
       "       -6.13830965e-01, -9.78949816e-01, -4.85070718e-02, -8.82291415e-01,\n",
       "       -6.32254129e-01, -4.46161235e-01, -2.45429038e-02, -1.84436014e-01,\n",
       "       -9.03116757e-02, -4.35026622e-01, -9.12023035e-01, -2.39122458e-01,\n",
       "       -8.82164204e-01, -9.28224062e-01, -3.43616044e-01, -1.38634460e-01,\n",
       "       -7.03604255e-01, -8.29126417e-01, -4.60012611e-01, -2.04163916e-01,\n",
       "       -2.52820464e-01, -5.14458624e-01, -5.11653852e-01, -5.54424727e-01,\n",
       "       -3.44644692e-02, -5.68716738e-01, -1.39587077e-01, -3.61023084e-01,\n",
       "       -8.23682552e-01, -5.60679981e-01, -1.96119607e-01, -4.34963363e-01,\n",
       "       -5.99187874e-01, -6.95248927e-01, -9.02618229e-01, -4.58333759e-01,\n",
       "       -5.82398737e-01, -3.21275040e-01, -2.28804555e-01, -3.15009342e-01,\n",
       "       -5.49691844e-01, -9.82285038e-01, -9.54019684e-01, -4.83704816e-01,\n",
       "       -7.37664059e-01, -2.83315546e-01, -8.93041863e-02, -4.24121016e-01,\n",
       "       -3.20335012e-01, -4.64651365e-02, -1.57381258e-02, -8.17836372e-01,\n",
       "       -3.43174157e-01, -8.02445547e-01, -7.49791684e-01, -2.27770760e-01,\n",
       "       -1.65495478e-01, -4.60362597e-01, -5.88548708e-01, -9.14113173e-03,\n",
       "       -9.13514826e-01, -3.40750780e-01, -7.25360183e-01, -1.28489544e-01,\n",
       "       -9.84389698e-01, -7.85418933e-01, -1.75604027e-01, -1.37838038e-01,\n",
       "       -3.91290945e-01, -7.78358141e-01, -7.02013645e-01, -5.73495702e-01,\n",
       "       -7.90428111e-01, -9.65631985e-01, -6.14289954e-02, -3.38057769e-01,\n",
       "       -3.99022177e-01, -6.34458091e-02, -4.40602403e-01, -6.97272605e-01,\n",
       "       -1.42295995e-01, -8.50662122e-01, -9.73227975e-01, -6.88163569e-02,\n",
       "       -6.11726168e-01, -4.60333340e-01, -3.17239313e-01, -4.82233144e-01,\n",
       "       -9.83626391e-01, -8.87514179e-01, -9.66347959e-01, -4.34376955e-01,\n",
       "       -8.97245945e-01, -8.45798812e-01, -4.61198734e-01, -4.36156063e-01,\n",
       "       -7.60982263e-01, -2.05460167e-02, -2.89407067e-01, -4.75651904e-01,\n",
       "       -8.94089688e-01, -5.80618824e-01, -7.88786616e-01, -2.48143837e-01,\n",
       "       -5.59112731e-01, -7.03503642e-01, -1.52383547e-01, -5.72762416e-01,\n",
       "       -6.82860801e-01, -2.71841109e-01, -9.05084107e-01, -7.60210411e-01,\n",
       "       -1.36501068e-01, -1.02936129e-01, -5.90119261e-01, -6.28568274e-02,\n",
       "       -1.85319242e-01, -2.37183534e-01, -1.51805603e-01, -6.93127721e-01,\n",
       "       -2.34460418e-01, -6.20040999e-01, -9.84507392e-01, -5.89023440e-01,\n",
       "       -1.84373353e-01, -2.61057338e-01, -4.36467868e-01, -6.49899468e-02,\n",
       "       -2.70700954e-01, -8.94206161e-01, -6.65560186e-01, -2.56356154e-01,\n",
       "       -4.58452482e-01, -5.41079917e-02, -8.52160094e-01, -4.61240678e-01,\n",
       "       -1.02120689e-01, -7.35350169e-01, -5.78911616e-01, -6.17348977e-02,\n",
       "       -5.07013398e-01, -7.68964682e-01, -2.42150662e-01, -4.87006838e-01,\n",
       "       -8.20550912e-01, -5.68312784e-01, -3.19602239e-01, -5.79989232e-01,\n",
       "       -4.96255473e-01, -4.42903996e-01, -6.61428787e-02, -4.25252620e-01,\n",
       "       -4.65789606e-01, -7.23663355e-01, -9.67202456e-03, -1.47898445e-01,\n",
       "       -8.74637263e-01, -5.98893420e-01, -6.80706688e-01, -4.52673394e-01,\n",
       "       -6.25379111e-01, -6.37992811e-01, -3.83429852e-02, -5.54589583e-01,\n",
       "       -9.76242344e-01, -6.74018563e-01, -4.72369015e-01, -1.81923713e-01,\n",
       "       -5.39973662e-02, -1.88626172e-01, -7.74024316e-01, -4.71415736e-01,\n",
       "       -5.58333491e-01, -5.36829414e-01, -1.37450450e-01, -7.64589216e-01,\n",
       "       -4.34766080e-01, -7.31306012e-01, -5.45659279e-01, -9.52451221e-01,\n",
       "       -6.09416917e-01, -4.76477351e-01, -7.24387974e-01, -8.99587016e-01,\n",
       "       -9.90869419e-01, -3.33857424e-02, -4.48501667e-01, -2.52445576e-01,\n",
       "       -3.21673620e-01, -9.73347262e-01, -7.91789946e-01, -6.23282708e-01,\n",
       "       -3.19784681e-02, -1.63695749e-01, -7.82495033e-01, -3.63427552e-01,\n",
       "       -7.41048001e-01, -8.46300027e-01, -1.69519452e-01, -3.70200100e-01,\n",
       "       -3.24287039e-01, -5.81905157e-01, -8.69698233e-01, -6.22858625e-01,\n",
       "       -9.35585148e-01, -2.58930049e-01, -8.39077491e-01, -9.83912264e-01,\n",
       "       -8.52575774e-01, -9.12229110e-02, -2.48307129e-01, -7.32206538e-02,\n",
       "       -5.33502893e-01, -7.62112968e-01, -1.16755468e-01, -6.40892961e-01,\n",
       "       -2.60957935e-01, -5.58032468e-01, -5.35561952e-01, -2.96436193e-01,\n",
       "       -8.70273414e-01, -2.71043231e-02, -5.79094347e-01, -5.08712812e-01,\n",
       "       -5.65176256e-01, -7.97770157e-01, -6.06597331e-01, -4.14320646e-01,\n",
       "       -4.92889767e-01, -7.59028917e-01, -8.73993599e-01, -3.43878764e-01,\n",
       "       -6.22090967e-01, -2.19976079e-01, -1.99402083e-01, -2.59675861e-01,\n",
       "       -1.41412722e-01, -7.79824815e-01, -2.86851450e-02, -5.93212659e-01,\n",
       "       -5.56361226e-01, -5.38832707e-01, -7.98176885e-01, -4.44486622e-01,\n",
       "       -7.77726283e-01, -8.54846075e-01, -5.25096536e-01, -4.73975628e-01,\n",
       "       -1.77363738e-01, -4.03874225e-01, -3.95418923e-01, -6.44754581e-01,\n",
       "       -4.50154551e-01, -2.64782148e-01, -4.94343751e-01, -8.75433089e-01,\n",
       "       -2.12292526e-01, -6.59566851e-01, -5.94138165e-01, -2.19287266e-01,\n",
       "       -2.60170661e-01, -8.29695785e-01, -3.63075839e-01, -4.74752814e-01,\n",
       "       -5.55349117e-01, -6.53756605e-01, -1.42011144e-01, -2.33841426e-01,\n",
       "       -6.12254707e-01, -1.31509517e-02, -6.85175190e-01, -9.67641491e-01,\n",
       "       -8.98216553e-01, -3.60130285e-01, -2.50926278e-01, -3.65344873e-01,\n",
       "       -5.11864214e-01, -1.16716550e-02, -7.63270798e-01, -6.94731534e-01,\n",
       "       -2.57436795e-01, -1.62198700e-01, -9.26661166e-01, -4.35551189e-01,\n",
       "       -5.96227809e-01, -8.40356998e-01, -4.72667830e-01, -6.88700520e-01,\n",
       "       -7.21061100e-01, -1.36709244e-01, -2.21372060e-01, -6.11063488e-01,\n",
       "       -2.67235404e-01, -4.80138396e-01, -2.73115383e-02, -2.52682356e-01,\n",
       "       -2.13957063e-01, -9.59428602e-01, -2.90454363e-01, -8.75797602e-01,\n",
       "       -6.06769432e-01, -9.74381702e-01, -4.93774819e-01, -7.19306946e-01,\n",
       "       -2.14604375e-01, -7.65093405e-01, -2.77239121e-01, -2.17567763e-01,\n",
       "       -3.35864931e-01, -3.70307644e-01, -8.96829291e-01, -1.74631321e-01,\n",
       "       -3.22178334e-01, -4.82078549e-01, -8.57004714e-01, -9.51772582e-01,\n",
       "       -7.90363221e-01, -8.53199500e-01, -1.80864116e-01, -6.07757234e-01,\n",
       "       -6.87029139e-01, -5.06318429e-01, -5.09980062e-01, -8.57426297e-01,\n",
       "       -3.94945675e-01, -1.51380882e-01, -6.19214515e-01, -8.21618005e-01,\n",
       "       -3.80597611e-01, -4.63915704e-01, -8.28503695e-04, -5.38267928e-01,\n",
       "       -9.30612199e-03, -7.31227428e-01, -6.93387483e-01, -8.41072644e-02,\n",
       "       -3.86516518e-01, -6.61327103e-01, -3.57512771e-01, -1.72185666e-01,\n",
       "       -5.70953950e-01, -3.55932815e-01, -9.23364421e-02, -6.85644501e-01,\n",
       "       -6.91067067e-02, -4.28433570e-01, -1.64764001e-01, -5.68294674e-01,\n",
       "       -4.98065806e-01, -1.31078747e-01, -4.04587749e-01, -1.54533774e-01,\n",
       "       -8.37695555e-01, -4.50279893e-01, -9.41227552e-01, -2.85082350e-01,\n",
       "       -2.46664498e-01, -5.94006663e-01, -4.91131289e-01, -5.23256815e-01,\n",
       "       -2.58676610e-01, -5.49498511e-01, -8.83870369e-01, -4.23536518e-01,\n",
       "       -2.99655609e-01, -5.80913112e-01, -4.58476756e-01, -5.46721992e-01,\n",
       "       -7.43611566e-01, -6.90315226e-01, -7.96984028e-01, -7.82427871e-01,\n",
       "       -8.05997192e-01, -9.59290783e-01, -6.77517567e-01, -7.98220076e-02,\n",
       "       -6.83263386e-01, -3.12250028e-01, -1.60227718e-02, -5.96997596e-02,\n",
       "       -8.19519228e-01, -9.23397694e-01, -5.48034494e-01, -1.85985200e-01,\n",
       "       -5.36430167e-01, -2.21764639e-01, -5.13971440e-01, -5.95364548e-01,\n",
       "       -7.50221515e-01, -6.57065859e-01, -9.46893566e-01, -4.62705781e-01,\n",
       "       -3.83772166e-01, -1.29658566e-01, -5.45560865e-01, -7.62926163e-01,\n",
       "       -2.27138124e-01, -8.10734514e-02, -8.57432733e-01, -1.92792668e-01,\n",
       "       -1.93556016e-01, -9.93887478e-02, -1.08862518e-02, -1.02666467e-01,\n",
       "       -4.72329947e-02, -9.70336652e-01, -3.76798862e-01, -2.60538342e-01,\n",
       "       -6.98774348e-01, -6.14891974e-02, -2.83750749e-02, -7.40425646e-01,\n",
       "       -6.93234128e-01, -8.41250519e-01, -1.23131377e-01, -3.67239416e-01,\n",
       "       -2.69705966e-02, -5.91187318e-01, -7.00787618e-01, -7.04805246e-01,\n",
       "       -3.12856263e-01, -3.99133001e-01, -7.92159052e-01, -4.50871708e-01,\n",
       "       -6.81235762e-01, -4.77567400e-02, -7.18909958e-01, -4.60513817e-01,\n",
       "       -7.92082329e-01, -4.35862091e-01, -3.72172498e-01, -3.32212699e-01,\n",
       "       -6.33366202e-01, -3.87448359e-01, -8.12564360e-01, -6.03014021e-01,\n",
       "       -4.01089004e-01, -6.26120434e-02, -1.15826130e-01, -2.62677752e-01,\n",
       "       -8.72663872e-01, -5.74586982e-02, -9.15130495e-01, -7.25414149e-01,\n",
       "       -7.91242341e-01, -5.87293074e-01, -9.21626446e-01, -9.36211789e-01])"
      ]
     },
     "execution_count": 402,
     "metadata": {},
     "output_type": "execute_result"
    }
   ],
   "source": [
    "s = np.random.uniform(-1, 0, 1000)\n",
    "s"
   ]
  },
  {
   "cell_type": "code",
   "execution_count": 403,
   "id": "58457e0c-c663-4419-9cb3-e11194dbe1be",
   "metadata": {},
   "outputs": [
    {
     "data": {
      "text/plain": [
       "1000"
      ]
     },
     "execution_count": 403,
     "metadata": {},
     "output_type": "execute_result"
    }
   ],
   "source": [
    "len(s)"
   ]
  },
  {
   "cell_type": "code",
   "execution_count": 404,
   "id": "a02ebc47-2247-4480-9be9-46e254443108",
   "metadata": {},
   "outputs": [
    {
     "data": {
      "text/plain": [
       "array([72.41492417, 63.11258982, 87.17317368, ..., 76.68128092,\n",
       "       86.99625093, 72.3013644 ])"
      ]
     },
     "execution_count": 404,
     "metadata": {},
     "output_type": "execute_result"
    }
   ],
   "source": [
    "normal_array = np.random.normal(79, 15, 10000)\n",
    "normal_array"
   ]
  },
  {
   "cell_type": "code",
   "execution_count": null,
   "id": "70342c7d-28d0-4058-bcf2-f1b9e60fd2fe",
   "metadata": {},
   "outputs": [],
   "source": []
  },
  {
   "cell_type": "code",
   "execution_count": 405,
   "id": "0ae0bbbd-4815-479c-908d-1011a6d1b0f3",
   "metadata": {},
   "outputs": [],
   "source": [
    "nums = [1, 2, 3, 4,5]\n",
    "s = pd.Series(nums)"
   ]
  },
  {
   "cell_type": "code",
   "execution_count": 406,
   "id": "e9584bd5-cbe3-4a6e-98c1-b0f1efa73e74",
   "metadata": {},
   "outputs": [
    {
     "data": {
      "text/plain": [
       "0    1\n",
       "1    2\n",
       "2    3\n",
       "3    4\n",
       "4    5\n",
       "dtype: int64"
      ]
     },
     "execution_count": 406,
     "metadata": {},
     "output_type": "execute_result"
    }
   ],
   "source": [
    "s"
   ]
  },
  {
   "cell_type": "code",
   "execution_count": null,
   "id": "247d74f3-14cf-487e-b6e6-d9c440945eff",
   "metadata": {},
   "outputs": [],
   "source": []
  },
  {
   "cell_type": "code",
   "execution_count": 407,
   "id": "43dddd7a-4386-4208-bea2-1b1575c1ac2c",
   "metadata": {},
   "outputs": [
    {
     "data": {
      "text/plain": [
       "RangeIndex(start=0, stop=5, step=1)"
      ]
     },
     "execution_count": 407,
     "metadata": {},
     "output_type": "execute_result"
    }
   ],
   "source": [
    "s.index"
   ]
  },
  {
   "cell_type": "code",
   "execution_count": 408,
   "id": "4c94d272-73c4-4fa5-9fda-0c35e97724ef",
   "metadata": {},
   "outputs": [
    {
     "ename": "AttributeError",
     "evalue": "'Series' object has no attribute 'value'",
     "output_type": "error",
     "traceback": [
      "\u001b[1;31m---------------------------------------------------------------------------\u001b[0m",
      "\u001b[1;31mAttributeError\u001b[0m                            Traceback (most recent call last)",
      "\u001b[1;32m~\\AppData\\Local\\Temp\\ipykernel_17112\\4077576533.py\u001b[0m in \u001b[0;36m?\u001b[1;34m()\u001b[0m\n\u001b[1;32m----> 1\u001b[1;33m \u001b[0ms\u001b[0m\u001b[1;33m.\u001b[0m\u001b[0mvalue\u001b[0m\u001b[1;33m\u001b[0m\u001b[1;33m\u001b[0m\u001b[0m\n\u001b[0m",
      "\u001b[1;32mE:\\anaconda\\Lib\\site-packages\\pandas\\core\\generic.py\u001b[0m in \u001b[0;36m?\u001b[1;34m(self, name)\u001b[0m\n\u001b[0;32m   6200\u001b[0m             \u001b[1;32mand\u001b[0m \u001b[0mname\u001b[0m \u001b[1;32mnot\u001b[0m \u001b[1;32min\u001b[0m \u001b[0mself\u001b[0m\u001b[1;33m.\u001b[0m\u001b[0m_accessors\u001b[0m\u001b[1;33m\u001b[0m\u001b[1;33m\u001b[0m\u001b[0m\n\u001b[0;32m   6201\u001b[0m             \u001b[1;32mand\u001b[0m \u001b[0mself\u001b[0m\u001b[1;33m.\u001b[0m\u001b[0m_info_axis\u001b[0m\u001b[1;33m.\u001b[0m\u001b[0m_can_hold_identifiers_and_holds_name\u001b[0m\u001b[1;33m(\u001b[0m\u001b[0mname\u001b[0m\u001b[1;33m)\u001b[0m\u001b[1;33m\u001b[0m\u001b[1;33m\u001b[0m\u001b[0m\n\u001b[0;32m   6202\u001b[0m         ):\n\u001b[0;32m   6203\u001b[0m             \u001b[1;32mreturn\u001b[0m \u001b[0mself\u001b[0m\u001b[1;33m[\u001b[0m\u001b[0mname\u001b[0m\u001b[1;33m]\u001b[0m\u001b[1;33m\u001b[0m\u001b[1;33m\u001b[0m\u001b[0m\n\u001b[1;32m-> 6204\u001b[1;33m         \u001b[1;32mreturn\u001b[0m \u001b[0mobject\u001b[0m\u001b[1;33m.\u001b[0m\u001b[0m__getattribute__\u001b[0m\u001b[1;33m(\u001b[0m\u001b[0mself\u001b[0m\u001b[1;33m,\u001b[0m \u001b[0mname\u001b[0m\u001b[1;33m)\u001b[0m\u001b[1;33m\u001b[0m\u001b[1;33m\u001b[0m\u001b[0m\n\u001b[0m",
      "\u001b[1;31mAttributeError\u001b[0m: 'Series' object has no attribute 'value'"
     ]
    }
   ],
   "source": [
    "s.value"
   ]
  },
  {
   "cell_type": "code",
   "execution_count": null,
   "id": "0aa5fa2b-bed7-45de-bc8c-7bbb39a5366b",
   "metadata": {},
   "outputs": [],
   "source": [
    "s.values"
   ]
  },
  {
   "cell_type": "code",
   "execution_count": 409,
   "id": "1a9feb01-aa87-4db0-b19e-92842e6aa413",
   "metadata": {},
   "outputs": [],
   "source": [
    "s = pd.Series(nums, index = ['a','b','c','d','e'])"
   ]
  },
  {
   "cell_type": "code",
   "execution_count": 410,
   "id": "1bed74b9-b8d5-4ef4-a22c-c28c66897333",
   "metadata": {},
   "outputs": [
    {
     "data": {
      "text/plain": [
       "a    1\n",
       "b    2\n",
       "c    3\n",
       "d    4\n",
       "e    5\n",
       "dtype: int64"
      ]
     },
     "execution_count": 410,
     "metadata": {},
     "output_type": "execute_result"
    }
   ],
   "source": [
    "s"
   ]
  },
  {
   "cell_type": "code",
   "execution_count": 411,
   "id": "59a4e500-2641-42b3-860e-bb5469c9cfe2",
   "metadata": {},
   "outputs": [],
   "source": [
    "s.index = ['A','B', 'C', 'D','E']\n"
   ]
  },
  {
   "cell_type": "code",
   "execution_count": 412,
   "id": "227e7b2f-402c-47b7-b741-37d2495e3fb2",
   "metadata": {},
   "outputs": [
    {
     "data": {
      "text/plain": [
       "A    1\n",
       "B    2\n",
       "C    3\n",
       "D    4\n",
       "E    5\n",
       "dtype: int64"
      ]
     },
     "execution_count": 412,
     "metadata": {},
     "output_type": "execute_result"
    }
   ],
   "source": [
    "s"
   ]
  },
  {
   "cell_type": "code",
   "execution_count": 413,
   "id": "85dd0f96-4ea2-42ea-865f-ec0afc7bd09f",
   "metadata": {},
   "outputs": [
    {
     "name": "stdout",
     "output_type": "stream",
     "text": [
      "1    NaN\n",
      "2    NaN\n",
      "3    NaN\n",
      "dtype: object\n"
     ]
    }
   ],
   "source": [
    "dct = {'name':'Asabeneh','country':'Finland','city':'Helsinki'}\n",
    "s = pd.Series(dct, index = [1, 2, 3])\n",
    "print(s)"
   ]
  },
  {
   "cell_type": "code",
   "execution_count": 414,
   "id": "6448b9f6-6513-435b-a4ea-2e0c0a95d983",
   "metadata": {},
   "outputs": [
    {
     "name": "stdout",
     "output_type": "stream",
     "text": [
      "name       Asabeneh\n",
      "country     Finland\n",
      "city       Helsinki\n",
      "dtype: object\n"
     ]
    }
   ],
   "source": [
    "dct = {'name':'Asabeneh','country':'Finland','city':'Helsinki'}\n",
    "s = pd.Series(dct)\n",
    "print(s)"
   ]
  },
  {
   "cell_type": "code",
   "execution_count": 415,
   "id": "d5f211e0-14c7-4876-9f33-1119082b9a2a",
   "metadata": {},
   "outputs": [],
   "source": [
    "s = pd.Series(10, index = [1, 2, 3])"
   ]
  },
  {
   "cell_type": "code",
   "execution_count": 416,
   "id": "8a9377c2-f374-45f0-bfd4-5e4863b4c093",
   "metadata": {},
   "outputs": [
    {
     "data": {
      "text/plain": [
       "1    10\n",
       "2    10\n",
       "3    10\n",
       "dtype: int64"
      ]
     },
     "execution_count": 416,
     "metadata": {},
     "output_type": "execute_result"
    }
   ],
   "source": [
    "s"
   ]
  },
  {
   "cell_type": "code",
   "execution_count": 417,
   "id": "9ead9e2f-dede-4475-b30b-ec1ca86b3a2a",
   "metadata": {},
   "outputs": [],
   "source": [
    "s = pd.Series(np.linspace(10, 20, 10))"
   ]
  },
  {
   "cell_type": "code",
   "execution_count": 418,
   "id": "c3f71e2d-1c4c-475b-a5dc-769ce2271d73",
   "metadata": {},
   "outputs": [
    {
     "data": {
      "text/plain": [
       "0    10.000000\n",
       "1    11.111111\n",
       "2    12.222222\n",
       "3    13.333333\n",
       "4    14.444444\n",
       "5    15.555556\n",
       "6    16.666667\n",
       "7    17.777778\n",
       "8    18.888889\n",
       "9    20.000000\n",
       "dtype: float64"
      ]
     },
     "execution_count": 418,
     "metadata": {},
     "output_type": "execute_result"
    }
   ],
   "source": [
    "s"
   ]
  },
  {
   "cell_type": "code",
   "execution_count": 419,
   "id": "9f49a885-2a15-4dd0-b63b-d75dd849ae68",
   "metadata": {},
   "outputs": [
    {
     "name": "stdout",
     "output_type": "stream",
     "text": [
      "A    1\n",
      "B    2\n",
      "C    3\n",
      "dtype: int64\n"
     ]
    }
   ],
   "source": [
    "nums = [1, 2, 3]\n",
    "s = pd.Series(nums, index =['A','B','C'])\n",
    "print(s)"
   ]
  },
  {
   "cell_type": "code",
   "execution_count": 420,
   "id": "b3ab6e4f-3845-45eb-99ca-d37197003248",
   "metadata": {},
   "outputs": [
    {
     "data": {
      "text/plain": [
       "1"
      ]
     },
     "execution_count": 420,
     "metadata": {},
     "output_type": "execute_result"
    }
   ],
   "source": [
    "s.A"
   ]
  },
  {
   "cell_type": "code",
   "execution_count": 421,
   "id": "8ea6e457-7ef0-426a-b9a0-06cd24dac106",
   "metadata": {},
   "outputs": [
    {
     "data": {
      "text/plain": [
       "1"
      ]
     },
     "execution_count": 421,
     "metadata": {},
     "output_type": "execute_result"
    }
   ],
   "source": [
    "s['A']"
   ]
  },
  {
   "cell_type": "code",
   "execution_count": 422,
   "id": "62c5de2d-e9f7-4312-9690-0c9243015def",
   "metadata": {},
   "outputs": [
    {
     "data": {
      "text/html": [
       "<div>\n",
       "<style scoped>\n",
       "    .dataframe tbody tr th:only-of-type {\n",
       "        vertical-align: middle;\n",
       "    }\n",
       "\n",
       "    .dataframe tbody tr th {\n",
       "        vertical-align: top;\n",
       "    }\n",
       "\n",
       "    .dataframe thead th {\n",
       "        text-align: right;\n",
       "    }\n",
       "</style>\n",
       "<table border=\"1\" class=\"dataframe\">\n",
       "  <thead>\n",
       "    <tr style=\"text-align: right;\">\n",
       "      <th></th>\n",
       "      <th>Names</th>\n",
       "      <th>Country</th>\n",
       "      <th>City</th>\n",
       "    </tr>\n",
       "  </thead>\n",
       "  <tbody>\n",
       "    <tr>\n",
       "      <th>0</th>\n",
       "      <td>Asabeneh</td>\n",
       "      <td>Finland</td>\n",
       "      <td>Helsink</td>\n",
       "    </tr>\n",
       "    <tr>\n",
       "      <th>1</th>\n",
       "      <td>David</td>\n",
       "      <td>UK</td>\n",
       "      <td>London</td>\n",
       "    </tr>\n",
       "    <tr>\n",
       "      <th>2</th>\n",
       "      <td>John</td>\n",
       "      <td>Sweden</td>\n",
       "      <td>Stockholm</td>\n",
       "    </tr>\n",
       "  </tbody>\n",
       "</table>\n",
       "</div>"
      ],
      "text/plain": [
       "      Names  Country       City\n",
       "0  Asabeneh  Finland    Helsink\n",
       "1     David       UK     London\n",
       "2      John   Sweden  Stockholm"
      ]
     },
     "execution_count": 422,
     "metadata": {},
     "output_type": "execute_result"
    }
   ],
   "source": [
    "data = [\n",
    "    ['Asabeneh', 'Finland', 'Helsink'], \n",
    "    ['David', 'UK', 'London'],\n",
    "    ['John', 'Sweden', 'Stockholm']\n",
    "]\n",
    "df = pd.DataFrame(data, columns=['Names','Country','City'])\n",
    "df"
   ]
  },
  {
   "cell_type": "code",
   "execution_count": 423,
   "id": "1985113e-7636-480f-8482-6342505b25a5",
   "metadata": {},
   "outputs": [],
   "source": [
    "df = pd.read_csv('./data/weight-height.csv')"
   ]
  },
  {
   "cell_type": "code",
   "execution_count": 424,
   "id": "4f82c57c-5ab0-40f2-b85a-7c1f0790e5d7",
   "metadata": {},
   "outputs": [
    {
     "data": {
      "text/html": [
       "<div>\n",
       "<style scoped>\n",
       "    .dataframe tbody tr th:only-of-type {\n",
       "        vertical-align: middle;\n",
       "    }\n",
       "\n",
       "    .dataframe tbody tr th {\n",
       "        vertical-align: top;\n",
       "    }\n",
       "\n",
       "    .dataframe thead th {\n",
       "        text-align: right;\n",
       "    }\n",
       "</style>\n",
       "<table border=\"1\" class=\"dataframe\">\n",
       "  <thead>\n",
       "    <tr style=\"text-align: right;\">\n",
       "      <th></th>\n",
       "      <th>Gender</th>\n",
       "      <th>Height</th>\n",
       "      <th>Weight</th>\n",
       "    </tr>\n",
       "  </thead>\n",
       "  <tbody>\n",
       "    <tr>\n",
       "      <th>0</th>\n",
       "      <td>Male</td>\n",
       "      <td>73.847017</td>\n",
       "      <td>241.893563</td>\n",
       "    </tr>\n",
       "    <tr>\n",
       "      <th>1</th>\n",
       "      <td>Male</td>\n",
       "      <td>68.781904</td>\n",
       "      <td>162.310473</td>\n",
       "    </tr>\n",
       "    <tr>\n",
       "      <th>2</th>\n",
       "      <td>Male</td>\n",
       "      <td>74.110105</td>\n",
       "      <td>212.740856</td>\n",
       "    </tr>\n",
       "    <tr>\n",
       "      <th>3</th>\n",
       "      <td>Male</td>\n",
       "      <td>71.730978</td>\n",
       "      <td>220.042470</td>\n",
       "    </tr>\n",
       "    <tr>\n",
       "      <th>4</th>\n",
       "      <td>Male</td>\n",
       "      <td>69.881796</td>\n",
       "      <td>206.349801</td>\n",
       "    </tr>\n",
       "    <tr>\n",
       "      <th>...</th>\n",
       "      <td>...</td>\n",
       "      <td>...</td>\n",
       "      <td>...</td>\n",
       "    </tr>\n",
       "    <tr>\n",
       "      <th>9995</th>\n",
       "      <td>Female</td>\n",
       "      <td>66.172652</td>\n",
       "      <td>136.777454</td>\n",
       "    </tr>\n",
       "    <tr>\n",
       "      <th>9996</th>\n",
       "      <td>Female</td>\n",
       "      <td>67.067155</td>\n",
       "      <td>170.867906</td>\n",
       "    </tr>\n",
       "    <tr>\n",
       "      <th>9997</th>\n",
       "      <td>Female</td>\n",
       "      <td>63.867992</td>\n",
       "      <td>128.475319</td>\n",
       "    </tr>\n",
       "    <tr>\n",
       "      <th>9998</th>\n",
       "      <td>Female</td>\n",
       "      <td>69.034243</td>\n",
       "      <td>163.852461</td>\n",
       "    </tr>\n",
       "    <tr>\n",
       "      <th>9999</th>\n",
       "      <td>Female</td>\n",
       "      <td>61.944246</td>\n",
       "      <td>113.649103</td>\n",
       "    </tr>\n",
       "  </tbody>\n",
       "</table>\n",
       "<p>10000 rows × 3 columns</p>\n",
       "</div>"
      ],
      "text/plain": [
       "      Gender     Height      Weight\n",
       "0       Male  73.847017  241.893563\n",
       "1       Male  68.781904  162.310473\n",
       "2       Male  74.110105  212.740856\n",
       "3       Male  71.730978  220.042470\n",
       "4       Male  69.881796  206.349801\n",
       "...      ...        ...         ...\n",
       "9995  Female  66.172652  136.777454\n",
       "9996  Female  67.067155  170.867906\n",
       "9997  Female  63.867992  128.475319\n",
       "9998  Female  69.034243  163.852461\n",
       "9999  Female  61.944246  113.649103\n",
       "\n",
       "[10000 rows x 3 columns]"
      ]
     },
     "execution_count": 424,
     "metadata": {},
     "output_type": "execute_result"
    }
   ],
   "source": [
    "df"
   ]
  },
  {
   "cell_type": "code",
   "execution_count": 425,
   "id": "78fc239c-fbd6-4d55-a8b8-d0366fc133f7",
   "metadata": {},
   "outputs": [
    {
     "data": {
      "text/html": [
       "<div>\n",
       "<style scoped>\n",
       "    .dataframe tbody tr th:only-of-type {\n",
       "        vertical-align: middle;\n",
       "    }\n",
       "\n",
       "    .dataframe tbody tr th {\n",
       "        vertical-align: top;\n",
       "    }\n",
       "\n",
       "    .dataframe thead th {\n",
       "        text-align: right;\n",
       "    }\n",
       "</style>\n",
       "<table border=\"1\" class=\"dataframe\">\n",
       "  <thead>\n",
       "    <tr style=\"text-align: right;\">\n",
       "      <th></th>\n",
       "      <th>Gender</th>\n",
       "      <th>Height</th>\n",
       "      <th>Weight</th>\n",
       "    </tr>\n",
       "  </thead>\n",
       "  <tbody>\n",
       "    <tr>\n",
       "      <th>0</th>\n",
       "      <td>Male</td>\n",
       "      <td>73.847017</td>\n",
       "      <td>241.893563</td>\n",
       "    </tr>\n",
       "    <tr>\n",
       "      <th>1</th>\n",
       "      <td>Male</td>\n",
       "      <td>68.781904</td>\n",
       "      <td>162.310473</td>\n",
       "    </tr>\n",
       "    <tr>\n",
       "      <th>2</th>\n",
       "      <td>Male</td>\n",
       "      <td>74.110105</td>\n",
       "      <td>212.740856</td>\n",
       "    </tr>\n",
       "    <tr>\n",
       "      <th>3</th>\n",
       "      <td>Male</td>\n",
       "      <td>71.730978</td>\n",
       "      <td>220.042470</td>\n",
       "    </tr>\n",
       "    <tr>\n",
       "      <th>4</th>\n",
       "      <td>Male</td>\n",
       "      <td>69.881796</td>\n",
       "      <td>206.349801</td>\n",
       "    </tr>\n",
       "    <tr>\n",
       "      <th>5</th>\n",
       "      <td>Male</td>\n",
       "      <td>67.253016</td>\n",
       "      <td>152.212156</td>\n",
       "    </tr>\n",
       "    <tr>\n",
       "      <th>6</th>\n",
       "      <td>Male</td>\n",
       "      <td>68.785081</td>\n",
       "      <td>183.927889</td>\n",
       "    </tr>\n",
       "    <tr>\n",
       "      <th>7</th>\n",
       "      <td>Male</td>\n",
       "      <td>68.348516</td>\n",
       "      <td>167.971110</td>\n",
       "    </tr>\n",
       "    <tr>\n",
       "      <th>8</th>\n",
       "      <td>Male</td>\n",
       "      <td>67.018950</td>\n",
       "      <td>175.929440</td>\n",
       "    </tr>\n",
       "    <tr>\n",
       "      <th>9</th>\n",
       "      <td>Male</td>\n",
       "      <td>63.456494</td>\n",
       "      <td>156.399676</td>\n",
       "    </tr>\n",
       "    <tr>\n",
       "      <th>10</th>\n",
       "      <td>Male</td>\n",
       "      <td>71.195382</td>\n",
       "      <td>186.604926</td>\n",
       "    </tr>\n",
       "    <tr>\n",
       "      <th>11</th>\n",
       "      <td>Male</td>\n",
       "      <td>71.640805</td>\n",
       "      <td>213.741169</td>\n",
       "    </tr>\n",
       "    <tr>\n",
       "      <th>12</th>\n",
       "      <td>Male</td>\n",
       "      <td>64.766329</td>\n",
       "      <td>167.127461</td>\n",
       "    </tr>\n",
       "    <tr>\n",
       "      <th>13</th>\n",
       "      <td>Male</td>\n",
       "      <td>69.283070</td>\n",
       "      <td>189.446181</td>\n",
       "    </tr>\n",
       "    <tr>\n",
       "      <th>14</th>\n",
       "      <td>Male</td>\n",
       "      <td>69.243732</td>\n",
       "      <td>186.434168</td>\n",
       "    </tr>\n",
       "    <tr>\n",
       "      <th>15</th>\n",
       "      <td>Male</td>\n",
       "      <td>67.645620</td>\n",
       "      <td>172.186930</td>\n",
       "    </tr>\n",
       "    <tr>\n",
       "      <th>16</th>\n",
       "      <td>Male</td>\n",
       "      <td>72.418317</td>\n",
       "      <td>196.028506</td>\n",
       "    </tr>\n",
       "    <tr>\n",
       "      <th>17</th>\n",
       "      <td>Male</td>\n",
       "      <td>63.974326</td>\n",
       "      <td>172.883470</td>\n",
       "    </tr>\n",
       "    <tr>\n",
       "      <th>18</th>\n",
       "      <td>Male</td>\n",
       "      <td>69.640060</td>\n",
       "      <td>185.983958</td>\n",
       "    </tr>\n",
       "    <tr>\n",
       "      <th>19</th>\n",
       "      <td>Male</td>\n",
       "      <td>67.936005</td>\n",
       "      <td>182.426648</td>\n",
       "    </tr>\n",
       "    <tr>\n",
       "      <th>20</th>\n",
       "      <td>Male</td>\n",
       "      <td>67.915050</td>\n",
       "      <td>174.115929</td>\n",
       "    </tr>\n",
       "    <tr>\n",
       "      <th>21</th>\n",
       "      <td>Male</td>\n",
       "      <td>69.439440</td>\n",
       "      <td>197.731422</td>\n",
       "    </tr>\n",
       "    <tr>\n",
       "      <th>22</th>\n",
       "      <td>Male</td>\n",
       "      <td>66.149132</td>\n",
       "      <td>149.173566</td>\n",
       "    </tr>\n",
       "    <tr>\n",
       "      <th>23</th>\n",
       "      <td>Male</td>\n",
       "      <td>75.205974</td>\n",
       "      <td>228.761781</td>\n",
       "    </tr>\n",
       "    <tr>\n",
       "      <th>24</th>\n",
       "      <td>Male</td>\n",
       "      <td>67.893196</td>\n",
       "      <td>162.006652</td>\n",
       "    </tr>\n",
       "  </tbody>\n",
       "</table>\n",
       "</div>"
      ],
      "text/plain": [
       "   Gender     Height      Weight\n",
       "0    Male  73.847017  241.893563\n",
       "1    Male  68.781904  162.310473\n",
       "2    Male  74.110105  212.740856\n",
       "3    Male  71.730978  220.042470\n",
       "4    Male  69.881796  206.349801\n",
       "5    Male  67.253016  152.212156\n",
       "6    Male  68.785081  183.927889\n",
       "7    Male  68.348516  167.971110\n",
       "8    Male  67.018950  175.929440\n",
       "9    Male  63.456494  156.399676\n",
       "10   Male  71.195382  186.604926\n",
       "11   Male  71.640805  213.741169\n",
       "12   Male  64.766329  167.127461\n",
       "13   Male  69.283070  189.446181\n",
       "14   Male  69.243732  186.434168\n",
       "15   Male  67.645620  172.186930\n",
       "16   Male  72.418317  196.028506\n",
       "17   Male  63.974326  172.883470\n",
       "18   Male  69.640060  185.983958\n",
       "19   Male  67.936005  182.426648\n",
       "20   Male  67.915050  174.115929\n",
       "21   Male  69.439440  197.731422\n",
       "22   Male  66.149132  149.173566\n",
       "23   Male  75.205974  228.761781\n",
       "24   Male  67.893196  162.006652"
      ]
     },
     "execution_count": 425,
     "metadata": {},
     "output_type": "execute_result"
    }
   ],
   "source": [
    "df.head(25)"
   ]
  },
  {
   "cell_type": "code",
   "execution_count": 426,
   "id": "493a825f-1d74-4389-8e93-bf6039033354",
   "metadata": {},
   "outputs": [
    {
     "data": {
      "text/html": [
       "<div>\n",
       "<style scoped>\n",
       "    .dataframe tbody tr th:only-of-type {\n",
       "        vertical-align: middle;\n",
       "    }\n",
       "\n",
       "    .dataframe tbody tr th {\n",
       "        vertical-align: top;\n",
       "    }\n",
       "\n",
       "    .dataframe thead th {\n",
       "        text-align: right;\n",
       "    }\n",
       "</style>\n",
       "<table border=\"1\" class=\"dataframe\">\n",
       "  <thead>\n",
       "    <tr style=\"text-align: right;\">\n",
       "      <th></th>\n",
       "      <th>Gender</th>\n",
       "      <th>Height</th>\n",
       "      <th>Weight</th>\n",
       "    </tr>\n",
       "  </thead>\n",
       "  <tbody>\n",
       "    <tr>\n",
       "      <th>9995</th>\n",
       "      <td>Female</td>\n",
       "      <td>66.172652</td>\n",
       "      <td>136.777454</td>\n",
       "    </tr>\n",
       "    <tr>\n",
       "      <th>9996</th>\n",
       "      <td>Female</td>\n",
       "      <td>67.067155</td>\n",
       "      <td>170.867906</td>\n",
       "    </tr>\n",
       "    <tr>\n",
       "      <th>9997</th>\n",
       "      <td>Female</td>\n",
       "      <td>63.867992</td>\n",
       "      <td>128.475319</td>\n",
       "    </tr>\n",
       "    <tr>\n",
       "      <th>9998</th>\n",
       "      <td>Female</td>\n",
       "      <td>69.034243</td>\n",
       "      <td>163.852461</td>\n",
       "    </tr>\n",
       "    <tr>\n",
       "      <th>9999</th>\n",
       "      <td>Female</td>\n",
       "      <td>61.944246</td>\n",
       "      <td>113.649103</td>\n",
       "    </tr>\n",
       "  </tbody>\n",
       "</table>\n",
       "</div>"
      ],
      "text/plain": [
       "      Gender     Height      Weight\n",
       "9995  Female  66.172652  136.777454\n",
       "9996  Female  67.067155  170.867906\n",
       "9997  Female  63.867992  128.475319\n",
       "9998  Female  69.034243  163.852461\n",
       "9999  Female  61.944246  113.649103"
      ]
     },
     "execution_count": 426,
     "metadata": {},
     "output_type": "execute_result"
    }
   ],
   "source": [
    "df.tail()"
   ]
  },
  {
   "cell_type": "code",
   "execution_count": 427,
   "id": "c02364dc-1a46-47b3-b5a1-eee83b60d58c",
   "metadata": {},
   "outputs": [
    {
     "data": {
      "text/html": [
       "<div>\n",
       "<style scoped>\n",
       "    .dataframe tbody tr th:only-of-type {\n",
       "        vertical-align: middle;\n",
       "    }\n",
       "\n",
       "    .dataframe tbody tr th {\n",
       "        vertical-align: top;\n",
       "    }\n",
       "\n",
       "    .dataframe thead th {\n",
       "        text-align: right;\n",
       "    }\n",
       "</style>\n",
       "<table border=\"1\" class=\"dataframe\">\n",
       "  <thead>\n",
       "    <tr style=\"text-align: right;\">\n",
       "      <th></th>\n",
       "      <th>Gender</th>\n",
       "      <th>Height</th>\n",
       "      <th>Weight</th>\n",
       "    </tr>\n",
       "  </thead>\n",
       "  <tbody>\n",
       "    <tr>\n",
       "      <th>9990</th>\n",
       "      <td>Female</td>\n",
       "      <td>63.179498</td>\n",
       "      <td>141.266100</td>\n",
       "    </tr>\n",
       "    <tr>\n",
       "      <th>9991</th>\n",
       "      <td>Female</td>\n",
       "      <td>62.636675</td>\n",
       "      <td>102.853563</td>\n",
       "    </tr>\n",
       "    <tr>\n",
       "      <th>9992</th>\n",
       "      <td>Female</td>\n",
       "      <td>62.077832</td>\n",
       "      <td>138.691680</td>\n",
       "    </tr>\n",
       "    <tr>\n",
       "      <th>9993</th>\n",
       "      <td>Female</td>\n",
       "      <td>60.030434</td>\n",
       "      <td>97.687432</td>\n",
       "    </tr>\n",
       "    <tr>\n",
       "      <th>9994</th>\n",
       "      <td>Female</td>\n",
       "      <td>59.098250</td>\n",
       "      <td>110.529686</td>\n",
       "    </tr>\n",
       "    <tr>\n",
       "      <th>9995</th>\n",
       "      <td>Female</td>\n",
       "      <td>66.172652</td>\n",
       "      <td>136.777454</td>\n",
       "    </tr>\n",
       "    <tr>\n",
       "      <th>9996</th>\n",
       "      <td>Female</td>\n",
       "      <td>67.067155</td>\n",
       "      <td>170.867906</td>\n",
       "    </tr>\n",
       "    <tr>\n",
       "      <th>9997</th>\n",
       "      <td>Female</td>\n",
       "      <td>63.867992</td>\n",
       "      <td>128.475319</td>\n",
       "    </tr>\n",
       "    <tr>\n",
       "      <th>9998</th>\n",
       "      <td>Female</td>\n",
       "      <td>69.034243</td>\n",
       "      <td>163.852461</td>\n",
       "    </tr>\n",
       "    <tr>\n",
       "      <th>9999</th>\n",
       "      <td>Female</td>\n",
       "      <td>61.944246</td>\n",
       "      <td>113.649103</td>\n",
       "    </tr>\n",
       "  </tbody>\n",
       "</table>\n",
       "</div>"
      ],
      "text/plain": [
       "      Gender     Height      Weight\n",
       "9990  Female  63.179498  141.266100\n",
       "9991  Female  62.636675  102.853563\n",
       "9992  Female  62.077832  138.691680\n",
       "9993  Female  60.030434   97.687432\n",
       "9994  Female  59.098250  110.529686\n",
       "9995  Female  66.172652  136.777454\n",
       "9996  Female  67.067155  170.867906\n",
       "9997  Female  63.867992  128.475319\n",
       "9998  Female  69.034243  163.852461\n",
       "9999  Female  61.944246  113.649103"
      ]
     },
     "execution_count": 427,
     "metadata": {},
     "output_type": "execute_result"
    }
   ],
   "source": [
    "df.tail(10)"
   ]
  },
  {
   "cell_type": "code",
   "execution_count": 428,
   "id": "adbab936-5623-4e70-a496-f04c40ba6a22",
   "metadata": {},
   "outputs": [
    {
     "data": {
      "text/plain": [
       "Index(['Gender', 'Height', 'Weight'], dtype='object')"
      ]
     },
     "execution_count": 428,
     "metadata": {},
     "output_type": "execute_result"
    }
   ],
   "source": [
    "df.columns"
   ]
  },
  {
   "cell_type": "code",
   "execution_count": 429,
   "id": "29289da5-b1bb-4935-92d4-1d5c0bc73869",
   "metadata": {},
   "outputs": [
    {
     "data": {
      "text/plain": [
       "(10000, 3)"
      ]
     },
     "execution_count": 429,
     "metadata": {},
     "output_type": "execute_result"
    }
   ],
   "source": [
    "df.shape"
   ]
  },
  {
   "cell_type": "code",
   "execution_count": 430,
   "id": "9125d469-030b-4a6d-bba5-b13fd5b64560",
   "metadata": {},
   "outputs": [
    {
     "name": "stdout",
     "output_type": "stream",
     "text": [
      "<class 'pandas.core.frame.DataFrame'>\n",
      "RangeIndex: 10000 entries, 0 to 9999\n",
      "Data columns (total 3 columns):\n",
      " #   Column  Non-Null Count  Dtype  \n",
      "---  ------  --------------  -----  \n",
      " 0   Gender  10000 non-null  object \n",
      " 1   Height  10000 non-null  float64\n",
      " 2   Weight  10000 non-null  float64\n",
      "dtypes: float64(2), object(1)\n",
      "memory usage: 234.5+ KB\n"
     ]
    }
   ],
   "source": [
    "df.info()"
   ]
  },
  {
   "cell_type": "code",
   "execution_count": 431,
   "id": "925f2f4d-5b52-460f-93f8-df92e8baef40",
   "metadata": {},
   "outputs": [
    {
     "data": {
      "text/html": [
       "<div>\n",
       "<style scoped>\n",
       "    .dataframe tbody tr th:only-of-type {\n",
       "        vertical-align: middle;\n",
       "    }\n",
       "\n",
       "    .dataframe tbody tr th {\n",
       "        vertical-align: top;\n",
       "    }\n",
       "\n",
       "    .dataframe thead th {\n",
       "        text-align: right;\n",
       "    }\n",
       "</style>\n",
       "<table border=\"1\" class=\"dataframe\">\n",
       "  <thead>\n",
       "    <tr style=\"text-align: right;\">\n",
       "      <th></th>\n",
       "      <th>Height</th>\n",
       "      <th>Weight</th>\n",
       "    </tr>\n",
       "  </thead>\n",
       "  <tbody>\n",
       "    <tr>\n",
       "      <th>count</th>\n",
       "      <td>10000.000000</td>\n",
       "      <td>10000.000000</td>\n",
       "    </tr>\n",
       "    <tr>\n",
       "      <th>mean</th>\n",
       "      <td>66.367560</td>\n",
       "      <td>161.440357</td>\n",
       "    </tr>\n",
       "    <tr>\n",
       "      <th>std</th>\n",
       "      <td>3.847528</td>\n",
       "      <td>32.108439</td>\n",
       "    </tr>\n",
       "    <tr>\n",
       "      <th>min</th>\n",
       "      <td>54.263133</td>\n",
       "      <td>64.700127</td>\n",
       "    </tr>\n",
       "    <tr>\n",
       "      <th>25%</th>\n",
       "      <td>63.505620</td>\n",
       "      <td>135.818051</td>\n",
       "    </tr>\n",
       "    <tr>\n",
       "      <th>50%</th>\n",
       "      <td>66.318070</td>\n",
       "      <td>161.212928</td>\n",
       "    </tr>\n",
       "    <tr>\n",
       "      <th>75%</th>\n",
       "      <td>69.174262</td>\n",
       "      <td>187.169525</td>\n",
       "    </tr>\n",
       "    <tr>\n",
       "      <th>max</th>\n",
       "      <td>78.998742</td>\n",
       "      <td>269.989699</td>\n",
       "    </tr>\n",
       "  </tbody>\n",
       "</table>\n",
       "</div>"
      ],
      "text/plain": [
       "             Height        Weight\n",
       "count  10000.000000  10000.000000\n",
       "mean      66.367560    161.440357\n",
       "std        3.847528     32.108439\n",
       "min       54.263133     64.700127\n",
       "25%       63.505620    135.818051\n",
       "50%       66.318070    161.212928\n",
       "75%       69.174262    187.169525\n",
       "max       78.998742    269.989699"
      ]
     },
     "execution_count": 431,
     "metadata": {},
     "output_type": "execute_result"
    }
   ],
   "source": [
    "df.describe()"
   ]
  },
  {
   "cell_type": "code",
   "execution_count": 432,
   "id": "67dd0d15-0322-49a7-b2ce-48190866db0b",
   "metadata": {},
   "outputs": [
    {
     "data": {
      "text/html": [
       "<div>\n",
       "<style scoped>\n",
       "    .dataframe tbody tr th:only-of-type {\n",
       "        vertical-align: middle;\n",
       "    }\n",
       "\n",
       "    .dataframe tbody tr th {\n",
       "        vertical-align: top;\n",
       "    }\n",
       "\n",
       "    .dataframe thead th {\n",
       "        text-align: right;\n",
       "    }\n",
       "</style>\n",
       "<table border=\"1\" class=\"dataframe\">\n",
       "  <thead>\n",
       "    <tr style=\"text-align: right;\">\n",
       "      <th></th>\n",
       "      <th>Gender</th>\n",
       "      <th>Height</th>\n",
       "      <th>Weight</th>\n",
       "    </tr>\n",
       "  </thead>\n",
       "  <tbody>\n",
       "    <tr>\n",
       "      <th>count</th>\n",
       "      <td>10000</td>\n",
       "      <td>10000.000000</td>\n",
       "      <td>10000.000000</td>\n",
       "    </tr>\n",
       "    <tr>\n",
       "      <th>unique</th>\n",
       "      <td>2</td>\n",
       "      <td>NaN</td>\n",
       "      <td>NaN</td>\n",
       "    </tr>\n",
       "    <tr>\n",
       "      <th>top</th>\n",
       "      <td>Male</td>\n",
       "      <td>NaN</td>\n",
       "      <td>NaN</td>\n",
       "    </tr>\n",
       "    <tr>\n",
       "      <th>freq</th>\n",
       "      <td>5000</td>\n",
       "      <td>NaN</td>\n",
       "      <td>NaN</td>\n",
       "    </tr>\n",
       "    <tr>\n",
       "      <th>mean</th>\n",
       "      <td>NaN</td>\n",
       "      <td>66.367560</td>\n",
       "      <td>161.440357</td>\n",
       "    </tr>\n",
       "    <tr>\n",
       "      <th>std</th>\n",
       "      <td>NaN</td>\n",
       "      <td>3.847528</td>\n",
       "      <td>32.108439</td>\n",
       "    </tr>\n",
       "    <tr>\n",
       "      <th>min</th>\n",
       "      <td>NaN</td>\n",
       "      <td>54.263133</td>\n",
       "      <td>64.700127</td>\n",
       "    </tr>\n",
       "    <tr>\n",
       "      <th>25%</th>\n",
       "      <td>NaN</td>\n",
       "      <td>63.505620</td>\n",
       "      <td>135.818051</td>\n",
       "    </tr>\n",
       "    <tr>\n",
       "      <th>50%</th>\n",
       "      <td>NaN</td>\n",
       "      <td>66.318070</td>\n",
       "      <td>161.212928</td>\n",
       "    </tr>\n",
       "    <tr>\n",
       "      <th>75%</th>\n",
       "      <td>NaN</td>\n",
       "      <td>69.174262</td>\n",
       "      <td>187.169525</td>\n",
       "    </tr>\n",
       "    <tr>\n",
       "      <th>85%</th>\n",
       "      <td>NaN</td>\n",
       "      <td>70.577106</td>\n",
       "      <td>197.536443</td>\n",
       "    </tr>\n",
       "    <tr>\n",
       "      <th>max</th>\n",
       "      <td>NaN</td>\n",
       "      <td>78.998742</td>\n",
       "      <td>269.989699</td>\n",
       "    </tr>\n",
       "  </tbody>\n",
       "</table>\n",
       "</div>"
      ],
      "text/plain": [
       "       Gender        Height        Weight\n",
       "count   10000  10000.000000  10000.000000\n",
       "unique      2           NaN           NaN\n",
       "top      Male           NaN           NaN\n",
       "freq     5000           NaN           NaN\n",
       "mean      NaN     66.367560    161.440357\n",
       "std       NaN      3.847528     32.108439\n",
       "min       NaN     54.263133     64.700127\n",
       "25%       NaN     63.505620    135.818051\n",
       "50%       NaN     66.318070    161.212928\n",
       "75%       NaN     69.174262    187.169525\n",
       "85%       NaN     70.577106    197.536443\n",
       "max       NaN     78.998742    269.989699"
      ]
     },
     "execution_count": 432,
     "metadata": {},
     "output_type": "execute_result"
    }
   ],
   "source": [
    "df.describe(include='all', percentiles=[0.25, 0.5, 0.75, 0.85])"
   ]
  },
  {
   "cell_type": "code",
   "execution_count": 433,
   "id": "344758a1-0e20-4b71-a4e5-18f7cf3012de",
   "metadata": {},
   "outputs": [
    {
     "data": {
      "text/html": [
       "<div>\n",
       "<style scoped>\n",
       "    .dataframe tbody tr th:only-of-type {\n",
       "        vertical-align: middle;\n",
       "    }\n",
       "\n",
       "    .dataframe tbody tr th {\n",
       "        vertical-align: top;\n",
       "    }\n",
       "\n",
       "    .dataframe thead th {\n",
       "        text-align: right;\n",
       "    }\n",
       "</style>\n",
       "<table border=\"1\" class=\"dataframe\">\n",
       "  <thead>\n",
       "    <tr style=\"text-align: right;\">\n",
       "      <th></th>\n",
       "      <th>Name</th>\n",
       "      <th>Country</th>\n",
       "      <th>City</th>\n",
       "    </tr>\n",
       "  </thead>\n",
       "  <tbody>\n",
       "    <tr>\n",
       "      <th>0</th>\n",
       "      <td>Asabeneh</td>\n",
       "      <td>Finland</td>\n",
       "      <td>Helsinki</td>\n",
       "    </tr>\n",
       "    <tr>\n",
       "      <th>1</th>\n",
       "      <td>David</td>\n",
       "      <td>UK</td>\n",
       "      <td>London</td>\n",
       "    </tr>\n",
       "    <tr>\n",
       "      <th>2</th>\n",
       "      <td>John</td>\n",
       "      <td>Sweden</td>\n",
       "      <td>Stockholm</td>\n",
       "    </tr>\n",
       "    <tr>\n",
       "      <th>3</th>\n",
       "      <td>Eyob</td>\n",
       "      <td>Finland</td>\n",
       "      <td>Espoo</td>\n",
       "    </tr>\n",
       "    <tr>\n",
       "      <th>4</th>\n",
       "      <td>Pawel</td>\n",
       "      <td>Poland</td>\n",
       "      <td>Warsaw</td>\n",
       "    </tr>\n",
       "    <tr>\n",
       "      <th>5</th>\n",
       "      <td>Mahlet</td>\n",
       "      <td>Ethiopia</td>\n",
       "      <td>Addis Ababa</td>\n",
       "    </tr>\n",
       "    <tr>\n",
       "      <th>6</th>\n",
       "      <td>Thomas</td>\n",
       "      <td>Ethiopia</td>\n",
       "      <td>Bahir Dar</td>\n",
       "    </tr>\n",
       "    <tr>\n",
       "      <th>7</th>\n",
       "      <td>Lidiya</td>\n",
       "      <td>NaN</td>\n",
       "      <td>NaN</td>\n",
       "    </tr>\n",
       "  </tbody>\n",
       "</table>\n",
       "</div>"
      ],
      "text/plain": [
       "       Name   Country         City\n",
       "0  Asabeneh   Finland     Helsinki\n",
       "1     David        UK       London\n",
       "2      John    Sweden    Stockholm\n",
       "3      Eyob   Finland        Espoo\n",
       "4     Pawel    Poland       Warsaw\n",
       "5    Mahlet  Ethiopia  Addis Ababa\n",
       "6    Thomas  Ethiopia    Bahir Dar\n",
       "7    Lidiya       NaN          NaN"
      ]
     },
     "execution_count": 433,
     "metadata": {},
     "output_type": "execute_result"
    }
   ],
   "source": [
    "data = [\n",
    "    {\"Name\": \"Asabeneh\", \"Country\":\"Finland\",\"City\":\"Helsinki\"},\n",
    "    {\"Name\": \"David\", \"Country\":\"UK\",\"City\":\"London\"},\n",
    "    {\"Name\": \"John\", \"Country\":\"Sweden\",\"City\":\"Stockholm\"},\n",
    "    {\"Name\": \"Eyob\", \"Country\":\"Finland\",\"City\":\"Espoo\"},\n",
    "    {\"Name\": \"Pawel\", \"Country\":\"Poland\",\"City\":\"Warsaw\"},\n",
    "    {\"Name\": \"Mahlet\", \"Country\":\"Ethiopia\",\"City\":\"Addis Ababa\"},\n",
    "    {\"Name\": \"Thomas\", \"Country\":\"Ethiopia\",\"City\":\"Bahir Dar\"},\n",
    "    {\"Name\": \"Lidiya\", \"Country\":float('NaN'),\"City\":float('NaN')},\n",
    "]\n",
    "df = pd.DataFrame(data)\n",
    "df"
   ]
  },
  {
   "cell_type": "code",
   "execution_count": 434,
   "id": "430a4b5e-1153-47ee-bca3-c8e48738ccd1",
   "metadata": {},
   "outputs": [
    {
     "name": "stdout",
     "output_type": "stream",
     "text": [
      "<class 'pandas.core.frame.DataFrame'>\n",
      "RangeIndex: 8 entries, 0 to 7\n",
      "Data columns (total 3 columns):\n",
      " #   Column   Non-Null Count  Dtype \n",
      "---  ------   --------------  ----- \n",
      " 0   Name     8 non-null      object\n",
      " 1   Country  7 non-null      object\n",
      " 2   City     7 non-null      object\n",
      "dtypes: object(3)\n",
      "memory usage: 324.0+ bytes\n"
     ]
    }
   ],
   "source": [
    "df.info()"
   ]
  },
  {
   "cell_type": "code",
   "execution_count": 435,
   "id": "23f7ec2f-3d37-40c1-b175-2796c3ce57be",
   "metadata": {},
   "outputs": [
    {
     "data": {
      "text/html": [
       "<div>\n",
       "<style scoped>\n",
       "    .dataframe tbody tr th:only-of-type {\n",
       "        vertical-align: middle;\n",
       "    }\n",
       "\n",
       "    .dataframe tbody tr th {\n",
       "        vertical-align: top;\n",
       "    }\n",
       "\n",
       "    .dataframe thead th {\n",
       "        text-align: right;\n",
       "    }\n",
       "</style>\n",
       "<table border=\"1\" class=\"dataframe\">\n",
       "  <thead>\n",
       "    <tr style=\"text-align: right;\">\n",
       "      <th></th>\n",
       "      <th>Name</th>\n",
       "      <th>Country</th>\n",
       "      <th>City</th>\n",
       "      <th>Weight</th>\n",
       "    </tr>\n",
       "  </thead>\n",
       "  <tbody>\n",
       "    <tr>\n",
       "      <th>0</th>\n",
       "      <td>Asabeneh</td>\n",
       "      <td>Finland</td>\n",
       "      <td>Helsinki</td>\n",
       "      <td>74.0</td>\n",
       "    </tr>\n",
       "    <tr>\n",
       "      <th>1</th>\n",
       "      <td>David</td>\n",
       "      <td>UK</td>\n",
       "      <td>London</td>\n",
       "      <td>78.0</td>\n",
       "    </tr>\n",
       "    <tr>\n",
       "      <th>2</th>\n",
       "      <td>John</td>\n",
       "      <td>Sweden</td>\n",
       "      <td>Stockholm</td>\n",
       "      <td>68.0</td>\n",
       "    </tr>\n",
       "    <tr>\n",
       "      <th>3</th>\n",
       "      <td>Eyob</td>\n",
       "      <td>Finland</td>\n",
       "      <td>Espoo</td>\n",
       "      <td>108.0</td>\n",
       "    </tr>\n",
       "    <tr>\n",
       "      <th>4</th>\n",
       "      <td>Pawel</td>\n",
       "      <td>Poland</td>\n",
       "      <td>Warsaw</td>\n",
       "      <td>102.0</td>\n",
       "    </tr>\n",
       "    <tr>\n",
       "      <th>5</th>\n",
       "      <td>Mahlet</td>\n",
       "      <td>Ethiopia</td>\n",
       "      <td>Addis Ababa</td>\n",
       "      <td>58.0</td>\n",
       "    </tr>\n",
       "    <tr>\n",
       "      <th>6</th>\n",
       "      <td>Thomas</td>\n",
       "      <td>Ethiopia</td>\n",
       "      <td>Bahir Dar</td>\n",
       "      <td>52.0</td>\n",
       "    </tr>\n",
       "    <tr>\n",
       "      <th>7</th>\n",
       "      <td>Lidiya</td>\n",
       "      <td>NaN</td>\n",
       "      <td>NaN</td>\n",
       "      <td>NaN</td>\n",
       "    </tr>\n",
       "  </tbody>\n",
       "</table>\n",
       "</div>"
      ],
      "text/plain": [
       "       Name   Country         City  Weight\n",
       "0  Asabeneh   Finland     Helsinki    74.0\n",
       "1     David        UK       London    78.0\n",
       "2      John    Sweden    Stockholm    68.0\n",
       "3      Eyob   Finland        Espoo   108.0\n",
       "4     Pawel    Poland       Warsaw   102.0\n",
       "5    Mahlet  Ethiopia  Addis Ababa    58.0\n",
       "6    Thomas  Ethiopia    Bahir Dar    52.0\n",
       "7    Lidiya       NaN          NaN     NaN"
      ]
     },
     "execution_count": 435,
     "metadata": {},
     "output_type": "execute_result"
    }
   ],
   "source": [
    "weights = [74, 78, 68, 108, 102, 58, 52, float('NaN')]\n",
    "df['Weight'] = weights\n",
    "df"
   ]
  },
  {
   "cell_type": "code",
   "execution_count": 436,
   "id": "8873a33c-f2a3-4a3e-bdca-15918e391d77",
   "metadata": {},
   "outputs": [
    {
     "data": {
      "text/html": [
       "<div>\n",
       "<style scoped>\n",
       "    .dataframe tbody tr th:only-of-type {\n",
       "        vertical-align: middle;\n",
       "    }\n",
       "\n",
       "    .dataframe tbody tr th {\n",
       "        vertical-align: top;\n",
       "    }\n",
       "\n",
       "    .dataframe thead th {\n",
       "        text-align: right;\n",
       "    }\n",
       "</style>\n",
       "<table border=\"1\" class=\"dataframe\">\n",
       "  <thead>\n",
       "    <tr style=\"text-align: right;\">\n",
       "      <th></th>\n",
       "      <th>Name</th>\n",
       "      <th>Country</th>\n",
       "      <th>City</th>\n",
       "      <th>Weight</th>\n",
       "    </tr>\n",
       "  </thead>\n",
       "  <tbody>\n",
       "    <tr>\n",
       "      <th>0</th>\n",
       "      <td>Asabeneh</td>\n",
       "      <td>Finland</td>\n",
       "      <td>Helsinki</td>\n",
       "      <td>74.0</td>\n",
       "    </tr>\n",
       "    <tr>\n",
       "      <th>1</th>\n",
       "      <td>David</td>\n",
       "      <td>UK</td>\n",
       "      <td>London</td>\n",
       "      <td>78.0</td>\n",
       "    </tr>\n",
       "    <tr>\n",
       "      <th>2</th>\n",
       "      <td>John</td>\n",
       "      <td>Sweden</td>\n",
       "      <td>Stockholm</td>\n",
       "      <td>68.0</td>\n",
       "    </tr>\n",
       "    <tr>\n",
       "      <th>3</th>\n",
       "      <td>Eyob</td>\n",
       "      <td>Finland</td>\n",
       "      <td>Espoo</td>\n",
       "      <td>108.0</td>\n",
       "    </tr>\n",
       "    <tr>\n",
       "      <th>4</th>\n",
       "      <td>Pawel</td>\n",
       "      <td>Poland</td>\n",
       "      <td>Warsaw</td>\n",
       "      <td>102.0</td>\n",
       "    </tr>\n",
       "    <tr>\n",
       "      <th>5</th>\n",
       "      <td>Mahlet</td>\n",
       "      <td>Ethiopia</td>\n",
       "      <td>Addis Ababa</td>\n",
       "      <td>58.0</td>\n",
       "    </tr>\n",
       "    <tr>\n",
       "      <th>6</th>\n",
       "      <td>Thomas</td>\n",
       "      <td>Ethiopia</td>\n",
       "      <td>Bahir Dar</td>\n",
       "      <td>52.0</td>\n",
       "    </tr>\n",
       "    <tr>\n",
       "      <th>7</th>\n",
       "      <td>Lidiya</td>\n",
       "      <td>NaN</td>\n",
       "      <td>NaN</td>\n",
       "      <td>NaN</td>\n",
       "    </tr>\n",
       "  </tbody>\n",
       "</table>\n",
       "</div>"
      ],
      "text/plain": [
       "       Name   Country         City  Weight\n",
       "0  Asabeneh   Finland     Helsinki    74.0\n",
       "1     David        UK       London    78.0\n",
       "2      John    Sweden    Stockholm    68.0\n",
       "3      Eyob   Finland        Espoo   108.0\n",
       "4     Pawel    Poland       Warsaw   102.0\n",
       "5    Mahlet  Ethiopia  Addis Ababa    58.0\n",
       "6    Thomas  Ethiopia    Bahir Dar    52.0\n",
       "7    Lidiya       NaN          NaN     NaN"
      ]
     },
     "execution_count": 436,
     "metadata": {},
     "output_type": "execute_result"
    }
   ],
   "source": [
    "df"
   ]
  },
  {
   "cell_type": "code",
   "execution_count": 437,
   "id": "63df58f0-fc45-4661-8b9c-dc8a350ad107",
   "metadata": {},
   "outputs": [
    {
     "data": {
      "text/html": [
       "<div>\n",
       "<style scoped>\n",
       "    .dataframe tbody tr th:only-of-type {\n",
       "        vertical-align: middle;\n",
       "    }\n",
       "\n",
       "    .dataframe tbody tr th {\n",
       "        vertical-align: top;\n",
       "    }\n",
       "\n",
       "    .dataframe thead th {\n",
       "        text-align: right;\n",
       "    }\n",
       "</style>\n",
       "<table border=\"1\" class=\"dataframe\">\n",
       "  <thead>\n",
       "    <tr style=\"text-align: right;\">\n",
       "      <th></th>\n",
       "      <th>Name</th>\n",
       "      <th>Country</th>\n",
       "      <th>City</th>\n",
       "      <th>Weight</th>\n",
       "      <th>Height</th>\n",
       "    </tr>\n",
       "  </thead>\n",
       "  <tbody>\n",
       "    <tr>\n",
       "      <th>0</th>\n",
       "      <td>Asabeneh</td>\n",
       "      <td>Finland</td>\n",
       "      <td>Helsinki</td>\n",
       "      <td>74.0</td>\n",
       "      <td>173.0</td>\n",
       "    </tr>\n",
       "    <tr>\n",
       "      <th>1</th>\n",
       "      <td>David</td>\n",
       "      <td>UK</td>\n",
       "      <td>London</td>\n",
       "      <td>78.0</td>\n",
       "      <td>175.0</td>\n",
       "    </tr>\n",
       "    <tr>\n",
       "      <th>2</th>\n",
       "      <td>John</td>\n",
       "      <td>Sweden</td>\n",
       "      <td>Stockholm</td>\n",
       "      <td>68.0</td>\n",
       "      <td>169.0</td>\n",
       "    </tr>\n",
       "    <tr>\n",
       "      <th>3</th>\n",
       "      <td>Eyob</td>\n",
       "      <td>Finland</td>\n",
       "      <td>Espoo</td>\n",
       "      <td>108.0</td>\n",
       "      <td>173.0</td>\n",
       "    </tr>\n",
       "    <tr>\n",
       "      <th>4</th>\n",
       "      <td>Pawel</td>\n",
       "      <td>Poland</td>\n",
       "      <td>Warsaw</td>\n",
       "      <td>102.0</td>\n",
       "      <td>195.0</td>\n",
       "    </tr>\n",
       "    <tr>\n",
       "      <th>5</th>\n",
       "      <td>Mahlet</td>\n",
       "      <td>Ethiopia</td>\n",
       "      <td>Addis Ababa</td>\n",
       "      <td>58.0</td>\n",
       "      <td>168.0</td>\n",
       "    </tr>\n",
       "    <tr>\n",
       "      <th>6</th>\n",
       "      <td>Thomas</td>\n",
       "      <td>Ethiopia</td>\n",
       "      <td>Bahir Dar</td>\n",
       "      <td>52.0</td>\n",
       "      <td>170.0</td>\n",
       "    </tr>\n",
       "    <tr>\n",
       "      <th>7</th>\n",
       "      <td>Lidiya</td>\n",
       "      <td>NaN</td>\n",
       "      <td>NaN</td>\n",
       "      <td>NaN</td>\n",
       "      <td>NaN</td>\n",
       "    </tr>\n",
       "  </tbody>\n",
       "</table>\n",
       "</div>"
      ],
      "text/plain": [
       "       Name   Country         City  Weight  Height\n",
       "0  Asabeneh   Finland     Helsinki    74.0   173.0\n",
       "1     David        UK       London    78.0   175.0\n",
       "2      John    Sweden    Stockholm    68.0   169.0\n",
       "3      Eyob   Finland        Espoo   108.0   173.0\n",
       "4     Pawel    Poland       Warsaw   102.0   195.0\n",
       "5    Mahlet  Ethiopia  Addis Ababa    58.0   168.0\n",
       "6    Thomas  Ethiopia    Bahir Dar    52.0   170.0\n",
       "7    Lidiya       NaN          NaN     NaN     NaN"
      ]
     },
     "execution_count": 437,
     "metadata": {},
     "output_type": "execute_result"
    }
   ],
   "source": [
    "heights = [173, 175, 169, 173, 195,168, 170, float('NaN')]\n",
    "df['Height'] = heights\n",
    "df"
   ]
  },
  {
   "cell_type": "code",
   "execution_count": 438,
   "id": "e1d4e4e0-f816-49e6-96a6-4ab3484d2192",
   "metadata": {},
   "outputs": [
    {
     "data": {
      "text/html": [
       "<div>\n",
       "<style scoped>\n",
       "    .dataframe tbody tr th:only-of-type {\n",
       "        vertical-align: middle;\n",
       "    }\n",
       "\n",
       "    .dataframe tbody tr th {\n",
       "        vertical-align: top;\n",
       "    }\n",
       "\n",
       "    .dataframe thead th {\n",
       "        text-align: right;\n",
       "    }\n",
       "</style>\n",
       "<table border=\"1\" class=\"dataframe\">\n",
       "  <thead>\n",
       "    <tr style=\"text-align: right;\">\n",
       "      <th></th>\n",
       "      <th>Name</th>\n",
       "      <th>Country</th>\n",
       "      <th>City</th>\n",
       "      <th>Weight</th>\n",
       "      <th>Height</th>\n",
       "    </tr>\n",
       "  </thead>\n",
       "  <tbody>\n",
       "    <tr>\n",
       "      <th>0</th>\n",
       "      <td>Asabeneh</td>\n",
       "      <td>Finland</td>\n",
       "      <td>Helsinki</td>\n",
       "      <td>74.0</td>\n",
       "      <td>1.73</td>\n",
       "    </tr>\n",
       "    <tr>\n",
       "      <th>1</th>\n",
       "      <td>David</td>\n",
       "      <td>UK</td>\n",
       "      <td>London</td>\n",
       "      <td>78.0</td>\n",
       "      <td>1.75</td>\n",
       "    </tr>\n",
       "    <tr>\n",
       "      <th>2</th>\n",
       "      <td>John</td>\n",
       "      <td>Sweden</td>\n",
       "      <td>Stockholm</td>\n",
       "      <td>68.0</td>\n",
       "      <td>1.69</td>\n",
       "    </tr>\n",
       "    <tr>\n",
       "      <th>3</th>\n",
       "      <td>Eyob</td>\n",
       "      <td>Finland</td>\n",
       "      <td>Espoo</td>\n",
       "      <td>108.0</td>\n",
       "      <td>1.73</td>\n",
       "    </tr>\n",
       "    <tr>\n",
       "      <th>4</th>\n",
       "      <td>Pawel</td>\n",
       "      <td>Poland</td>\n",
       "      <td>Warsaw</td>\n",
       "      <td>102.0</td>\n",
       "      <td>1.95</td>\n",
       "    </tr>\n",
       "    <tr>\n",
       "      <th>5</th>\n",
       "      <td>Mahlet</td>\n",
       "      <td>Ethiopia</td>\n",
       "      <td>Addis Ababa</td>\n",
       "      <td>58.0</td>\n",
       "      <td>1.68</td>\n",
       "    </tr>\n",
       "    <tr>\n",
       "      <th>6</th>\n",
       "      <td>Thomas</td>\n",
       "      <td>Ethiopia</td>\n",
       "      <td>Bahir Dar</td>\n",
       "      <td>52.0</td>\n",
       "      <td>1.70</td>\n",
       "    </tr>\n",
       "    <tr>\n",
       "      <th>7</th>\n",
       "      <td>Lidiya</td>\n",
       "      <td>NaN</td>\n",
       "      <td>NaN</td>\n",
       "      <td>NaN</td>\n",
       "      <td>NaN</td>\n",
       "    </tr>\n",
       "  </tbody>\n",
       "</table>\n",
       "</div>"
      ],
      "text/plain": [
       "       Name   Country         City  Weight  Height\n",
       "0  Asabeneh   Finland     Helsinki    74.0    1.73\n",
       "1     David        UK       London    78.0    1.75\n",
       "2      John    Sweden    Stockholm    68.0    1.69\n",
       "3      Eyob   Finland        Espoo   108.0    1.73\n",
       "4     Pawel    Poland       Warsaw   102.0    1.95\n",
       "5    Mahlet  Ethiopia  Addis Ababa    58.0    1.68\n",
       "6    Thomas  Ethiopia    Bahir Dar    52.0    1.70\n",
       "7    Lidiya       NaN          NaN     NaN     NaN"
      ]
     },
     "execution_count": 438,
     "metadata": {},
     "output_type": "execute_result"
    }
   ],
   "source": [
    "df['Height'] = df['Height'] * 0.01\n",
    "df"
   ]
  },
  {
   "cell_type": "code",
   "execution_count": 439,
   "id": "8b233a9b-c5ec-4c4d-8b5d-376a707fef98",
   "metadata": {},
   "outputs": [],
   "source": [
    "# Using functions makes our code clean, but you can calculate the bmi without a function\n",
    "def calculate_bmi ():\n",
    "    weights = df['Weight']\n",
    "    heights = df['Height']\n",
    "    bmi = []\n",
    "    for w,h in zip(weights, heights):\n",
    "        b = w/(h*h)\n",
    "        bmi.append(b)\n",
    "    return bmi\n",
    "    \n",
    "bmi = calculate_bmi()"
   ]
  },
  {
   "cell_type": "code",
   "execution_count": 440,
   "id": "002c2325-8bdb-4aca-b02c-b61e7ac1243b",
   "metadata": {},
   "outputs": [],
   "source": [
    "df['BMI'] = bmi"
   ]
  },
  {
   "cell_type": "code",
   "execution_count": 441,
   "id": "a2860c1f-7034-46cf-ad9a-4f556ee103d4",
   "metadata": {},
   "outputs": [
    {
     "data": {
      "text/html": [
       "<div>\n",
       "<style scoped>\n",
       "    .dataframe tbody tr th:only-of-type {\n",
       "        vertical-align: middle;\n",
       "    }\n",
       "\n",
       "    .dataframe tbody tr th {\n",
       "        vertical-align: top;\n",
       "    }\n",
       "\n",
       "    .dataframe thead th {\n",
       "        text-align: right;\n",
       "    }\n",
       "</style>\n",
       "<table border=\"1\" class=\"dataframe\">\n",
       "  <thead>\n",
       "    <tr style=\"text-align: right;\">\n",
       "      <th></th>\n",
       "      <th>Name</th>\n",
       "      <th>Country</th>\n",
       "      <th>City</th>\n",
       "      <th>Weight</th>\n",
       "      <th>Height</th>\n",
       "      <th>BMI</th>\n",
       "    </tr>\n",
       "  </thead>\n",
       "  <tbody>\n",
       "    <tr>\n",
       "      <th>0</th>\n",
       "      <td>Asabeneh</td>\n",
       "      <td>Finland</td>\n",
       "      <td>Helsinki</td>\n",
       "      <td>74.0</td>\n",
       "      <td>1.73</td>\n",
       "      <td>24.725183</td>\n",
       "    </tr>\n",
       "    <tr>\n",
       "      <th>1</th>\n",
       "      <td>David</td>\n",
       "      <td>UK</td>\n",
       "      <td>London</td>\n",
       "      <td>78.0</td>\n",
       "      <td>1.75</td>\n",
       "      <td>25.469388</td>\n",
       "    </tr>\n",
       "    <tr>\n",
       "      <th>2</th>\n",
       "      <td>John</td>\n",
       "      <td>Sweden</td>\n",
       "      <td>Stockholm</td>\n",
       "      <td>68.0</td>\n",
       "      <td>1.69</td>\n",
       "      <td>23.808690</td>\n",
       "    </tr>\n",
       "    <tr>\n",
       "      <th>3</th>\n",
       "      <td>Eyob</td>\n",
       "      <td>Finland</td>\n",
       "      <td>Espoo</td>\n",
       "      <td>108.0</td>\n",
       "      <td>1.73</td>\n",
       "      <td>36.085402</td>\n",
       "    </tr>\n",
       "    <tr>\n",
       "      <th>4</th>\n",
       "      <td>Pawel</td>\n",
       "      <td>Poland</td>\n",
       "      <td>Warsaw</td>\n",
       "      <td>102.0</td>\n",
       "      <td>1.95</td>\n",
       "      <td>26.824458</td>\n",
       "    </tr>\n",
       "    <tr>\n",
       "      <th>5</th>\n",
       "      <td>Mahlet</td>\n",
       "      <td>Ethiopia</td>\n",
       "      <td>Addis Ababa</td>\n",
       "      <td>58.0</td>\n",
       "      <td>1.68</td>\n",
       "      <td>20.549887</td>\n",
       "    </tr>\n",
       "    <tr>\n",
       "      <th>6</th>\n",
       "      <td>Thomas</td>\n",
       "      <td>Ethiopia</td>\n",
       "      <td>Bahir Dar</td>\n",
       "      <td>52.0</td>\n",
       "      <td>1.70</td>\n",
       "      <td>17.993080</td>\n",
       "    </tr>\n",
       "    <tr>\n",
       "      <th>7</th>\n",
       "      <td>Lidiya</td>\n",
       "      <td>NaN</td>\n",
       "      <td>NaN</td>\n",
       "      <td>NaN</td>\n",
       "      <td>NaN</td>\n",
       "      <td>NaN</td>\n",
       "    </tr>\n",
       "  </tbody>\n",
       "</table>\n",
       "</div>"
      ],
      "text/plain": [
       "       Name   Country         City  Weight  Height        BMI\n",
       "0  Asabeneh   Finland     Helsinki    74.0    1.73  24.725183\n",
       "1     David        UK       London    78.0    1.75  25.469388\n",
       "2      John    Sweden    Stockholm    68.0    1.69  23.808690\n",
       "3      Eyob   Finland        Espoo   108.0    1.73  36.085402\n",
       "4     Pawel    Poland       Warsaw   102.0    1.95  26.824458\n",
       "5    Mahlet  Ethiopia  Addis Ababa    58.0    1.68  20.549887\n",
       "6    Thomas  Ethiopia    Bahir Dar    52.0    1.70  17.993080\n",
       "7    Lidiya       NaN          NaN     NaN     NaN        NaN"
      ]
     },
     "execution_count": 441,
     "metadata": {},
     "output_type": "execute_result"
    }
   ],
   "source": [
    "df"
   ]
  },
  {
   "cell_type": "code",
   "execution_count": 442,
   "id": "f89c2e3f-e837-4c2b-b0b6-2778ce78616e",
   "metadata": {},
   "outputs": [
    {
     "data": {
      "text/html": [
       "<div>\n",
       "<style scoped>\n",
       "    .dataframe tbody tr th:only-of-type {\n",
       "        vertical-align: middle;\n",
       "    }\n",
       "\n",
       "    .dataframe tbody tr th {\n",
       "        vertical-align: top;\n",
       "    }\n",
       "\n",
       "    .dataframe thead th {\n",
       "        text-align: right;\n",
       "    }\n",
       "</style>\n",
       "<table border=\"1\" class=\"dataframe\">\n",
       "  <thead>\n",
       "    <tr style=\"text-align: right;\">\n",
       "      <th></th>\n",
       "      <th>Name</th>\n",
       "      <th>Country</th>\n",
       "      <th>City</th>\n",
       "      <th>Weight</th>\n",
       "      <th>Height</th>\n",
       "      <th>BMI</th>\n",
       "    </tr>\n",
       "  </thead>\n",
       "  <tbody>\n",
       "    <tr>\n",
       "      <th>0</th>\n",
       "      <td>Asabeneh</td>\n",
       "      <td>Finland</td>\n",
       "      <td>Helsinki</td>\n",
       "      <td>74.0</td>\n",
       "      <td>1.73</td>\n",
       "      <td>24.7</td>\n",
       "    </tr>\n",
       "    <tr>\n",
       "      <th>1</th>\n",
       "      <td>David</td>\n",
       "      <td>UK</td>\n",
       "      <td>London</td>\n",
       "      <td>78.0</td>\n",
       "      <td>1.75</td>\n",
       "      <td>25.5</td>\n",
       "    </tr>\n",
       "    <tr>\n",
       "      <th>2</th>\n",
       "      <td>John</td>\n",
       "      <td>Sweden</td>\n",
       "      <td>Stockholm</td>\n",
       "      <td>68.0</td>\n",
       "      <td>1.69</td>\n",
       "      <td>23.8</td>\n",
       "    </tr>\n",
       "    <tr>\n",
       "      <th>3</th>\n",
       "      <td>Eyob</td>\n",
       "      <td>Finland</td>\n",
       "      <td>Espoo</td>\n",
       "      <td>108.0</td>\n",
       "      <td>1.73</td>\n",
       "      <td>36.1</td>\n",
       "    </tr>\n",
       "    <tr>\n",
       "      <th>4</th>\n",
       "      <td>Pawel</td>\n",
       "      <td>Poland</td>\n",
       "      <td>Warsaw</td>\n",
       "      <td>102.0</td>\n",
       "      <td>1.95</td>\n",
       "      <td>26.8</td>\n",
       "    </tr>\n",
       "    <tr>\n",
       "      <th>5</th>\n",
       "      <td>Mahlet</td>\n",
       "      <td>Ethiopia</td>\n",
       "      <td>Addis Ababa</td>\n",
       "      <td>58.0</td>\n",
       "      <td>1.68</td>\n",
       "      <td>20.5</td>\n",
       "    </tr>\n",
       "    <tr>\n",
       "      <th>6</th>\n",
       "      <td>Thomas</td>\n",
       "      <td>Ethiopia</td>\n",
       "      <td>Bahir Dar</td>\n",
       "      <td>52.0</td>\n",
       "      <td>1.70</td>\n",
       "      <td>18.0</td>\n",
       "    </tr>\n",
       "    <tr>\n",
       "      <th>7</th>\n",
       "      <td>Lidiya</td>\n",
       "      <td>NaN</td>\n",
       "      <td>NaN</td>\n",
       "      <td>NaN</td>\n",
       "      <td>NaN</td>\n",
       "      <td>NaN</td>\n",
       "    </tr>\n",
       "  </tbody>\n",
       "</table>\n",
       "</div>"
      ],
      "text/plain": [
       "       Name   Country         City  Weight  Height   BMI\n",
       "0  Asabeneh   Finland     Helsinki    74.0    1.73  24.7\n",
       "1     David        UK       London    78.0    1.75  25.5\n",
       "2      John    Sweden    Stockholm    68.0    1.69  23.8\n",
       "3      Eyob   Finland        Espoo   108.0    1.73  36.1\n",
       "4     Pawel    Poland       Warsaw   102.0    1.95  26.8\n",
       "5    Mahlet  Ethiopia  Addis Ababa    58.0    1.68  20.5\n",
       "6    Thomas  Ethiopia    Bahir Dar    52.0    1.70  18.0\n",
       "7    Lidiya       NaN          NaN     NaN     NaN   NaN"
      ]
     },
     "execution_count": 442,
     "metadata": {},
     "output_type": "execute_result"
    }
   ],
   "source": [
    "df['BMI'] = round(df['BMI'], 1)\n",
    "df"
   ]
  },
  {
   "cell_type": "code",
   "execution_count": 464,
   "id": "1fb7a853-d658-46f0-b036-994a025f830a",
   "metadata": {},
   "outputs": [
    {
     "ename": "ValueError",
     "evalue": "Length of values (8) does not match length of index (6)",
     "output_type": "error",
     "traceback": [
      "\u001b[1;31m---------------------------------------------------------------------------\u001b[0m",
      "\u001b[1;31mValueError\u001b[0m                                Traceback (most recent call last)",
      "Cell \u001b[1;32mIn[464], line 2\u001b[0m\n\u001b[0;32m      1\u001b[0m birth_year \u001b[38;5;241m=\u001b[39m [\u001b[38;5;124m'\u001b[39m\u001b[38;5;124m1769\u001b[39m\u001b[38;5;124m'\u001b[39m, \u001b[38;5;124m'\u001b[39m\u001b[38;5;124m1985\u001b[39m\u001b[38;5;124m'\u001b[39m, \u001b[38;5;124m'\u001b[39m\u001b[38;5;124m1990\u001b[39m\u001b[38;5;124m'\u001b[39m, \u001b[38;5;124m'\u001b[39m\u001b[38;5;124m1983\u001b[39m\u001b[38;5;124m'\u001b[39m, \u001b[38;5;124m'\u001b[39m\u001b[38;5;124m1985\u001b[39m\u001b[38;5;124m'\u001b[39m,\u001b[38;5;124m'\u001b[39m\u001b[38;5;124m1995\u001b[39m\u001b[38;5;124m'\u001b[39m, \u001b[38;5;124m'\u001b[39m\u001b[38;5;124m1999\u001b[39m\u001b[38;5;124m'\u001b[39m,\u001b[38;5;28mfloat\u001b[39m(\u001b[38;5;124m'\u001b[39m\u001b[38;5;124mNaN\u001b[39m\u001b[38;5;124m'\u001b[39m)]\n\u001b[1;32m----> 2\u001b[0m df[\u001b[38;5;124m'\u001b[39m\u001b[38;5;124mBirth Year\u001b[39m\u001b[38;5;124m'\u001b[39m] \u001b[38;5;241m=\u001b[39m birth_year\n\u001b[0;32m      3\u001b[0m df[\u001b[38;5;124m'\u001b[39m\u001b[38;5;124mCurrent Year\u001b[39m\u001b[38;5;124m'\u001b[39m] \u001b[38;5;241m=\u001b[39m \u001b[38;5;241m2024\u001b[39m\n\u001b[0;32m      4\u001b[0m df\n",
      "File \u001b[1;32mE:\\anaconda\\Lib\\site-packages\\pandas\\core\\frame.py:4091\u001b[0m, in \u001b[0;36mDataFrame.__setitem__\u001b[1;34m(self, key, value)\u001b[0m\n\u001b[0;32m   4088\u001b[0m     \u001b[38;5;28mself\u001b[39m\u001b[38;5;241m.\u001b[39m_setitem_array([key], value)\n\u001b[0;32m   4089\u001b[0m \u001b[38;5;28;01melse\u001b[39;00m:\n\u001b[0;32m   4090\u001b[0m     \u001b[38;5;66;03m# set column\u001b[39;00m\n\u001b[1;32m-> 4091\u001b[0m     \u001b[38;5;28mself\u001b[39m\u001b[38;5;241m.\u001b[39m_set_item(key, value)\n",
      "File \u001b[1;32mE:\\anaconda\\Lib\\site-packages\\pandas\\core\\frame.py:4300\u001b[0m, in \u001b[0;36mDataFrame._set_item\u001b[1;34m(self, key, value)\u001b[0m\n\u001b[0;32m   4290\u001b[0m \u001b[38;5;28;01mdef\u001b[39;00m \u001b[38;5;21m_set_item\u001b[39m(\u001b[38;5;28mself\u001b[39m, key, value) \u001b[38;5;241m-\u001b[39m\u001b[38;5;241m>\u001b[39m \u001b[38;5;28;01mNone\u001b[39;00m:\n\u001b[0;32m   4291\u001b[0m \u001b[38;5;250m    \u001b[39m\u001b[38;5;124;03m\"\"\"\u001b[39;00m\n\u001b[0;32m   4292\u001b[0m \u001b[38;5;124;03m    Add series to DataFrame in specified column.\u001b[39;00m\n\u001b[0;32m   4293\u001b[0m \n\u001b[1;32m   (...)\u001b[0m\n\u001b[0;32m   4298\u001b[0m \u001b[38;5;124;03m    ensure homogeneity.\u001b[39;00m\n\u001b[0;32m   4299\u001b[0m \u001b[38;5;124;03m    \"\"\"\u001b[39;00m\n\u001b[1;32m-> 4300\u001b[0m     value, refs \u001b[38;5;241m=\u001b[39m \u001b[38;5;28mself\u001b[39m\u001b[38;5;241m.\u001b[39m_sanitize_column(value)\n\u001b[0;32m   4302\u001b[0m     \u001b[38;5;28;01mif\u001b[39;00m (\n\u001b[0;32m   4303\u001b[0m         key \u001b[38;5;129;01min\u001b[39;00m \u001b[38;5;28mself\u001b[39m\u001b[38;5;241m.\u001b[39mcolumns\n\u001b[0;32m   4304\u001b[0m         \u001b[38;5;129;01mand\u001b[39;00m value\u001b[38;5;241m.\u001b[39mndim \u001b[38;5;241m==\u001b[39m \u001b[38;5;241m1\u001b[39m\n\u001b[0;32m   4305\u001b[0m         \u001b[38;5;129;01mand\u001b[39;00m \u001b[38;5;129;01mnot\u001b[39;00m \u001b[38;5;28misinstance\u001b[39m(value\u001b[38;5;241m.\u001b[39mdtype, ExtensionDtype)\n\u001b[0;32m   4306\u001b[0m     ):\n\u001b[0;32m   4307\u001b[0m         \u001b[38;5;66;03m# broadcast across multiple columns if necessary\u001b[39;00m\n\u001b[0;32m   4308\u001b[0m         \u001b[38;5;28;01mif\u001b[39;00m \u001b[38;5;129;01mnot\u001b[39;00m \u001b[38;5;28mself\u001b[39m\u001b[38;5;241m.\u001b[39mcolumns\u001b[38;5;241m.\u001b[39mis_unique \u001b[38;5;129;01mor\u001b[39;00m \u001b[38;5;28misinstance\u001b[39m(\u001b[38;5;28mself\u001b[39m\u001b[38;5;241m.\u001b[39mcolumns, MultiIndex):\n",
      "File \u001b[1;32mE:\\anaconda\\Lib\\site-packages\\pandas\\core\\frame.py:5039\u001b[0m, in \u001b[0;36mDataFrame._sanitize_column\u001b[1;34m(self, value)\u001b[0m\n\u001b[0;32m   5036\u001b[0m     \u001b[38;5;28;01mreturn\u001b[39;00m _reindex_for_setitem(value, \u001b[38;5;28mself\u001b[39m\u001b[38;5;241m.\u001b[39mindex)\n\u001b[0;32m   5038\u001b[0m \u001b[38;5;28;01mif\u001b[39;00m is_list_like(value):\n\u001b[1;32m-> 5039\u001b[0m     com\u001b[38;5;241m.\u001b[39mrequire_length_match(value, \u001b[38;5;28mself\u001b[39m\u001b[38;5;241m.\u001b[39mindex)\n\u001b[0;32m   5040\u001b[0m \u001b[38;5;28;01mreturn\u001b[39;00m sanitize_array(value, \u001b[38;5;28mself\u001b[39m\u001b[38;5;241m.\u001b[39mindex, copy\u001b[38;5;241m=\u001b[39m\u001b[38;5;28;01mTrue\u001b[39;00m, allow_2d\u001b[38;5;241m=\u001b[39m\u001b[38;5;28;01mTrue\u001b[39;00m), \u001b[38;5;28;01mNone\u001b[39;00m\n",
      "File \u001b[1;32mE:\\anaconda\\Lib\\site-packages\\pandas\\core\\common.py:561\u001b[0m, in \u001b[0;36mrequire_length_match\u001b[1;34m(data, index)\u001b[0m\n\u001b[0;32m    557\u001b[0m \u001b[38;5;250m\u001b[39m\u001b[38;5;124;03m\"\"\"\u001b[39;00m\n\u001b[0;32m    558\u001b[0m \u001b[38;5;124;03mCheck the length of data matches the length of the index.\u001b[39;00m\n\u001b[0;32m    559\u001b[0m \u001b[38;5;124;03m\"\"\"\u001b[39;00m\n\u001b[0;32m    560\u001b[0m \u001b[38;5;28;01mif\u001b[39;00m \u001b[38;5;28mlen\u001b[39m(data) \u001b[38;5;241m!=\u001b[39m \u001b[38;5;28mlen\u001b[39m(index):\n\u001b[1;32m--> 561\u001b[0m     \u001b[38;5;28;01mraise\u001b[39;00m \u001b[38;5;167;01mValueError\u001b[39;00m(\n\u001b[0;32m    562\u001b[0m         \u001b[38;5;124m\"\u001b[39m\u001b[38;5;124mLength of values \u001b[39m\u001b[38;5;124m\"\u001b[39m\n\u001b[0;32m    563\u001b[0m         \u001b[38;5;124mf\u001b[39m\u001b[38;5;124m\"\u001b[39m\u001b[38;5;124m(\u001b[39m\u001b[38;5;132;01m{\u001b[39;00m\u001b[38;5;28mlen\u001b[39m(data)\u001b[38;5;132;01m}\u001b[39;00m\u001b[38;5;124m) \u001b[39m\u001b[38;5;124m\"\u001b[39m\n\u001b[0;32m    564\u001b[0m         \u001b[38;5;124m\"\u001b[39m\u001b[38;5;124mdoes not match length of index \u001b[39m\u001b[38;5;124m\"\u001b[39m\n\u001b[0;32m    565\u001b[0m         \u001b[38;5;124mf\u001b[39m\u001b[38;5;124m\"\u001b[39m\u001b[38;5;124m(\u001b[39m\u001b[38;5;132;01m{\u001b[39;00m\u001b[38;5;28mlen\u001b[39m(index)\u001b[38;5;132;01m}\u001b[39;00m\u001b[38;5;124m)\u001b[39m\u001b[38;5;124m\"\u001b[39m\n\u001b[0;32m    566\u001b[0m     )\n",
      "\u001b[1;31mValueError\u001b[0m: Length of values (8) does not match length of index (6)"
     ]
    }
   ],
   "source": [
    "birth_year = ['1769', '1985', '1990', '1983', '1985','1995', '1999',float('NaN')]\n",
    "df['Birth Year'] = birth_year\n",
    "df['Current Year'] = 2024\n",
    "df\n"
   ]
  },
  {
   "cell_type": "code",
   "execution_count": 444,
   "id": "e7742e70-9688-4280-bf5d-7c827bb2ac26",
   "metadata": {},
   "outputs": [
    {
     "data": {
      "text/html": [
       "<div>\n",
       "<style scoped>\n",
       "    .dataframe tbody tr th:only-of-type {\n",
       "        vertical-align: middle;\n",
       "    }\n",
       "\n",
       "    .dataframe tbody tr th {\n",
       "        vertical-align: top;\n",
       "    }\n",
       "\n",
       "    .dataframe thead th {\n",
       "        text-align: right;\n",
       "    }\n",
       "</style>\n",
       "<table border=\"1\" class=\"dataframe\">\n",
       "  <thead>\n",
       "    <tr style=\"text-align: right;\">\n",
       "      <th></th>\n",
       "      <th>Name</th>\n",
       "      <th>Country</th>\n",
       "      <th>City</th>\n",
       "      <th>Weight</th>\n",
       "      <th>Height</th>\n",
       "      <th>BMI</th>\n",
       "      <th>Birth Year</th>\n",
       "      <th>Current Year</th>\n",
       "    </tr>\n",
       "  </thead>\n",
       "  <tbody>\n",
       "    <tr>\n",
       "      <th>0</th>\n",
       "      <td>Asabeneh</td>\n",
       "      <td>Finland</td>\n",
       "      <td>Helsinki</td>\n",
       "      <td>74.0</td>\n",
       "      <td>1.73</td>\n",
       "      <td>24.7</td>\n",
       "      <td>1769</td>\n",
       "      <td>2024</td>\n",
       "    </tr>\n",
       "    <tr>\n",
       "      <th>1</th>\n",
       "      <td>David</td>\n",
       "      <td>UK</td>\n",
       "      <td>London</td>\n",
       "      <td>78.0</td>\n",
       "      <td>1.75</td>\n",
       "      <td>25.5</td>\n",
       "      <td>1985</td>\n",
       "      <td>2024</td>\n",
       "    </tr>\n",
       "    <tr>\n",
       "      <th>2</th>\n",
       "      <td>John</td>\n",
       "      <td>Sweden</td>\n",
       "      <td>Stockholm</td>\n",
       "      <td>68.0</td>\n",
       "      <td>1.69</td>\n",
       "      <td>23.8</td>\n",
       "      <td>1990</td>\n",
       "      <td>2024</td>\n",
       "    </tr>\n",
       "    <tr>\n",
       "      <th>3</th>\n",
       "      <td>Eyob</td>\n",
       "      <td>Finland</td>\n",
       "      <td>Espoo</td>\n",
       "      <td>108.0</td>\n",
       "      <td>1.73</td>\n",
       "      <td>36.1</td>\n",
       "      <td>1983</td>\n",
       "      <td>2024</td>\n",
       "    </tr>\n",
       "    <tr>\n",
       "      <th>4</th>\n",
       "      <td>Pawel</td>\n",
       "      <td>Poland</td>\n",
       "      <td>Warsaw</td>\n",
       "      <td>102.0</td>\n",
       "      <td>1.95</td>\n",
       "      <td>26.8</td>\n",
       "      <td>1985</td>\n",
       "      <td>2024</td>\n",
       "    </tr>\n",
       "    <tr>\n",
       "      <th>5</th>\n",
       "      <td>Mahlet</td>\n",
       "      <td>Ethiopia</td>\n",
       "      <td>Addis Ababa</td>\n",
       "      <td>58.0</td>\n",
       "      <td>1.68</td>\n",
       "      <td>20.5</td>\n",
       "      <td>1995</td>\n",
       "      <td>2024</td>\n",
       "    </tr>\n",
       "    <tr>\n",
       "      <th>6</th>\n",
       "      <td>Thomas</td>\n",
       "      <td>Ethiopia</td>\n",
       "      <td>Bahir Dar</td>\n",
       "      <td>52.0</td>\n",
       "      <td>1.70</td>\n",
       "      <td>18.0</td>\n",
       "      <td>1999</td>\n",
       "      <td>2024</td>\n",
       "    </tr>\n",
       "    <tr>\n",
       "      <th>7</th>\n",
       "      <td>Lidiya</td>\n",
       "      <td>NaN</td>\n",
       "      <td>NaN</td>\n",
       "      <td>NaN</td>\n",
       "      <td>NaN</td>\n",
       "      <td>NaN</td>\n",
       "      <td>NaN</td>\n",
       "      <td>2024</td>\n",
       "    </tr>\n",
       "  </tbody>\n",
       "</table>\n",
       "</div>"
      ],
      "text/plain": [
       "       Name   Country         City  Weight  Height   BMI Birth Year  \\\n",
       "0  Asabeneh   Finland     Helsinki    74.0    1.73  24.7       1769   \n",
       "1     David        UK       London    78.0    1.75  25.5       1985   \n",
       "2      John    Sweden    Stockholm    68.0    1.69  23.8       1990   \n",
       "3      Eyob   Finland        Espoo   108.0    1.73  36.1       1983   \n",
       "4     Pawel    Poland       Warsaw   102.0    1.95  26.8       1985   \n",
       "5    Mahlet  Ethiopia  Addis Ababa    58.0    1.68  20.5       1995   \n",
       "6    Thomas  Ethiopia    Bahir Dar    52.0    1.70  18.0       1999   \n",
       "7    Lidiya       NaN          NaN     NaN     NaN   NaN        NaN   \n",
       "\n",
       "   Current Year  \n",
       "0          2024  \n",
       "1          2024  \n",
       "2          2024  \n",
       "3          2024  \n",
       "4          2024  \n",
       "5          2024  \n",
       "6          2024  \n",
       "7          2024  "
      ]
     },
     "execution_count": 444,
     "metadata": {},
     "output_type": "execute_result"
    }
   ],
   "source": [
    "df_copy = df.copy()\n",
    "df_copy"
   ]
  },
  {
   "cell_type": "code",
   "execution_count": 448,
   "id": "5fcc6d05-2e89-40d9-b45d-a92ba48f283d",
   "metadata": {},
   "outputs": [],
   "source": [
    "# df.drop('Name', axis = 1, inplace=True)"
   ]
  },
  {
   "cell_type": "code",
   "execution_count": 449,
   "id": "1e6a5cb3-df8f-4734-bb48-8eab461de9a0",
   "metadata": {},
   "outputs": [
    {
     "data": {
      "text/html": [
       "<div>\n",
       "<style scoped>\n",
       "    .dataframe tbody tr th:only-of-type {\n",
       "        vertical-align: middle;\n",
       "    }\n",
       "\n",
       "    .dataframe tbody tr th {\n",
       "        vertical-align: top;\n",
       "    }\n",
       "\n",
       "    .dataframe thead th {\n",
       "        text-align: right;\n",
       "    }\n",
       "</style>\n",
       "<table border=\"1\" class=\"dataframe\">\n",
       "  <thead>\n",
       "    <tr style=\"text-align: right;\">\n",
       "      <th></th>\n",
       "      <th>Country</th>\n",
       "      <th>City</th>\n",
       "      <th>Weight</th>\n",
       "      <th>Height</th>\n",
       "      <th>BMI</th>\n",
       "      <th>Birth Year</th>\n",
       "      <th>Current Year</th>\n",
       "    </tr>\n",
       "  </thead>\n",
       "  <tbody>\n",
       "    <tr>\n",
       "      <th>0</th>\n",
       "      <td>Finland</td>\n",
       "      <td>Helsinki</td>\n",
       "      <td>74.0</td>\n",
       "      <td>1.73</td>\n",
       "      <td>24.7</td>\n",
       "      <td>1769</td>\n",
       "      <td>2024</td>\n",
       "    </tr>\n",
       "    <tr>\n",
       "      <th>1</th>\n",
       "      <td>UK</td>\n",
       "      <td>London</td>\n",
       "      <td>78.0</td>\n",
       "      <td>1.75</td>\n",
       "      <td>25.5</td>\n",
       "      <td>1985</td>\n",
       "      <td>2024</td>\n",
       "    </tr>\n",
       "    <tr>\n",
       "      <th>2</th>\n",
       "      <td>Sweden</td>\n",
       "      <td>Stockholm</td>\n",
       "      <td>68.0</td>\n",
       "      <td>1.69</td>\n",
       "      <td>23.8</td>\n",
       "      <td>1990</td>\n",
       "      <td>2024</td>\n",
       "    </tr>\n",
       "    <tr>\n",
       "      <th>3</th>\n",
       "      <td>Finland</td>\n",
       "      <td>Espoo</td>\n",
       "      <td>108.0</td>\n",
       "      <td>1.73</td>\n",
       "      <td>36.1</td>\n",
       "      <td>1983</td>\n",
       "      <td>2024</td>\n",
       "    </tr>\n",
       "    <tr>\n",
       "      <th>4</th>\n",
       "      <td>Poland</td>\n",
       "      <td>Warsaw</td>\n",
       "      <td>102.0</td>\n",
       "      <td>1.95</td>\n",
       "      <td>26.8</td>\n",
       "      <td>1985</td>\n",
       "      <td>2024</td>\n",
       "    </tr>\n",
       "    <tr>\n",
       "      <th>5</th>\n",
       "      <td>Ethiopia</td>\n",
       "      <td>Addis Ababa</td>\n",
       "      <td>58.0</td>\n",
       "      <td>1.68</td>\n",
       "      <td>20.5</td>\n",
       "      <td>1995</td>\n",
       "      <td>2024</td>\n",
       "    </tr>\n",
       "    <tr>\n",
       "      <th>6</th>\n",
       "      <td>Ethiopia</td>\n",
       "      <td>Bahir Dar</td>\n",
       "      <td>52.0</td>\n",
       "      <td>1.70</td>\n",
       "      <td>18.0</td>\n",
       "      <td>1999</td>\n",
       "      <td>2024</td>\n",
       "    </tr>\n",
       "    <tr>\n",
       "      <th>7</th>\n",
       "      <td>NaN</td>\n",
       "      <td>NaN</td>\n",
       "      <td>NaN</td>\n",
       "      <td>NaN</td>\n",
       "      <td>NaN</td>\n",
       "      <td>NaN</td>\n",
       "      <td>2024</td>\n",
       "    </tr>\n",
       "  </tbody>\n",
       "</table>\n",
       "</div>"
      ],
      "text/plain": [
       "    Country         City  Weight  Height   BMI Birth Year  Current Year\n",
       "0   Finland     Helsinki    74.0    1.73  24.7       1769          2024\n",
       "1        UK       London    78.0    1.75  25.5       1985          2024\n",
       "2    Sweden    Stockholm    68.0    1.69  23.8       1990          2024\n",
       "3   Finland        Espoo   108.0    1.73  36.1       1983          2024\n",
       "4    Poland       Warsaw   102.0    1.95  26.8       1985          2024\n",
       "5  Ethiopia  Addis Ababa    58.0    1.68  20.5       1995          2024\n",
       "6  Ethiopia    Bahir Dar    52.0    1.70  18.0       1999          2024\n",
       "7       NaN          NaN     NaN     NaN   NaN        NaN          2024"
      ]
     },
     "execution_count": 449,
     "metadata": {},
     "output_type": "execute_result"
    }
   ],
   "source": [
    "df"
   ]
  },
  {
   "cell_type": "code",
   "execution_count": 462,
   "id": "56515e21-2fd3-406f-a2b1-708c0c89118d",
   "metadata": {},
   "outputs": [],
   "source": [
    "# df.drop(columns ='Country', axis = 1, inplace=True)"
   ]
  },
  {
   "cell_type": "code",
   "execution_count": 457,
   "id": "09ca9087-a421-47cc-b8f3-27d8bfcfc107",
   "metadata": {},
   "outputs": [
    {
     "data": {
      "text/html": [
       "<div>\n",
       "<style scoped>\n",
       "    .dataframe tbody tr th:only-of-type {\n",
       "        vertical-align: middle;\n",
       "    }\n",
       "\n",
       "    .dataframe tbody tr th {\n",
       "        vertical-align: top;\n",
       "    }\n",
       "\n",
       "    .dataframe thead th {\n",
       "        text-align: right;\n",
       "    }\n",
       "</style>\n",
       "<table border=\"1\" class=\"dataframe\">\n",
       "  <thead>\n",
       "    <tr style=\"text-align: right;\">\n",
       "      <th></th>\n",
       "      <th>Height</th>\n",
       "      <th>BMI</th>\n",
       "      <th>Birth Year</th>\n",
       "      <th>Current Year</th>\n",
       "    </tr>\n",
       "  </thead>\n",
       "  <tbody>\n",
       "    <tr>\n",
       "      <th>0</th>\n",
       "      <td>1.73</td>\n",
       "      <td>24.7</td>\n",
       "      <td>1769</td>\n",
       "      <td>2024</td>\n",
       "    </tr>\n",
       "    <tr>\n",
       "      <th>1</th>\n",
       "      <td>1.75</td>\n",
       "      <td>25.5</td>\n",
       "      <td>1985</td>\n",
       "      <td>2024</td>\n",
       "    </tr>\n",
       "    <tr>\n",
       "      <th>2</th>\n",
       "      <td>1.69</td>\n",
       "      <td>23.8</td>\n",
       "      <td>1990</td>\n",
       "      <td>2024</td>\n",
       "    </tr>\n",
       "    <tr>\n",
       "      <th>3</th>\n",
       "      <td>1.73</td>\n",
       "      <td>36.1</td>\n",
       "      <td>1983</td>\n",
       "      <td>2024</td>\n",
       "    </tr>\n",
       "    <tr>\n",
       "      <th>4</th>\n",
       "      <td>1.95</td>\n",
       "      <td>26.8</td>\n",
       "      <td>1985</td>\n",
       "      <td>2024</td>\n",
       "    </tr>\n",
       "    <tr>\n",
       "      <th>5</th>\n",
       "      <td>1.68</td>\n",
       "      <td>20.5</td>\n",
       "      <td>1995</td>\n",
       "      <td>2024</td>\n",
       "    </tr>\n",
       "    <tr>\n",
       "      <th>6</th>\n",
       "      <td>1.70</td>\n",
       "      <td>18.0</td>\n",
       "      <td>1999</td>\n",
       "      <td>2024</td>\n",
       "    </tr>\n",
       "    <tr>\n",
       "      <th>7</th>\n",
       "      <td>NaN</td>\n",
       "      <td>NaN</td>\n",
       "      <td>NaN</td>\n",
       "      <td>2024</td>\n",
       "    </tr>\n",
       "  </tbody>\n",
       "</table>\n",
       "</div>"
      ],
      "text/plain": [
       "   Height   BMI Birth Year  Current Year\n",
       "0    1.73  24.7       1769          2024\n",
       "1    1.75  25.5       1985          2024\n",
       "2    1.69  23.8       1990          2024\n",
       "3    1.73  36.1       1983          2024\n",
       "4    1.95  26.8       1985          2024\n",
       "5    1.68  20.5       1995          2024\n",
       "6    1.70  18.0       1999          2024\n",
       "7     NaN   NaN        NaN          2024"
      ]
     },
     "execution_count": 457,
     "metadata": {},
     "output_type": "execute_result"
    }
   ],
   "source": [
    "df"
   ]
  },
  {
   "cell_type": "code",
   "execution_count": 458,
   "id": "a2e56df8-01e1-4d0a-acc0-08c389fde85d",
   "metadata": {},
   "outputs": [
    {
     "data": {
      "text/html": [
       "<div>\n",
       "<style scoped>\n",
       "    .dataframe tbody tr th:only-of-type {\n",
       "        vertical-align: middle;\n",
       "    }\n",
       "\n",
       "    .dataframe tbody tr th {\n",
       "        vertical-align: top;\n",
       "    }\n",
       "\n",
       "    .dataframe thead th {\n",
       "        text-align: right;\n",
       "    }\n",
       "</style>\n",
       "<table border=\"1\" class=\"dataframe\">\n",
       "  <thead>\n",
       "    <tr style=\"text-align: right;\">\n",
       "      <th></th>\n",
       "      <th>Height</th>\n",
       "      <th>BMI</th>\n",
       "      <th>Birth Year</th>\n",
       "      <th>Current Year</th>\n",
       "    </tr>\n",
       "  </thead>\n",
       "  <tbody>\n",
       "    <tr>\n",
       "      <th>0</th>\n",
       "      <td>1.73</td>\n",
       "      <td>24.7</td>\n",
       "      <td>1769</td>\n",
       "      <td>2024</td>\n",
       "    </tr>\n",
       "    <tr>\n",
       "      <th>1</th>\n",
       "      <td>1.75</td>\n",
       "      <td>25.5</td>\n",
       "      <td>1985</td>\n",
       "      <td>2024</td>\n",
       "    </tr>\n",
       "    <tr>\n",
       "      <th>2</th>\n",
       "      <td>1.69</td>\n",
       "      <td>23.8</td>\n",
       "      <td>1990</td>\n",
       "      <td>2024</td>\n",
       "    </tr>\n",
       "    <tr>\n",
       "      <th>3</th>\n",
       "      <td>1.73</td>\n",
       "      <td>36.1</td>\n",
       "      <td>1983</td>\n",
       "      <td>2024</td>\n",
       "    </tr>\n",
       "    <tr>\n",
       "      <th>4</th>\n",
       "      <td>1.95</td>\n",
       "      <td>26.8</td>\n",
       "      <td>1985</td>\n",
       "      <td>2024</td>\n",
       "    </tr>\n",
       "    <tr>\n",
       "      <th>5</th>\n",
       "      <td>1.68</td>\n",
       "      <td>20.5</td>\n",
       "      <td>1995</td>\n",
       "      <td>2024</td>\n",
       "    </tr>\n",
       "    <tr>\n",
       "      <th>6</th>\n",
       "      <td>1.70</td>\n",
       "      <td>18.0</td>\n",
       "      <td>1999</td>\n",
       "      <td>2024</td>\n",
       "    </tr>\n",
       "  </tbody>\n",
       "</table>\n",
       "</div>"
      ],
      "text/plain": [
       "   Height   BMI Birth Year  Current Year\n",
       "0    1.73  24.7       1769          2024\n",
       "1    1.75  25.5       1985          2024\n",
       "2    1.69  23.8       1990          2024\n",
       "3    1.73  36.1       1983          2024\n",
       "4    1.95  26.8       1985          2024\n",
       "5    1.68  20.5       1995          2024\n",
       "6    1.70  18.0       1999          2024"
      ]
     },
     "execution_count": 458,
     "metadata": {},
     "output_type": "execute_result"
    }
   ],
   "source": [
    "df.drop([7], axis = 0)"
   ]
  },
  {
   "cell_type": "code",
   "execution_count": 463,
   "id": "2edc0821-ee1a-4b6e-b92d-143fd62372e3",
   "metadata": {},
   "outputs": [],
   "source": [
    "# df.drop([2, 4], axis = 0, inplace = True)"
   ]
  },
  {
   "cell_type": "code",
   "execution_count": 460,
   "id": "1fb5a333-1c3a-45b5-a0c9-6e19595cf6f8",
   "metadata": {},
   "outputs": [
    {
     "data": {
      "text/html": [
       "<div>\n",
       "<style scoped>\n",
       "    .dataframe tbody tr th:only-of-type {\n",
       "        vertical-align: middle;\n",
       "    }\n",
       "\n",
       "    .dataframe tbody tr th {\n",
       "        vertical-align: top;\n",
       "    }\n",
       "\n",
       "    .dataframe thead th {\n",
       "        text-align: right;\n",
       "    }\n",
       "</style>\n",
       "<table border=\"1\" class=\"dataframe\">\n",
       "  <thead>\n",
       "    <tr style=\"text-align: right;\">\n",
       "      <th></th>\n",
       "      <th>Height</th>\n",
       "      <th>BMI</th>\n",
       "      <th>Birth Year</th>\n",
       "      <th>Current Year</th>\n",
       "    </tr>\n",
       "  </thead>\n",
       "  <tbody>\n",
       "    <tr>\n",
       "      <th>0</th>\n",
       "      <td>1.73</td>\n",
       "      <td>24.7</td>\n",
       "      <td>1769</td>\n",
       "      <td>2024</td>\n",
       "    </tr>\n",
       "    <tr>\n",
       "      <th>1</th>\n",
       "      <td>1.75</td>\n",
       "      <td>25.5</td>\n",
       "      <td>1985</td>\n",
       "      <td>2024</td>\n",
       "    </tr>\n",
       "    <tr>\n",
       "      <th>3</th>\n",
       "      <td>1.73</td>\n",
       "      <td>36.1</td>\n",
       "      <td>1983</td>\n",
       "      <td>2024</td>\n",
       "    </tr>\n",
       "    <tr>\n",
       "      <th>5</th>\n",
       "      <td>1.68</td>\n",
       "      <td>20.5</td>\n",
       "      <td>1995</td>\n",
       "      <td>2024</td>\n",
       "    </tr>\n",
       "    <tr>\n",
       "      <th>6</th>\n",
       "      <td>1.70</td>\n",
       "      <td>18.0</td>\n",
       "      <td>1999</td>\n",
       "      <td>2024</td>\n",
       "    </tr>\n",
       "    <tr>\n",
       "      <th>7</th>\n",
       "      <td>NaN</td>\n",
       "      <td>NaN</td>\n",
       "      <td>NaN</td>\n",
       "      <td>2024</td>\n",
       "    </tr>\n",
       "  </tbody>\n",
       "</table>\n",
       "</div>"
      ],
      "text/plain": [
       "   Height   BMI Birth Year  Current Year\n",
       "0    1.73  24.7       1769          2024\n",
       "1    1.75  25.5       1985          2024\n",
       "3    1.73  36.1       1983          2024\n",
       "5    1.68  20.5       1995          2024\n",
       "6    1.70  18.0       1999          2024\n",
       "7     NaN   NaN        NaN          2024"
      ]
     },
     "execution_count": 460,
     "metadata": {},
     "output_type": "execute_result"
    }
   ],
   "source": [
    "df"
   ]
  },
  {
   "cell_type": "code",
   "execution_count": 461,
   "id": "91006b09-d20d-4bde-9dcd-0268f0f454ec",
   "metadata": {},
   "outputs": [
    {
     "ename": "SyntaxError",
     "evalue": "incomplete input (2714125136.py, line 10)",
     "output_type": "error",
     "traceback": [
      "\u001b[1;36m  Cell \u001b[1;32mIn[461], line 10\u001b[1;36m\u001b[0m\n\u001b[1;33m    }\u001b[0m\n\u001b[1;37m     ^\u001b[0m\n\u001b[1;31mSyntaxError\u001b[0m\u001b[1;31m:\u001b[0m incomplete input\n"
     ]
    }
   ],
   "source": [
    "df.rename(\n",
    "    columns={\n",
    "        \"Country\": \"country\",\n",
    "        \"City\": \"city\",\n",
    "        \"Weight\":\"weight\",\n",
    "        \"Height\":\"height\",\n",
    "        \"BMI\":'bmi',\n",
    "        'Birth Year':'birth_year',\n",
    "        'Current Year':'current_year'\n",
    "    }\n"
   ]
  },
  {
   "cell_type": "code",
   "execution_count": null,
   "id": "607e20e2-d1e6-49f0-a771-ef4a74ebb778",
   "metadata": {},
   "outputs": [],
   "source": []
  },
  {
   "cell_type": "code",
   "execution_count": null,
   "id": "4ba01888-de95-4fcd-ae98-813ddd9b2885",
   "metadata": {},
   "outputs": [],
   "source": []
  },
  {
   "cell_type": "code",
   "execution_count": null,
   "id": "2d7979ce-5e2f-4d25-8f5d-069a16b24184",
   "metadata": {},
   "outputs": [],
   "source": []
  },
  {
   "cell_type": "code",
   "execution_count": null,
   "id": "f50a8579-24c9-4d96-ac82-2cadf9fed815",
   "metadata": {},
   "outputs": [],
   "source": []
  },
  {
   "cell_type": "code",
   "execution_count": null,
   "id": "3e0cdcf4-cc2e-4f1d-8882-16a47278a26e",
   "metadata": {},
   "outputs": [],
   "source": []
  },
  {
   "cell_type": "code",
   "execution_count": null,
   "id": "ce1f5bf1-93a1-4d3f-8170-84ff9bd46f31",
   "metadata": {},
   "outputs": [],
   "source": []
  },
  {
   "cell_type": "code",
   "execution_count": null,
   "id": "d609cbde-0887-4921-b9b9-f58d09387653",
   "metadata": {},
   "outputs": [],
   "source": []
  },
  {
   "cell_type": "code",
   "execution_count": null,
   "id": "0fb96be0-b90a-481d-9825-1bffe1a1bf47",
   "metadata": {},
   "outputs": [],
   "source": []
  },
  {
   "cell_type": "code",
   "execution_count": null,
   "id": "da06869a-1f4e-46f9-b5d2-02454f3ab02c",
   "metadata": {},
   "outputs": [],
   "source": []
  },
  {
   "cell_type": "code",
   "execution_count": null,
   "id": "ecce9495-2de1-4594-a386-79ae3b30d9fd",
   "metadata": {},
   "outputs": [],
   "source": []
  },
  {
   "cell_type": "code",
   "execution_count": null,
   "id": "533f2341-9592-4904-a638-92145ab681c5",
   "metadata": {},
   "outputs": [],
   "source": []
  },
  {
   "cell_type": "code",
   "execution_count": null,
   "id": "086d2bec-0ac3-40a0-9138-b048d5466919",
   "metadata": {},
   "outputs": [],
   "source": []
  },
  {
   "cell_type": "code",
   "execution_count": null,
   "id": "023464a9-2775-42fd-b7d0-a69d0a1287c9",
   "metadata": {},
   "outputs": [],
   "source": []
  },
  {
   "cell_type": "code",
   "execution_count": null,
   "id": "9cb4b2a0-33e8-432d-809e-effafedc0d6d",
   "metadata": {},
   "outputs": [],
   "source": []
  },
  {
   "cell_type": "code",
   "execution_count": null,
   "id": "13f956a0-3e9f-4a54-b0bc-7dd98de431e9",
   "metadata": {},
   "outputs": [],
   "source": []
  }
 ],
 "metadata": {
  "kernelspec": {
   "display_name": "Python 3 (ipykernel)",
   "language": "python",
   "name": "python3"
  },
  "language_info": {
   "codemirror_mode": {
    "name": "ipython",
    "version": 3
   },
   "file_extension": ".py",
   "mimetype": "text/x-python",
   "name": "python",
   "nbconvert_exporter": "python",
   "pygments_lexer": "ipython3",
   "version": "3.11.7"
  }
 },
 "nbformat": 4,
 "nbformat_minor": 5
}
