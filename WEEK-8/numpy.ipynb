{
 "cells": [
  {
   "cell_type": "markdown",
   "id": "a6fca675-dcd5-42e3-8c4b-f4441db390c9",
   "metadata": {},
   "source": [
    "# NumPy"
   ]
  },
  {
   "cell_type": "code",
   "execution_count": 301,
   "id": "8cd93aa8-d5dd-43a4-8c19-db1369ae93b1",
   "metadata": {},
   "outputs": [],
   "source": [
    "# most common packages\n",
    "\n",
    "import numpy as np\n",
    "import pandas as pd\n",
    "import matplotlib.pyplot as plt\n",
    "import seaborn as sn\n",
    "import re \n",
    "sn.set()\n",
    "\n"
   ]
  },
  {
   "cell_type": "code",
   "execution_count": 302,
   "id": "fed825cf-3418-462a-b8bd-05e41f590b6d",
   "metadata": {},
   "outputs": [],
   "source": [
    "# How to create numpy array: we can create numpy array from a list or tuple\n",
    "\n",
    "lst = [1, 2, 3, 4,5]\n",
    "tpl = (1, 2, 3, 4, 5)\n"
   ]
  },
  {
   "cell_type": "code",
   "execution_count": 303,
   "id": "b3f787fd-5a7f-42e1-920d-c04bbd032863",
   "metadata": {},
   "outputs": [],
   "source": [
    "arr = np.array(tpl)"
   ]
  },
  {
   "cell_type": "code",
   "execution_count": 304,
   "id": "97cc40a7-6f58-4e81-bc8d-3191f66fc08b",
   "metadata": {},
   "outputs": [
    {
     "data": {
      "text/plain": [
       "array([100, 200, 300, 400, 500])"
      ]
     },
     "execution_count": 304,
     "metadata": {},
     "output_type": "execute_result"
    }
   ],
   "source": [
    "arr * 100"
   ]
  },
  {
   "cell_type": "code",
   "execution_count": 305,
   "id": "93c6bc84-2f14-4da4-a52f-458ea1ce3224",
   "metadata": {},
   "outputs": [
    {
     "data": {
      "text/plain": [
       "(5,)"
      ]
     },
     "execution_count": 305,
     "metadata": {},
     "output_type": "execute_result"
    }
   ],
   "source": [
    "arr.shape"
   ]
  },
  {
   "cell_type": "code",
   "execution_count": 306,
   "id": "827a2bcb-dc72-4d00-8a68-f579d1b261b3",
   "metadata": {},
   "outputs": [
    {
     "data": {
      "text/plain": [
       "1"
      ]
     },
     "execution_count": 306,
     "metadata": {},
     "output_type": "execute_result"
    }
   ],
   "source": [
    "arr.ndim"
   ]
  },
  {
   "cell_type": "code",
   "execution_count": 307,
   "id": "61c2470f-ca7c-40fa-bfe0-40e598b4bd36",
   "metadata": {},
   "outputs": [
    {
     "data": {
      "text/plain": [
       "5"
      ]
     },
     "execution_count": 307,
     "metadata": {},
     "output_type": "execute_result"
    }
   ],
   "source": [
    "arr.size"
   ]
  },
  {
   "cell_type": "code",
   "execution_count": 308,
   "id": "d0e4e164-be3c-4c33-99a3-1a127f6afae0",
   "metadata": {},
   "outputs": [
    {
     "name": "stdout",
     "output_type": "stream",
     "text": [
      "3\n"
     ]
    }
   ],
   "source": [
    "lst_of_lsts = [[0, 1, 2], [3,4,5], [6,7,8]]\n",
    "print(len(lst_of_lsts))"
   ]
  },
  {
   "cell_type": "code",
   "execution_count": 309,
   "id": "d625bb5f-985c-4210-8c4f-68bc79bfb46c",
   "metadata": {},
   "outputs": [],
   "source": [
    "arr = np.array(lst_of_lsts)"
   ]
  },
  {
   "cell_type": "code",
   "execution_count": 310,
   "id": "3e373482-0ae9-4988-bbb8-b6e50bc0c175",
   "metadata": {},
   "outputs": [
    {
     "data": {
      "text/plain": [
       "array([[0, 1, 2],\n",
       "       [3, 4, 5],\n",
       "       [6, 7, 8]])"
      ]
     },
     "execution_count": 310,
     "metadata": {},
     "output_type": "execute_result"
    }
   ],
   "source": [
    "arr"
   ]
  },
  {
   "cell_type": "code",
   "execution_count": 311,
   "id": "f1976436-033a-4d59-8278-aab22a4062f4",
   "metadata": {},
   "outputs": [
    {
     "data": {
      "text/plain": [
       "(3, 3)"
      ]
     },
     "execution_count": 311,
     "metadata": {},
     "output_type": "execute_result"
    }
   ],
   "source": [
    "arr.shape"
   ]
  },
  {
   "cell_type": "code",
   "execution_count": 312,
   "id": "6f2fa51b-c565-40db-9efe-71635059e386",
   "metadata": {},
   "outputs": [
    {
     "data": {
      "text/plain": [
       "2"
      ]
     },
     "execution_count": 312,
     "metadata": {},
     "output_type": "execute_result"
    }
   ],
   "source": [
    "arr.ndim"
   ]
  },
  {
   "cell_type": "code",
   "execution_count": 313,
   "id": "fbb35961-1760-433a-90bc-4db7c7231349",
   "metadata": {},
   "outputs": [
    {
     "data": {
      "text/plain": [
       "9"
      ]
     },
     "execution_count": 313,
     "metadata": {},
     "output_type": "execute_result"
    }
   ],
   "source": [
    "arr.size"
   ]
  },
  {
   "cell_type": "code",
   "execution_count": 314,
   "id": "90da78ab-8f53-4359-bc96-16a934855613",
   "metadata": {},
   "outputs": [
    {
     "name": "stdout",
     "output_type": "stream",
     "text": [
      "3\n"
     ]
    }
   ],
   "source": [
    "print(len(arr))"
   ]
  },
  {
   "cell_type": "code",
   "execution_count": 315,
   "id": "0e72c05f-2da6-404c-9474-986a3c4ea608",
   "metadata": {},
   "outputs": [],
   "source": [
    "lst = [1, 2, 3, 0,  4, 5, -1]\n",
    "arr = np.array(lst, dtype='int')"
   ]
  },
  {
   "cell_type": "code",
   "execution_count": 316,
   "id": "7a9401b0-881f-4e81-9e5d-3646b617ff33",
   "metadata": {},
   "outputs": [
    {
     "data": {
      "text/plain": [
       "array([ 1,  2,  3,  0,  4,  5, -1])"
      ]
     },
     "execution_count": 316,
     "metadata": {},
     "output_type": "execute_result"
    }
   ],
   "source": [
    "arr"
   ]
  },
  {
   "cell_type": "code",
   "execution_count": 317,
   "id": "608ed00d-b0c9-4d9b-8fb5-a0b35f4aa615",
   "metadata": {},
   "outputs": [
    {
     "data": {
      "text/plain": [
       "dtype('int32')"
      ]
     },
     "execution_count": 317,
     "metadata": {},
     "output_type": "execute_result"
    }
   ],
   "source": [
    "arr.dtype"
   ]
  },
  {
   "cell_type": "code",
   "execution_count": 318,
   "id": "fb9a3ac4-245c-4f1d-9d69-cd8884b9878e",
   "metadata": {},
   "outputs": [
    {
     "data": {
      "text/plain": [
       "4"
      ]
     },
     "execution_count": 318,
     "metadata": {},
     "output_type": "execute_result"
    }
   ],
   "source": [
    "arr.itemsize"
   ]
  },
  {
   "cell_type": "code",
   "execution_count": 319,
   "id": "d495c1e2-2a07-4bd7-96b6-ed9b157a22a0",
   "metadata": {},
   "outputs": [
    {
     "data": {
      "text/plain": [
       "array([10])"
      ]
     },
     "execution_count": 319,
     "metadata": {},
     "output_type": "execute_result"
    }
   ],
   "source": [
    "np.array([10])"
   ]
  },
  {
   "cell_type": "code",
   "execution_count": 320,
   "id": "1a776384-b285-4f8a-95a9-17c8da12fef9",
   "metadata": {},
   "outputs": [
    {
     "data": {
      "text/plain": [
       "3"
      ]
     },
     "execution_count": 320,
     "metadata": {},
     "output_type": "execute_result"
    }
   ],
   "source": [
    "lst = [[[1, 2, 3], [4, 5, 6], [7, 8, 9]]]\n",
    "arr = np.array(lst)\n",
    "arr.ndim"
   ]
  },
  {
   "cell_type": "code",
   "execution_count": 321,
   "id": "dc366be4-7d9e-4953-83cb-2b99c32ebbaf",
   "metadata": {},
   "outputs": [
    {
     "data": {
      "text/plain": [
       "array([[[1, 2, 3],\n",
       "        [4, 5, 6],\n",
       "        [7, 8, 9]]])"
      ]
     },
     "execution_count": 321,
     "metadata": {},
     "output_type": "execute_result"
    }
   ],
   "source": [
    "arr"
   ]
  },
  {
   "cell_type": "code",
   "execution_count": 322,
   "id": "8df5e8a6-3b5f-4e21-921c-e90b38d510ff",
   "metadata": {},
   "outputs": [
    {
     "data": {
      "text/plain": [
       "array([1, 2, 3])"
      ]
     },
     "execution_count": 322,
     "metadata": {},
     "output_type": "execute_result"
    }
   ],
   "source": [
    "arr[0][0]"
   ]
  },
  {
   "cell_type": "code",
   "execution_count": 323,
   "id": "9500ddd6-dd5e-4539-809d-2f1ed0cfc523",
   "metadata": {},
   "outputs": [
    {
     "data": {
      "text/plain": [
       "array([4, 5, 6])"
      ]
     },
     "execution_count": 323,
     "metadata": {},
     "output_type": "execute_result"
    }
   ],
   "source": [
    "arr[0][1]"
   ]
  },
  {
   "cell_type": "code",
   "execution_count": 324,
   "id": "2dda14ca-97b4-417c-bc8d-ba90b4b49e95",
   "metadata": {},
   "outputs": [
    {
     "data": {
      "text/plain": [
       "(1, 3, 3)"
      ]
     },
     "execution_count": 324,
     "metadata": {},
     "output_type": "execute_result"
    }
   ],
   "source": [
    "arr.shape"
   ]
  },
  {
   "cell_type": "code",
   "execution_count": 325,
   "id": "2a8e4fa8-b526-4287-bfd1-d91e14b93a8e",
   "metadata": {},
   "outputs": [
    {
     "data": {
      "text/plain": [
       "[[[1, 2, 3], [4, 5, 6], [7, 8, 9]]]"
      ]
     },
     "execution_count": 325,
     "metadata": {},
     "output_type": "execute_result"
    }
   ],
   "source": [
    "arr.tolist()"
   ]
  },
  {
   "cell_type": "code",
   "execution_count": 326,
   "id": "1c73ba85-66b6-4ca7-a3ee-58cd3b9d00fe",
   "metadata": {},
   "outputs": [
    {
     "name": "stdout",
     "output_type": "stream",
     "text": [
      "<class 'list'>\n"
     ]
    }
   ],
   "source": [
    "print(type(arr.tolist()))"
   ]
  },
  {
   "cell_type": "code",
   "execution_count": 327,
   "id": "1c3c8dc4-91f0-4499-9bc4-50c77439b83f",
   "metadata": {
    "scrolled": true
   },
   "outputs": [
    {
     "name": "stdout",
     "output_type": "stream",
     "text": [
      "[-3, -2, -1, 0, 1, 2, 3]\n",
      "[-3 -2 -1  0  1  2  3]\n"
     ]
    }
   ],
   "source": [
    "int_lists = [-3, -2, -1, 0, 1, 2,3]\n",
    "print(int_lists)\n",
    "arr = np.array(int_lists)\n",
    "print(arr)"
   ]
  },
  {
   "cell_type": "code",
   "execution_count": 328,
   "id": "6537e1c1-c698-47d3-9038-37352f454d38",
   "metadata": {},
   "outputs": [
    {
     "data": {
      "text/plain": [
       "dtype('int32')"
      ]
     },
     "execution_count": 328,
     "metadata": {},
     "output_type": "execute_result"
    }
   ],
   "source": [
    "arr.dtype"
   ]
  },
  {
   "cell_type": "code",
   "execution_count": 329,
   "id": "4f8aff12-20eb-4898-b4df-aaf7865a6b1e",
   "metadata": {},
   "outputs": [
    {
     "name": "stdout",
     "output_type": "stream",
     "text": [
      "1\n",
      "2\n",
      "3\n",
      "4\n",
      "5\n"
     ]
    }
   ],
   "source": [
    "arr = np.array([1, 2, 3, 4, 5])\n",
    "\n",
    "for item in arr:\n",
    "    print(item)"
   ]
  },
  {
   "cell_type": "code",
   "execution_count": 330,
   "id": "8fe14ad8-b11a-41ff-97a7-a4cd83659a21",
   "metadata": {},
   "outputs": [
    {
     "data": {
      "text/plain": [
       "3"
      ]
     },
     "execution_count": 330,
     "metadata": {},
     "output_type": "execute_result"
    }
   ],
   "source": [
    "arr = np.array([[[1, 2], [3, 4], [5, 6]], [[7, 8], [9, 10], [11, 12]]])\n",
    "arr.ndim"
   ]
  },
  {
   "cell_type": "code",
   "execution_count": 331,
   "id": "5a533e9e-97b4-48a3-b20c-f43c379764fb",
   "metadata": {},
   "outputs": [
    {
     "name": "stdout",
     "output_type": "stream",
     "text": [
      "2\n"
     ]
    }
   ],
   "source": [
    "arr\n",
    "print(len(arr))"
   ]
  },
  {
   "cell_type": "code",
   "execution_count": 332,
   "id": "ab492d95-0f8b-42f4-8e3a-d33aae72e96d",
   "metadata": {},
   "outputs": [
    {
     "name": "stdout",
     "output_type": "stream",
     "text": [
      "[[1 2]\n",
      " [3 4]\n",
      " [5 6]]\n",
      "[[ 7  8]\n",
      " [ 9 10]\n",
      " [11 12]]\n"
     ]
    }
   ],
   "source": [
    "for item in arr:\n",
    "    print(item)"
   ]
  },
  {
   "cell_type": "code",
   "execution_count": 333,
   "id": "c3c819cc-da2f-47ef-9a68-22e69a8dd214",
   "metadata": {},
   "outputs": [
    {
     "name": "stdout",
     "output_type": "stream",
     "text": [
      "(0, 1)\n",
      "(1, 2)\n",
      "(2, 3)\n",
      "(3, 4)\n"
     ]
    }
   ],
   "source": [
    "lst = [1, 2, 3, 4]\n",
    "for num in enumerate(lst):\n",
    "    print(num)"
   ]
  },
  {
   "cell_type": "code",
   "execution_count": 334,
   "id": "c4c05ee8-7e01-42cb-b80c-e46df32da403",
   "metadata": {},
   "outputs": [
    {
     "data": {
      "text/plain": [
       "array([[[ 1,  2],\n",
       "        [ 3,  4],\n",
       "        [ 5,  6]],\n",
       "\n",
       "       [[ 7,  8],\n",
       "        [ 9, 10],\n",
       "        [11, 12]]])"
      ]
     },
     "execution_count": 334,
     "metadata": {},
     "output_type": "execute_result"
    }
   ],
   "source": [
    "arr"
   ]
  },
  {
   "cell_type": "code",
   "execution_count": 335,
   "id": "d6251096-5425-41b2-a0b6-f20fcb5eb9e8",
   "metadata": {},
   "outputs": [
    {
     "name": "stdout",
     "output_type": "stream",
     "text": [
      "((0, 0, 0), 1)\n",
      "((0, 0, 1), 2)\n",
      "((0, 1, 0), 3)\n",
      "((0, 1, 1), 4)\n",
      "((0, 2, 0), 5)\n",
      "((0, 2, 1), 6)\n",
      "((1, 0, 0), 7)\n",
      "((1, 0, 1), 8)\n",
      "((1, 1, 0), 9)\n",
      "((1, 1, 1), 10)\n",
      "((1, 2, 0), 11)\n",
      "((1, 2, 1), 12)\n"
     ]
    }
   ],
   "source": [
    "for item in np.ndenumerate(arr):\n",
    "    print(item)"
   ]
  },
  {
   "cell_type": "code",
   "execution_count": 336,
   "id": "72c3df8f-91a3-45f5-9f4f-3e6730e4dfc3",
   "metadata": {},
   "outputs": [
    {
     "data": {
      "text/plain": [
       "1"
      ]
     },
     "execution_count": 336,
     "metadata": {},
     "output_type": "execute_result"
    }
   ],
   "source": [
    "arr[0][0][0]"
   ]
  },
  {
   "cell_type": "code",
   "execution_count": 337,
   "id": "6d41e7c4-8580-41d8-85e0-156a66f24f88",
   "metadata": {},
   "outputs": [
    {
     "data": {
      "text/plain": [
       "12"
      ]
     },
     "execution_count": 337,
     "metadata": {},
     "output_type": "execute_result"
    }
   ],
   "source": [
    "arr[1][2][1]"
   ]
  },
  {
   "cell_type": "code",
   "execution_count": 338,
   "id": "eae1b441-d143-4a89-b1ac-918f34386145",
   "metadata": {},
   "outputs": [
    {
     "name": "stdout",
     "output_type": "stream",
     "text": [
      "[ 0  1  2  3  4  5  6  7  8  9 10 11 12 13 14 15 16 17 18 19 20 21 22 23\n",
      " 24 25 26 27 28 29]\n",
      "[10 12 14 16 18 20 22 24 26 28 30 32 34 36 38 40 42 44 46 48 50 52 54 56\n",
      " 58 60 62 64 66 68]\n"
     ]
    }
   ],
   "source": [
    "x = np.arange(30)\n",
    "print(x)\n",
    "y = 2 * x + 10\n",
    "print(y)"
   ]
  },
  {
   "cell_type": "code",
   "execution_count": 340,
   "id": "972b99e1-4ade-4254-b3cb-0affb3b6cbdc",
   "metadata": {},
   "outputs": [
    {
     "data": {
      "image/png": "[encoded data removed]",
      "text/plain": [
       "<Figure size 640x480 with 1 Axes>"
      ]
     },
     "metadata": {},
     "output_type": "display_data"
    }
   ],
   "source": [
    "plt.scatter(x, y, color='g', marker='+', linewidths= 8)\n",
    "#.,ov^<>12348spp*hH+xDd_\n",
    "plt.show()"
   ]
  },
  {
   "cell_type": "code",
   "execution_count": 341,
   "id": "efaff370-56fe-4cf9-8050-8bfc72061c5b",
   "metadata": {},
   "outputs": [
    {
     "data": {
      "image/png": "[encoded data removed]",
      "text/plain": [
       "<Figure size 640x480 with 1 Axes>"
      ]
     },
     "metadata": {},
     "output_type": "display_data"
    }
   ],
   "source": [
    "x = np.arange(-50, 51)\n",
    "y = -x ** 2\n",
    "plt.scatter(x, y)\n",
    "plot.show()"
   ]
  },
  {
   "cell_type": "code",
   "execution_count": 342,
   "id": "c41ad478-8cb4-452d-b9ab-f8051e113a15",
   "metadata": {},
   "outputs": [
    {
     "data": {
      "image/png": "[encoded data removed]",
      "text/plain": [
       "<Figure size 640x480 with 1 Axes>"
      ]
     },
     "metadata": {},
     "output_type": "display_data"
    }
   ],
   "source": [
    "x = np.arange(-50, 51)\n",
    "y = x ** 3\n",
    "plt.scatter(x, y)\n",
    "plot.show()"
   ]
  },
  {
   "cell_type": "code",
   "execution_count": 343,
   "id": "b491123e-bcfb-4d7e-bd0f-b1ce6367eb4f",
   "metadata": {},
   "outputs": [
    {
     "name": "stdout",
     "output_type": "stream",
     "text": [
      "0\n",
      "1\n",
      "5\n"
     ]
    }
   ],
   "source": [
    "# Getting access to array items\n",
    "\n",
    "lst = [0, 1, 2, 3, 4, 5]\n",
    "print(lst[0])\n",
    "print(lst[1])\n",
    "print(lst[-1])"
   ]
  },
  {
   "cell_type": "code",
   "execution_count": 344,
   "id": "82b43834-d995-48d8-b6c3-d1cb1a2e939d",
   "metadata": {},
   "outputs": [],
   "source": [
    "arr = np.array(lst)"
   ]
  },
  {
   "cell_type": "code",
   "execution_count": 345,
   "id": "57a08719-3469-40ea-9613-64cb82153ad5",
   "metadata": {},
   "outputs": [
    {
     "name": "stdout",
     "output_type": "stream",
     "text": [
      "0\n",
      "1\n",
      "5\n"
     ]
    }
   ],
   "source": [
    "print(arr[0])\n",
    "print(arr[1])\n",
    "print(arr[-1])"
   ]
  },
  {
   "cell_type": "code",
   "execution_count": 346,
   "id": "b65b2acc-f0a3-4fa0-8e28-17aa69758774",
   "metadata": {},
   "outputs": [
    {
     "data": {
      "text/plain": [
       "array([[1, 2, 3],\n",
       "       [4, 5, 6],\n",
       "       [7, 8, 9]])"
      ]
     },
     "execution_count": 346,
     "metadata": {},
     "output_type": "execute_result"
    }
   ],
   "source": [
    "arr = np.array([[1,2,3],[4,5,6], [7,8,9]])\n",
    "arr"
   ]
  },
  {
   "cell_type": "code",
   "execution_count": 347,
   "id": "15397b3e-cdca-4fd4-8d64-36e8f40f6628",
   "metadata": {},
   "outputs": [
    {
     "name": "stdout",
     "output_type": "stream",
     "text": [
      "[1 2 3]\n"
     ]
    }
   ],
   "source": [
    "first_row = arr[0]\n",
    "print(first_row)"
   ]
  },
  {
   "cell_type": "code",
   "execution_count": 348,
   "id": "83069a86-4816-4022-94dd-f16f9058eaf4",
   "metadata": {},
   "outputs": [
    {
     "name": "stdout",
     "output_type": "stream",
     "text": [
      "[4 5 6]\n"
     ]
    }
   ],
   "source": [
    "second_row = arr[1]\n",
    "print(second_row)"
   ]
  },
  {
   "cell_type": "code",
   "execution_count": 349,
   "id": "bc702bf4-e17b-4c7f-ad19-42a9c77e99a8",
   "metadata": {},
   "outputs": [
    {
     "name": "stdout",
     "output_type": "stream",
     "text": [
      "[7 8 9]\n"
     ]
    }
   ],
   "source": [
    "third_row = arr[2]\n",
    "print(third_row)"
   ]
  },
  {
   "cell_type": "code",
   "execution_count": null,
   "id": "82fe4084-c529-4718-b044-64fd797753e2",
   "metadata": {},
   "outputs": [],
   "source": []
  },
  {
   "cell_type": "code",
   "execution_count": 350,
   "id": "e657e939-a2a1-4533-b2e6-1607800afea8",
   "metadata": {},
   "outputs": [
    {
     "data": {
      "text/plain": [
       "array([[5, 6],\n",
       "       [8, 9]])"
      ]
     },
     "execution_count": 350,
     "metadata": {},
     "output_type": "execute_result"
    }
   ],
   "source": [
    "arr[1:,1:]"
   ]
  },
  {
   "cell_type": "code",
   "execution_count": 351,
   "id": "2af7868a-ad0a-4f09-9b2f-a2f889188929",
   "metadata": {},
   "outputs": [],
   "source": [
    "arr[1:, 0:2]  = 101"
   ]
  },
  {
   "cell_type": "code",
   "execution_count": 352,
   "id": "f8019576-e075-4886-9af2-affcee94ae4d",
   "metadata": {},
   "outputs": [
    {
     "data": {
      "text/plain": [
       "array([[  1,   2,   3],\n",
       "       [101, 101,   6],\n",
       "       [101, 101,   9]])"
      ]
     },
     "execution_count": 352,
     "metadata": {},
     "output_type": "execute_result"
    }
   ],
   "source": [
    "arr"
   ]
  },
  {
   "cell_type": "code",
   "execution_count": 353,
   "id": "dae911f1-384b-4150-8e3b-2132d4ba0681",
   "metadata": {},
   "outputs": [],
   "source": [
    "arr = np.array([[1,2,3,7],[4,5,6, 15], [7,8,9,24],  [10,11,12, 33]])"
   ]
  },
  {
   "cell_type": "code",
   "execution_count": 354,
   "id": "841a69a7-1b5f-4578-8edd-28d0ac48dac0",
   "metadata": {},
   "outputs": [
    {
     "data": {
      "text/plain": [
       "array([[ 1,  2,  3,  7],\n",
       "       [ 4,  5,  6, 15],\n",
       "       [ 7,  8,  9, 24],\n",
       "       [10, 11, 12, 33]])"
      ]
     },
     "execution_count": 354,
     "metadata": {},
     "output_type": "execute_result"
    }
   ],
   "source": [
    "arr"
   ]
  },
  {
   "cell_type": "code",
   "execution_count": 355,
   "id": "d8bee4e3-c3f0-40b2-a386-19b732e4cb00",
   "metadata": {},
   "outputs": [
    {
     "data": {
      "text/plain": [
       "array([[4, 5, 6],\n",
       "       [7, 8, 9]])"
      ]
     },
     "execution_count": 355,
     "metadata": {},
     "output_type": "execute_result"
    }
   ],
   "source": [
    "arr[1:3,0:3]"
   ]
  },
  {
   "cell_type": "code",
   "execution_count": 356,
   "id": "bc13f60a-096e-457e-9363-d397b9617087",
   "metadata": {},
   "outputs": [
    {
     "data": {
      "text/plain": [
       "array([[ 1,  2,  3,  7],\n",
       "       [ 4,  5,  6, 15],\n",
       "       [ 7,  8,  9, 24],\n",
       "       [10, 11, 12, 33]])"
      ]
     },
     "execution_count": 356,
     "metadata": {},
     "output_type": "execute_result"
    }
   ],
   "source": [
    "arr"
   ]
  },
  {
   "cell_type": "code",
   "execution_count": 357,
   "id": "6855f85e-0f61-42b7-8454-f0d981993ea4",
   "metadata": {},
   "outputs": [
    {
     "data": {
      "text/plain": [
       "array([[ 1,  2,  3,  7],\n",
       "       [ 4,  5,  6, 15],\n",
       "       [ 7,  8,  9, 24],\n",
       "       [10, 11, 12, 33]])"
      ]
     },
     "execution_count": 357,
     "metadata": {},
     "output_type": "execute_result"
    }
   ],
   "source": [
    "arr[::]"
   ]
  },
  {
   "cell_type": "code",
   "execution_count": 358,
   "id": "cfb950aa-d367-44a6-a552-7295a46974c6",
   "metadata": {},
   "outputs": [
    {
     "data": {
      "text/plain": [
       "array([[10, 11, 12, 33],\n",
       "       [ 7,  8,  9, 24],\n",
       "       [ 4,  5,  6, 15],\n",
       "       [ 1,  2,  3,  7]])"
      ]
     },
     "execution_count": 358,
     "metadata": {},
     "output_type": "execute_result"
    }
   ],
   "source": [
    "arr[::-1]"
   ]
  },
  {
   "cell_type": "code",
   "execution_count": 359,
   "id": "9611c883-aee7-457c-a93a-6a00e0abc33e",
   "metadata": {},
   "outputs": [
    {
     "data": {
      "text/plain": [
       "array([[ 1,  2,  3,  7],\n",
       "       [ 4,  5,  6, 15],\n",
       "       [ 7,  8,  9, 24],\n",
       "       [10, 11, 12, 33]])"
      ]
     },
     "execution_count": 359,
     "metadata": {},
     "output_type": "execute_result"
    }
   ],
   "source": [
    "arr"
   ]
  },
  {
   "cell_type": "code",
   "execution_count": 360,
   "id": "d34ffd9b-5242-4f13-a509-232fbc901de2",
   "metadata": {},
   "outputs": [
    {
     "data": {
      "text/plain": [
       "array([[33, 12, 11, 10],\n",
       "       [24,  9,  8,  7],\n",
       "       [15,  6,  5,  4],\n",
       "       [ 7,  3,  2,  1]])"
      ]
     },
     "execution_count": 360,
     "metadata": {},
     "output_type": "execute_result"
    }
   ],
   "source": [
    "arr[::-1, ::-1]"
   ]
  },
  {
   "cell_type": "code",
   "execution_count": 361,
   "id": "a61b6483-1cd8-40c1-92e7-e52d02430c25",
   "metadata": {},
   "outputs": [],
   "source": [
    "init_arr = np.zeros((3, 4))"
   ]
  },
  {
   "cell_type": "code",
   "execution_count": 362,
   "id": "2721abe7-cb19-421f-ba45-21b83d93b4e2",
   "metadata": {},
   "outputs": [
    {
     "data": {
      "text/plain": [
       "array([[100., 100., 100., 100.],\n",
       "       [100., 100., 100., 100.],\n",
       "       [100., 100., 100., 100.]])"
      ]
     },
     "execution_count": 362,
     "metadata": {},
     "output_type": "execute_result"
    }
   ],
   "source": [
    "init_arr + 100"
   ]
  },
  {
   "cell_type": "code",
   "execution_count": 363,
   "id": "dcbd87b9-4db2-46c1-b4f1-ddb270ae3c3d",
   "metadata": {},
   "outputs": [],
   "source": [
    "ones = np.ones((4, 5))"
   ]
  },
  {
   "cell_type": "code",
   "execution_count": 364,
   "id": "8c19abb2-1efa-4f68-addc-b29865d9f532",
   "metadata": {},
   "outputs": [
    {
     "data": {
      "text/plain": [
       "array([[1., 1., 1., 1., 1.],\n",
       "       [1., 1., 1., 1., 1.],\n",
       "       [1., 1., 1., 1., 1.],\n",
       "       [1., 1., 1., 1., 1.]])"
      ]
     },
     "execution_count": 364,
     "metadata": {},
     "output_type": "execute_result"
    }
   ],
   "source": [
    "ones"
   ]
  },
  {
   "cell_type": "code",
   "execution_count": 365,
   "id": "eb280e0c-c974-4c8f-a8d2-2aecc92c5986",
   "metadata": {},
   "outputs": [
    {
     "data": {
      "text/plain": [
       "array([[1, 0, 0, 0],\n",
       "       [0, 1, 0, 0],\n",
       "       [0, 0, 1, 0],\n",
       "       [0, 0, 0, 1]])"
      ]
     },
     "execution_count": 365,
     "metadata": {},
     "output_type": "execute_result"
    }
   ],
   "source": [
    "eyes = np.eye(4, dtype='int')\n",
    "eyes"
   ]
  },
  {
   "cell_type": "code",
   "execution_count": 366,
   "id": "fa68a157-f273-47f5-8b93-8decedf54103",
   "metadata": {},
   "outputs": [
    {
     "data": {
      "text/plain": [
       "array([[7.32088548e-312, 7.04502603e-312, 5.32620944e-312,\n",
       "        4.07423192e-312, 2.12199579e-312, 1.78357698e-321,\n",
       "        1.18575755e-321, 9.88131292e-322],\n",
       "       [3.18299369e-313, 6.36598738e-313, 2.37663529e-312,\n",
       "        1.93101617e-312, 1.48539705e-312, 1.48539705e-312,\n",
       "        1.48539706e-312, 2.82225440e-312],\n",
       "       [4.09545188e-312, 5.28376952e-312, 6.59940691e-312,\n",
       "        6.59940691e-312, 6.59940691e-312, 8.08480396e-312,\n",
       "        8.08480396e-312, 8.08480397e-312],\n",
       "       [9.10336195e-312, 1.00582601e-311, 1.10555981e-311,\n",
       "        1.20953760e-311, 1.20953760e-311, 1.20953760e-311,\n",
       "        1.17770766e-311, 1.14587773e-311],\n",
       "       [1.30290542e-311, 1.33049136e-311, 1.35807731e-311,\n",
       "        1.35807731e-311, 1.35807731e-311, 1.17558567e-311,\n",
       "        1.02067998e-311, 9.10336195e-312]])"
      ]
     },
     "execution_count": 366,
     "metadata": {},
     "output_type": "execute_result"
    }
   ],
   "source": [
    "np.empty((5, 8))"
   ]
  },
  {
   "cell_type": "code",
   "execution_count": 367,
   "id": "3767e385-c0bd-4989-9053-db83faeb9cc6",
   "metadata": {},
   "outputs": [],
   "source": [
    "arr = np.arange(12)"
   ]
  },
  {
   "cell_type": "code",
   "execution_count": 368,
   "id": "fbee3a6a-2b3d-4c42-9b4f-2060900aec05",
   "metadata": {},
   "outputs": [
    {
     "data": {
      "text/plain": [
       "array([ 0,  1,  2,  3,  4,  5,  6,  7,  8,  9, 10, 11])"
      ]
     },
     "execution_count": 368,
     "metadata": {},
     "output_type": "execute_result"
    }
   ],
   "source": [
    "arr"
   ]
  },
  {
   "cell_type": "code",
   "execution_count": 369,
   "id": "dce5ec5f-631e-4db1-81ba-43f0936b0bf5",
   "metadata": {},
   "outputs": [
    {
     "data": {
      "text/plain": [
       "(12,)"
      ]
     },
     "execution_count": 369,
     "metadata": {},
     "output_type": "execute_result"
    }
   ],
   "source": [
    "arr.shape"
   ]
  },
  {
   "cell_type": "code",
   "execution_count": 370,
   "id": "9371b17c-c8cc-4dbf-82b6-ff8c87116166",
   "metadata": {},
   "outputs": [
    {
     "data": {
      "text/plain": [
       "array([[ 0,  1,  2,  3,  4,  5],\n",
       "       [ 6,  7,  8,  9, 10, 11]])"
      ]
     },
     "execution_count": 370,
     "metadata": {},
     "output_type": "execute_result"
    }
   ],
   "source": [
    "arr.reshape(2,6)"
   ]
  },
  {
   "cell_type": "code",
   "execution_count": 371,
   "id": "fe215adb-4e8f-4e6f-b14f-f4826c2a77c8",
   "metadata": {},
   "outputs": [
    {
     "data": {
      "text/plain": [
       "array([[ 0,  1,  2,  3],\n",
       "       [ 4,  5,  6,  7],\n",
       "       [ 8,  9, 10, 11]])"
      ]
     },
     "execution_count": 371,
     "metadata": {},
     "output_type": "execute_result"
    }
   ],
   "source": [
    "arr.reshape(3, 4)"
   ]
  },
  {
   "cell_type": "code",
   "execution_count": 372,
   "id": "a8ae22e7-2586-49f3-8717-37d529896b54",
   "metadata": {},
   "outputs": [
    {
     "data": {
      "text/plain": [
       "12"
      ]
     },
     "execution_count": 372,
     "metadata": {},
     "output_type": "execute_result"
    }
   ],
   "source": [
    "arr.size"
   ]
  },
  {
   "cell_type": "code",
   "execution_count": 373,
   "id": "5d9e7b78-ee00-4d30-88c1-c7d5d0faaf3a",
   "metadata": {},
   "outputs": [],
   "source": [
    "new_arr = arr.reshape(3, 4)"
   ]
  },
  {
   "cell_type": "code",
   "execution_count": 374,
   "id": "1d245742-9ab0-4692-9ea7-53690a347b23",
   "metadata": {},
   "outputs": [
    {
     "data": {
      "text/plain": [
       "array([[ 0,  1,  2,  3],\n",
       "       [ 4,  5,  6,  7],\n",
       "       [ 8,  9, 10, 11]])"
      ]
     },
     "execution_count": 374,
     "metadata": {},
     "output_type": "execute_result"
    }
   ],
   "source": [
    "new_arr"
   ]
  },
  {
   "cell_type": "code",
   "execution_count": 375,
   "id": "49914e1b-e4dd-485a-9a58-0a71a491ed78",
   "metadata": {},
   "outputs": [
    {
     "data": {
      "text/plain": [
       "array([ 0,  1,  2,  3,  4,  5,  6,  7,  8,  9, 10, 11])"
      ]
     },
     "execution_count": 375,
     "metadata": {},
     "output_type": "execute_result"
    }
   ],
   "source": [
    "new_arr.flatten()"
   ]
  },
  {
   "cell_type": "code",
   "execution_count": 376,
   "id": "18b3f585-6a50-4a4f-b9f9-fc731225669e",
   "metadata": {},
   "outputs": [
    {
     "name": "stdout",
     "output_type": "stream",
     "text": [
      "[0 1 2]\n",
      "[2 3 4]\n",
      "[0 1 2 2 3 4]\n"
     ]
    }
   ],
   "source": [
    "x = np.arange(3)\n",
    "print(x)\n",
    "y = np.arange(2, 5)\n",
    "print(y)\n",
    "z = np.concatenate((x, y))\n",
    "print(z)"
   ]
  },
  {
   "cell_type": "code",
   "execution_count": 377,
   "id": "0016792b-3073-46ce-8a7d-32139df49f06",
   "metadata": {},
   "outputs": [
    {
     "data": {
      "text/plain": [
       "array([2, 4, 6])"
      ]
     },
     "execution_count": 377,
     "metadata": {},
     "output_type": "execute_result"
    }
   ],
   "source": [
    "x + y"
   ]
  },
  {
   "cell_type": "code",
   "execution_count": 378,
   "id": "1f00e895-c2f6-4a74-98ed-efd524b9c259",
   "metadata": {},
   "outputs": [
    {
     "name": "stdout",
     "output_type": "stream",
     "text": [
      "[[ 0  1  2  3]\n",
      " [ 4  5  6  7]\n",
      " [ 8  9 10 11]]\n",
      "2\n"
     ]
    }
   ],
   "source": [
    "arr = np.arange(12)\n",
    "\n",
    "new_arr = arr.reshape(3, 4)\n",
    "print(new_arr)\n",
    "print(new_arr.ndim)\n"
   ]
  },
  {
   "cell_type": "code",
   "execution_count": 379,
   "id": "75022333-41fb-4a26-89af-eee73fe55bf4",
   "metadata": {},
   "outputs": [
    {
     "name": "stdout",
     "output_type": "stream",
     "text": [
      "2\n"
     ]
    }
   ],
   "source": [
    "y = np.array([[13, 14, 15, 16]])\n",
    "print(y.ndim)\n",
    "b = np.concatenate((new_arr, new_arr), axis = 0)"
   ]
  },
  {
   "cell_type": "code",
   "execution_count": 380,
   "id": "85c8b31f-9617-48cd-88e7-1bb696aa7bb4",
   "metadata": {},
   "outputs": [
    {
     "data": {
      "text/plain": [
       "array([[ 0,  1,  2,  3],\n",
       "       [ 4,  5,  6,  7],\n",
       "       [ 8,  9, 10, 11],\n",
       "       [ 0,  1,  2,  3],\n",
       "       [ 4,  5,  6,  7],\n",
       "       [ 8,  9, 10, 11]])"
      ]
     },
     "execution_count": 380,
     "metadata": {},
     "output_type": "execute_result"
    }
   ],
   "source": [
    "b"
   ]
  },
  {
   "cell_type": "code",
   "execution_count": 381,
   "id": "8fb6aa5a-397f-4f00-9557-59728a2a9042",
   "metadata": {},
   "outputs": [
    {
     "name": "stdout",
     "output_type": "stream",
     "text": [
      "concatenating list: [5 7 9]\n",
      "[[1 4]\n",
      " [2 5]\n",
      " [3 6]]\n"
     ]
    }
   ],
   "source": [
    "np_list_one = np.array([1,2,3])\n",
    "np_list_two = np.array([4,5,6])\n",
    "print('concatenating list:', np_list_one + np_list_two)\n",
    "print(np.stack((np_list_one, np_list_two), axis = 1)) # default axis value is zero."
   ]
  },
  {
   "cell_type": "code",
   "execution_count": 382,
   "id": "c09e580a-dd73-4a64-b9f6-79a1d6e77ea9",
   "metadata": {},
   "outputs": [
    {
     "data": {
      "text/plain": [
       "2"
      ]
     },
     "execution_count": 382,
     "metadata": {},
     "output_type": "execute_result"
    }
   ],
   "source": [
    "random_int = np.random.randint(0, 11)\n",
    "random_int"
   ]
  },
  {
   "cell_type": "code",
   "execution_count": 383,
   "id": "d8ad7c3e-cb0f-4664-807a-efd0b2cfbe55",
   "metadata": {},
   "outputs": [
    {
     "name": "stdout",
     "output_type": "stream",
     "text": [
      "[[0.7759963  0.78992341 0.08924978 0.87964747 0.98568452]\n",
      " [0.32499849 0.07861382 0.28609722 0.88640605 0.00543496]\n",
      " [0.35689432 0.18617743 0.02042701 0.7143177  0.80157315]\n",
      " [0.58420032 0.02153207 0.08406823 0.98418438 0.49085408]\n",
      " [0.59378104 0.61651822 0.84474685 0.26204004 0.90921164]\n",
      " [0.47721988 0.81516502 0.85144705 0.02809569 0.92563806]\n",
      " [0.60152014 0.89580858 0.82548582 0.33783651 0.74268951]\n",
      " [0.61615957 0.86809211 0.16515243 0.77326925 0.54113253]\n",
      " [0.84019129 0.50099785 0.8411393  0.09369912 0.66038502]\n",
      " [0.4385209  0.94901697 0.75868497 0.2258062  0.33196992]]\n"
     ]
    }
   ],
   "source": [
    "random_floats = np.random.random(size = (10, 5))\n",
    "print(random_floats)"
   ]
  },
  {
   "cell_type": "code",
   "execution_count": 384,
   "id": "73b3dda3-c6b7-4cf1-8167-f0db8992191b",
   "metadata": {},
   "outputs": [
    {
     "name": "stdout",
     "output_type": "stream",
     "text": [
      "['a' 'u']\n"
     ]
    }
   ],
   "source": [
    "print(np.random.choice(['a', 'e', 'i', 'o', 'u'], size=2))"
   ]
  },
  {
   "cell_type": "code",
   "execution_count": 385,
   "id": "3f432d0f-f00e-446c-a8d3-637ee5cc6fdb",
   "metadata": {},
   "outputs": [
    {
     "name": "stdout",
     "output_type": "stream",
     "text": [
      "rhihCY\n",
      "j5OrpEbP5YJ5wOSgT4rW\n",
      "RWuU7rpzDTk4LtvTeeWwXzgmfL2JRvvFtlWcDaswsTV4hmK6E43PbRFDUs3rQuhgCFjEWCzMVNURIBX6avpbl3fPeAeFb9TMo4vr\n"
     ]
    }
   ],
   "source": [
    "def generate_id(n = 6):\n",
    "    random_id = np.random.choice(list('abcdefghijklmnopkrstuvwxyzABCDEFGHIJKLMNOPQRSTUVWXYZ0123456789'), size = n).tolist()\n",
    "    random_id = ''.join(random_id)\n",
    "    return random_id\n",
    "\n",
    "print(generate_id())\n",
    "print(generate_id(20))\n",
    "print(generate_id(100))\n"
   ]
  },
  {
   "cell_type": "code",
   "execution_count": 386,
   "id": "7f777177-636c-4c80-a943-b5ff11efee28",
   "metadata": {},
   "outputs": [],
   "source": [
    "data = np.random.uniform(-1, 0, 1000)"
   ]
  },
  {
   "cell_type": "code",
   "execution_count": 387,
   "id": "76b4bdcf-a3ad-4b02-aa9b-a49f7bbb7838",
   "metadata": {},
   "outputs": [
    {
     "data": {
      "text/plain": [
       "(1000,)"
      ]
     },
     "execution_count": 387,
     "metadata": {},
     "output_type": "execute_result"
    }
   ],
   "source": [
    "data.shape"
   ]
  },
  {
   "cell_type": "code",
   "execution_count": 390,
   "id": "740e9294-52bd-4078-96f0-047524629311",
   "metadata": {},
   "outputs": [
    {
     "data": {
      "image/png": "[encoded data removed]",
      "text/plain": [
       "<Figure size 640x480 with 1 Axes>"
      ]
     },
     "metadata": {},
     "output_type": "display_data"
    }
   ],
   "source": [
    "count, bins, ignored = plt.hist(data, 25, density=True)\n",
    "\n",
    "plt.plot(bins, np.ones_like(bins), linewidth=2, color='r')\n",
    "plt.show()"
   ]
  },
  {
   "cell_type": "code",
   "execution_count": 398,
   "id": "939195eb-d795-436f-bb25-776793a58aee",
   "metadata": {},
   "outputs": [
    {
     "data": {
      "text/plain": [
       "array([60.30079598, 93.66985462, 91.21580797, ..., 92.37515392,\n",
       "       99.54514631, 92.0781524 ])"
      ]
     },
     "execution_count": 398,
     "metadata": {},
     "output_type": "execute_result"
    }
   ],
   "source": [
    "# np.random.normal(mu, sigma, size)\n",
    "# mu - mean, sigma - sigma -standard deviation, size - number of obsevations\n",
    "normal_array = np.random.normal(79, 15, 100000)\n",
    "normal_array"
   ]
  },
  {
   "cell_type": "code",
   "execution_count": 401,
   "id": "99d4d26a-7b0e-4633-89ac-9af4f6e71ded",
   "metadata": {},
   "outputs": [
    {
     "data": {
      "image/png": "[encoded data removed]",
      "text/plain": [
       "<Figure size 640x480 with 1 Axes>"
      ]
     },
     "metadata": {},
     "output_type": "display_data"
    }
   ],
   "source": [
    "count, bins, _ = plt.hist(normal_array, bins=50, color='lightgreen', density=True)\n",
    "plt.show()"
   ]
  },
  {
   "cell_type": "code",
   "execution_count": 405,
   "id": "d2eaef02-f486-490a-a0fc-545a3f4b37e2",
   "metadata": {},
   "outputs": [
    {
     "data": {
      "text/plain": [
       "array([[1., 1., 1., 1.],\n",
       "       [1., 1., 1., 1.],\n",
       "       [1., 1., 1., 1.],\n",
       "       [1., 1., 1., 1.]])"
      ]
     },
     "execution_count": 405,
     "metadata": {},
     "output_type": "execute_result"
    }
   ],
   "source": [
    "ones = np.ones((4,4))\n",
    "ones"
   ]
  },
  {
   "cell_type": "code",
   "execution_count": null,
   "id": "de4973ef-0b3e-4d1d-9921-5e422e3b1a10",
   "metadata": {},
   "outputs": [],
   "source": []
  },
  {
   "cell_type": "code",
   "execution_count": 407,
   "id": "f18f8232-af7e-43a2-8ebd-09d66e5ae30f",
   "metadata": {},
   "outputs": [],
   "source": [
    "four_by_four_matrix = np.matrix(ones, dtype=float)"
   ]
  },
  {
   "cell_type": "code",
   "execution_count": 408,
   "id": "de8b76e1-9cda-43df-a9ba-77b1cd2a9061",
   "metadata": {},
   "outputs": [
    {
     "data": {
      "text/plain": [
       "matrix([[1., 1., 1., 1.],\n",
       "        [1., 1., 1., 1.],\n",
       "        [1., 1., 1., 1.],\n",
       "        [1., 1., 1., 1.]])"
      ]
     },
     "execution_count": 408,
     "metadata": {},
     "output_type": "execute_result"
    }
   ],
   "source": [
    "four_by_four_matrix"
   ]
  },
  {
   "cell_type": "code",
   "execution_count": 409,
   "id": "bd41b2e5-a6aa-4c2a-9d56-3cf40d46f506",
   "metadata": {},
   "outputs": [
    {
     "data": {
      "text/plain": [
       "matrix([[1., 1., 1., 1.],\n",
       "        [1., 1., 1., 1.],\n",
       "        [2., 2., 2., 2.],\n",
       "        [1., 1., 1., 1.]])"
      ]
     },
     "execution_count": 409,
     "metadata": {},
     "output_type": "execute_result"
    }
   ],
   "source": [
    "np.asarray(four_by_four_matrix)[2] = 2\n",
    "four_by_four_matrix"
   ]
  },
  {
   "cell_type": "code",
   "execution_count": 410,
   "id": "14d0cc8b-27f4-451f-b000-3f22fb2ad7dd",
   "metadata": {},
   "outputs": [],
   "source": [
    "A = four_by_four_matrix * 2\n",
    "B = four_by_four_matrix * 4"
   ]
  },
  {
   "cell_type": "code",
   "execution_count": 411,
   "id": "0f8c04c8-d5aa-47de-bb12-88e7faefd3df",
   "metadata": {},
   "outputs": [
    {
     "data": {
      "text/plain": [
       "matrix([[2., 2., 2., 2.],\n",
       "        [2., 2., 2., 2.],\n",
       "        [4., 4., 4., 4.],\n",
       "        [2., 2., 2., 2.]])"
      ]
     },
     "execution_count": 411,
     "metadata": {},
     "output_type": "execute_result"
    }
   ],
   "source": [
    "A"
   ]
  },
  {
   "cell_type": "code",
   "execution_count": 412,
   "id": "fe377a21-22a3-446c-8a68-b01293527dc9",
   "metadata": {},
   "outputs": [
    {
     "data": {
      "text/plain": [
       "matrix([[4., 4., 4., 4.],\n",
       "        [4., 4., 4., 4.],\n",
       "        [8., 8., 8., 8.],\n",
       "        [4., 4., 4., 4.]])"
      ]
     },
     "execution_count": 412,
     "metadata": {},
     "output_type": "execute_result"
    }
   ],
   "source": [
    "B"
   ]
  },
  {
   "cell_type": "code",
   "execution_count": 413,
   "id": "1cbfa0b7-1b2f-4947-b192-49dcef337c1c",
   "metadata": {},
   "outputs": [
    {
     "data": {
      "text/plain": [
       "matrix([[ 6.,  6.,  6.,  6.],\n",
       "        [ 6.,  6.,  6.,  6.],\n",
       "        [12., 12., 12., 12.],\n",
       "        [ 6.,  6.,  6.,  6.]])"
      ]
     },
     "execution_count": 413,
     "metadata": {},
     "output_type": "execute_result"
    }
   ],
   "source": [
    "A + B"
   ]
  },
  {
   "cell_type": "code",
   "execution_count": 414,
   "id": "e35ddca8-2a93-496f-9118-3d021b18c9fc",
   "metadata": {},
   "outputs": [
    {
     "data": {
      "text/plain": [
       "matrix([[-2., -2., -2., -2.],\n",
       "        [-2., -2., -2., -2.],\n",
       "        [-4., -4., -4., -4.],\n",
       "        [-2., -2., -2., -2.]])"
      ]
     },
     "execution_count": 414,
     "metadata": {},
     "output_type": "execute_result"
    }
   ],
   "source": [
    "A - B"
   ]
  },
  {
   "cell_type": "code",
   "execution_count": 415,
   "id": "c6d3e3df-bcce-4ffa-aad5-8ea95c7ca421",
   "metadata": {},
   "outputs": [
    {
     "data": {
      "text/plain": [
       "matrix([[2., 2., 2., 2.],\n",
       "        [2., 2., 2., 2.],\n",
       "        [4., 4., 4., 4.],\n",
       "        [2., 2., 2., 2.]])"
      ]
     },
     "execution_count": 415,
     "metadata": {},
     "output_type": "execute_result"
    }
   ],
   "source": [
    "B - A"
   ]
  },
  {
   "cell_type": "code",
   "execution_count": 416,
   "id": "0492121b-e637-46e1-978d-8b2aef7d6bfb",
   "metadata": {},
   "outputs": [
    {
     "data": {
      "text/plain": [
       "matrix([[40., 40., 40., 40.],\n",
       "        [40., 40., 40., 40.],\n",
       "        [80., 80., 80., 80.],\n",
       "        [40., 40., 40., 40.]])"
      ]
     },
     "execution_count": 416,
     "metadata": {},
     "output_type": "execute_result"
    }
   ],
   "source": [
    "A * B"
   ]
  },
  {
   "cell_type": "code",
   "execution_count": 417,
   "id": "4f6c567c-1098-4378-b27d-2aaf409bce7c",
   "metadata": {},
   "outputs": [
    {
     "data": {
      "text/plain": [
       "matrix([[2., 2., 2., 2.],\n",
       "        [2., 2., 2., 2.],\n",
       "        [4., 4., 4., 4.],\n",
       "        [2., 2., 2., 2.]])"
      ]
     },
     "execution_count": 417,
     "metadata": {},
     "output_type": "execute_result"
    }
   ],
   "source": [
    "A"
   ]
  },
  {
   "cell_type": "code",
   "execution_count": 418,
   "id": "ee444618-16c5-4403-938b-f57cbb41a110",
   "metadata": {},
   "outputs": [
    {
     "data": {
      "text/plain": [
       "matrix([[2., 2., 4., 2.],\n",
       "        [2., 2., 4., 2.],\n",
       "        [2., 2., 4., 2.],\n",
       "        [2., 2., 4., 2.]])"
      ]
     },
     "execution_count": 418,
     "metadata": {},
     "output_type": "execute_result"
    }
   ],
   "source": [
    "np.transpose(A)"
   ]
  },
  {
   "cell_type": "code",
   "execution_count": 422,
   "id": "723f8c98-7de1-46a0-a5a8-ddd1024a0cc2",
   "metadata": {},
   "outputs": [],
   "source": [
    "x = np.linspace(0, 10, 100)\n",
    "y = 2 * x"
   ]
  },
  {
   "cell_type": "code",
   "execution_count": 424,
   "id": "4f8d7a8f-5097-4d20-8bfd-57a279172511",
   "metadata": {},
   "outputs": [
    {
     "data": {
      "image/png": "[encoded data removed]",
      "text/plain": [
       "<Figure size 640x480 with 1 Axes>"
      ]
     },
     "metadata": {},
     "output_type": "display_data"
    }
   ],
   "source": [
    "plt.scatter(x, y)\n",
    "plt.show()"
   ]
  },
  {
   "cell_type": "code",
   "execution_count": 426,
   "id": "5a15e948-2b03-4e54-9bee-af2ab5caed27",
   "metadata": {},
   "outputs": [],
   "source": [
    "# Fetching data from API using requests \n",
    "def fetch_data(url):\n",
    "    import requests\n",
    "    response = requests.get(url)\n",
    "    data = response.json()\n",
    "    return data"
   ]
  },
  {
   "cell_type": "code",
   "execution_count": 429,
   "id": "3d453f13-0052-45e5-bf62-65c0ee93ebcc",
   "metadata": {},
   "outputs": [],
   "source": [
    "url = 'https://api.thecatapi.com/v1/breeds'\n",
    "data = fetch_data(url)\n",
    "years = []\n",
    "for cat in data:\n",
    "    mn,mx = cat['life_span'].split(' - ')\n",
    "    average = (int(mn) + int(mx)) / 2\n",
    "    years.append(average)"
   ]
  },
  {
   "cell_type": "code",
   "execution_count": 431,
   "id": "aadea60f-87e4-46d3-950a-de56d936bf08",
   "metadata": {},
   "outputs": [],
   "source": [
    "arr = np.array(years)"
   ]
  },
  {
   "cell_type": "code",
   "execution_count": 432,
   "id": "830373b0-9d81-4e4d-9f22-6d04d0b6634c",
   "metadata": {},
   "outputs": [
    {
     "data": {
      "text/plain": [
       "13.746268656716419"
      ]
     },
     "execution_count": 432,
     "metadata": {},
     "output_type": "execute_result"
    }
   ],
   "source": [
    "arr.mean()"
   ]
  },
  {
   "cell_type": "code",
   "execution_count": 433,
   "id": "9292815f-fbed-4606-a897-614ef85c6fb6",
   "metadata": {},
   "outputs": [
    {
     "data": {
      "text/plain": [
       "10.5"
      ]
     },
     "execution_count": 433,
     "metadata": {},
     "output_type": "execute_result"
    }
   ],
   "source": [
    "arr.min()"
   ]
  },
  {
   "cell_type": "code",
   "execution_count": 434,
   "id": "dd14455e-da5e-4640-9604-e869ab3c371d",
   "metadata": {},
   "outputs": [
    {
     "data": {
      "text/plain": [
       "19.0"
      ]
     },
     "execution_count": 434,
     "metadata": {},
     "output_type": "execute_result"
    }
   ],
   "source": [
    "arr.max()"
   ]
  },
  {
   "cell_type": "code",
   "execution_count": 435,
   "id": "4c3e1fd8-4148-4ec3-a62b-d1c6c6c3d477",
   "metadata": {},
   "outputs": [
    {
     "data": {
      "text/plain": [
       "1.5725564658451314"
      ]
     },
     "execution_count": 435,
     "metadata": {},
     "output_type": "execute_result"
    }
   ],
   "source": [
    "arr.std()"
   ]
  },
  {
   "cell_type": "code",
   "execution_count": 436,
   "id": "330fbb35-3793-4e99-a158-324cb6995f59",
   "metadata": {},
   "outputs": [
    {
     "data": {
      "text/plain": [
       "2.47293383827133"
      ]
     },
     "execution_count": 436,
     "metadata": {},
     "output_type": "execute_result"
    }
   ],
   "source": [
    "arr.var()"
   ]
  },
  {
   "cell_type": "code",
   "execution_count": 438,
   "id": "14c70c28-05f8-4206-8523-179f7693f9b7",
   "metadata": {},
   "outputs": [
    {
     "data": {
      "text/plain": [
       "13.5"
      ]
     },
     "execution_count": 438,
     "metadata": {},
     "output_type": "execute_result"
    }
   ],
   "source": [
    "np.median(arr)"
   ]
  },
  {
   "cell_type": "code",
   "execution_count": null,
   "id": "3254bbc9-5467-493d-9c8b-69a81c5650b9",
   "metadata": {},
   "outputs": [],
   "source": []
  }
 ],
 "metadata": {
  "kernelspec": {
   "display_name": "Python 3 (ipykernel)",
   "language": "python",
   "name": "python3"
  },
  "language_info": {
   "codemirror_mode": {
    "name": "ipython",
    "version": 3
   },
   "file_extension": ".py",
   "mimetype": "text/x-python",
   "name": "python",
   "nbconvert_exporter": "python",
   "pygments_lexer": "ipython3",
   "version": "3.11.7"
  }
 },
 "nbformat": 4,
 "nbformat_minor": 5
}
